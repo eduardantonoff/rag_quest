{
 "cells": [
  {
   "cell_type": "markdown",
   "metadata": {},
   "source": [
    "# Texts + Embeddings "
   ]
  },
  {
   "cell_type": "code",
   "execution_count": 2,
   "metadata": {},
   "outputs": [],
   "source": [
    "# processing\n",
    "import re\n",
    "import os\n",
    "from langchain_core import documents\n",
    "from langchain_community.document_loaders import TextLoader\n",
    "from langchain.text_splitter import RecursiveCharacterTextSplitter\n",
    "\n",
    "# neo4j\n",
    "from neo4j import GraphDatabase\n",
    "from langchain_community.vectorstores import Neo4jVector\n",
    "\n",
    "# llm / gigachat\n",
    "from langchain_community.embeddings import GigaChatEmbeddings"
   ]
  },
  {
   "cell_type": "markdown",
   "metadata": {},
   "source": [
    "### Text Splitter"
   ]
  },
  {
   "cell_type": "code",
   "execution_count": 9,
   "metadata": {},
   "outputs": [],
   "source": [
    "class CustomTextSplitter:\n",
    "    def __init__(self, target_chunk_size=1000):\n",
    "        \n",
    "        self.target_chunk_size = target_chunk_size\n",
    "        self.source = ''\n",
    "        self.chunks = []\n",
    "        self.current_chunk = ''\n",
    "        self.dcts = []\n",
    "        self.bullet_name = ''\n",
    "        self.prev_bullet_name = ''\n",
    "        self.mode_list = ['bullet', 'line', 'space']\n",
    "        self.sep_dict = {'line': '\\n', 'space': ' '}\n",
    "        self.link_dict = {'bullet': '\\n', 'line': '\\n', 'space': ' '}\n",
    "        \n",
    "    def is_bullet(self, line):\n",
    "        # Проверка, начинается ли строка с буллита\n",
    "        return re.match(r'(\\d+(\\.\\d+)*\\.\\d+)\\.?', line.strip())\n",
    "    \n",
    "    def make_chunks(self, input_text, mode):\n",
    "        link = self.link_dict[mode] \n",
    "        if len(input_text) == 0:\n",
    "            return\n",
    "        if len(self.current_chunk) > 0:\n",
    "            # Если текущий чанк не пуст, проверяем, поместится ли туда текущий фрагмент\n",
    "            new_chunk = self.current_chunk + link + input_text\n",
    "            if len(new_chunk) <= self.target_chunk_size and mode != 'bullet':\n",
    "                    self.current_chunk = new_chunk\n",
    "            else:\n",
    "                # Сначала сохраняем текущий чанк, потом \n",
    "                # в текущий чанк записываем новый фрагмент\n",
    "                self.chunks.append(self.current_chunk)\n",
    "                dct = documents.base.Document(self.current_chunk)\n",
    "                dct.metadata = {'source': self.source}\n",
    "                # Записываем имя буллита чанка в метаданные\n",
    "                if mode == 'bullet':\n",
    "                    dct.metadata['bullet'] = self.prev_bullet_name\n",
    "                else:\n",
    "                    dct.metadata['bullet'] = self.bullet_name\n",
    "                self.dcts.append(dct)\n",
    "                self.current_chunk = ''\n",
    "                if len(input_text) <= self.target_chunk_size:\n",
    "                    self.current_chunk = input_text\n",
    "                else:\n",
    "                    # Текст не помещается в чанк целиком. Тогда определяем параметры нового \n",
    "                    # разбиения и вызываем рекурсивно этот же метод.\n",
    "                    next_mode, separator = self.prepare_for_new_split(mode)\n",
    "                    if next_mode is None:\n",
    "                        return\n",
    "                    else:\n",
    "                        for item in input_text.split(separator):\n",
    "                            self.make_chunks(item, next_mode)\n",
    "                        # После завершения разбиения сохраняем текущий чанк, если он не пуст.    \n",
    "                        if self.current_chunk != '':\n",
    "                            self.chunks.append(self.current_chunk)\n",
    "                            dct = documents.base.Document(self.current_chunk)\n",
    "                            # В текущей реализации в метаданные пишется имя последнего буллита чанка\n",
    "                            dct.metadata = {'source': self.source,'bullet': self.bullet_name}\n",
    "                            self.dcts.append(dct)\n",
    "                            self.current_chunk = ''\n",
    "        elif len(input_text) <= self.target_chunk_size:\n",
    "                self.current_chunk = input_text\n",
    "        else:\n",
    "            # Текст не помещается в чанк целиком. Тогда определяем параметры нового \n",
    "            # разбиения и вызываем рекурсивно этот же метод.            \n",
    "            next_mode, separator = self.prepare_for_new_split(mode)\n",
    "            if next_mode is None:\n",
    "                return\n",
    "            else:\n",
    "                for item in input_text.split(separator):\n",
    "                    self.make_chunks(item, next_mode)\n",
    "                # После завершения разбиения сохраняем текущий чанк, если он не пуст. \n",
    "                if self.current_chunk != '':\n",
    "                    self.chunks.append(self.current_chunk)\n",
    "                    dct = documents.base.Document(self.current_chunk)\n",
    "                    # Записываем имя буллита чанка в метаданные\n",
    "                    dct.metadata = {'source': self.source,'bullet': self.bullet_name}\n",
    "                    self.dcts.append(dct)\n",
    "                    self.current_chunk = ''\n",
    "    \n",
    "    def prepare_for_new_split(self, current_mode):\n",
    "        # Определяем параметры разбиения\n",
    "            next_mode_index = self.mode_list.index(current_mode) + 1\n",
    "            if next_mode_index < len(self.mode_list):\n",
    "                next_mode = self.mode_list[next_mode_index]\n",
    "                next_separator = self.sep_dict[next_mode]\n",
    "                return next_mode, next_separator\n",
    "            else:\n",
    "                return None, None\n",
    "            \n",
    "    def split_text(self, text, source):\n",
    "        bullet_chunks = []\n",
    "        current_bullet_chunk = ''\n",
    "        self.source = os.path.splitext(os.path.basename(source))[0]\n",
    "        # Разбиваем исходный текст на куски, каждый из которых (кроме первого) \n",
    "        # начинается с буллита\n",
    "        lines = text.split(\"\\n\")\n",
    "        for line in lines:\n",
    "            if len(line) > 0:\n",
    "                if self.is_bullet(line):\n",
    "                    if len(current_bullet_chunk) > 0:\n",
    "                        bullet_chunks.append(current_bullet_chunk)\n",
    "                    current_bullet_chunk = line      \n",
    "                elif len(current_bullet_chunk) > 0:\n",
    "                    current_bullet_chunk = current_bullet_chunk + '\\n' + line\n",
    "                else:\n",
    "                    current_bullet_chunk = line     \n",
    "        bullet_chunks.append(current_bullet_chunk)\n",
    "        # Для каждого буллита сохраняем его имя (=номер) и вызываем метод разбивки на чанки\n",
    "        for bc in bullet_chunks:\n",
    "            if len(bc) > 0:\n",
    "                self.prev_bullet_name = self.bullet_name\n",
    "                if self.is_bullet(bc):\n",
    "                    self.bullet_name = self.is_bullet(bc).group()\n",
    "                else:\n",
    "                    self.bullet_name = bc.split()[0]\n",
    "                self.make_chunks(bc, 'bullet')\n",
    "                \n",
    "        return self.dcts"
   ]
  },
  {
   "cell_type": "markdown",
   "metadata": {},
   "source": [
    "## Splitting Texts"
   ]
  },
  {
   "cell_type": "code",
   "execution_count": 109,
   "metadata": {},
   "outputs": [],
   "source": [
    "path = 'Закупка у ЕдП Приложение 2.txt'"
   ]
  },
  {
   "cell_type": "code",
   "execution_count": 110,
   "metadata": {},
   "outputs": [],
   "source": [
    "loader = TextLoader(path, encoding = 'UTF-8')\n",
    "text_documents = loader.load()"
   ]
  },
  {
   "cell_type": "code",
   "execution_count": 111,
   "metadata": {},
   "outputs": [
    {
     "data": {
      "text/plain": [
       "[Document(page_content='1. Организация закупок для оказания услуг по авторскому контролю за разработкой проектной документации', metadata={'source': 'Закупка у ЕдП Приложение 2', 'bullet': '1.'}),\n",
       " Document(page_content='1.1. При проведении закупок для оказания услуг по авторскому контролю за разработкой проектной документации при НМЦ договора менее 10 млн руб. без НДС Инициатор оформляет комплект документов в соответствии с шаблоном (Ш-03.03.02.01-04).', metadata={'source': 'Закупка у ЕдП Приложение 2', 'bullet': '1.1.'}),\n",
       " Document(page_content='1.1.1. Реестр планируемых в предстоящем квартале закупок формируется и согласовывается: − в КЦ: на уровне Заместителя генерального директора по профилю деятельности / Руководителя структурного подразделения прямого подчинения Генеральному директору ПАО «Компания 1», − в Обществе Компания 1: на уровне Руководителя Общества. ', metadata={'source': 'Закупка у ЕдП Приложение 2', 'bullet': '1.1.1.'})]"
      ]
     },
     "execution_count": 111,
     "metadata": {},
     "output_type": "execute_result"
    }
   ],
   "source": [
    "splitter = CustomTextSplitter()\n",
    "split_documents = splitter.split_text(text_documents[0].page_content, text_documents[0].metadata['source'])\n",
    "split_documents[:3]"
   ]
  },
  {
   "cell_type": "code",
   "execution_count": 112,
   "metadata": {},
   "outputs": [
    {
     "data": {
      "text/plain": [
       "[Document(page_content='1. Организация закупок для оказания услуг по авторскому контролю за разработкой проектной документации\\n1.1. При проведении закупок для оказания услуг по авторскому контролю за разработкой проектной документации при НМЦ договора менее 10 млн руб. без НДС Инициатор оформляет комплект документов в соответствии с шаблоном (Ш-03.03.02.01-04).\\n1.1.1. Реестр планируемых в предстоящем квартале закупок формируется и согласовывается: − в КЦ: на уровне Заместителя генерального директора по профилю деятельности / Руководителя структурного подразделения прямого подчинения Генеральному директору ПАО «Компания 1», − в Обществе Компания 1: на уровне Руководителя Общества. \\n1.1.2. На основании согласованного реестра закупок Инициатор в КЦ / Обществе Компания 1 осуществляет заключение договора с единственным поставщиком (подрядчиком, исполнителем).', metadata={'source': 'Закупка у ЕдП Приложение 2'}),\n",
       " Document(page_content='1.2. При проведении закупок для оказания услуг по авторскому контролю за разработкой проектной документации при НМЦ договора 10 млн руб. без НДС и более Инициатор также оформляет комплект документов в соответствии с шаблоном (Ш-03.03.02.01-04).\\n1.2.1. При этом согласованный комплект документов направляется Инициатором43 в БОРиУ или иное подразделение, назначенное ЦОУЗ, не менее, чем за 10 (десять) рабочих дней до начала предстоящего квартала.\\n1.2.2. По результатам рассмотрения комплекта документов о закупке у единственного поставщика (подрядчика, исполнителя) БОРиУ или иное подразделение, назначенное ЦОУЗ, информирует Инициатора / Закупочное подразделение о принятом решении.\\n2. Организация закупок для заключения договоров на поставку товаров, выполнение работ, оказание услуг, связанных с системами безопасности', metadata={'source': 'Закупка у ЕдП Приложение 2'}),\n",
       " Document(page_content='2.1. Сформированная потребность по закупкам, связанным с системами безопасности, подлежит обязательному согласованию с Дирекцией корпоративной защиты ПАО «Компания 1» (оформляется в соответствии с Ш-03.03.02.01-09).\\n2.2. В срок не позднее 6 (шести) месяцев до планируемой даты поставки товаров, выполнения работ, оказания услуг Инициатор формирует и направляет в Дирекцию корпоративной защиты ПАО «Компания 1» комплект документов в соответствии с шаблоном (Ш-03.03.02.01-10).\\n2.3. После согласования комплекта документов Дирекцией корпоративной защиты Инициатор формирует комплект документов о закупке у ЕдП (Операция 01) или (при необходимости) вносит корректировки в ГПЗ в соответствии с СК-03.02.01 «Формирование ГПЗ». На основании записи ГПЗ закупка у единственного поставщика (подрядчика, исполнителя) осуществляется в соответствии с установленным настоящим стандартом порядком.', metadata={'source': 'Закупка у ЕдП Приложение 2'})]"
      ]
     },
     "execution_count": 112,
     "metadata": {},
     "output_type": "execute_result"
    }
   ],
   "source": [
    "text_splitter = RecursiveCharacterTextSplitter(chunk_size=1000, chunk_overlap=50)\n",
    "split_documents = text_splitter.split_documents(text_documents)\n",
    "\n",
    "for chunk in split_documents:\n",
    "    # Get the 'source' metadata\n",
    "    source = chunk.metadata['source']\n",
    "    # Remove the '.txt' extension\n",
    "    source = source.replace('.txt', '')\n",
    "    # Update the 'source' metadata\n",
    "    chunk.metadata['source'] = source\n",
    "    \n",
    "split_documents[:3]"
   ]
  },
  {
   "cell_type": "markdown",
   "metadata": {},
   "source": [
    "## DB Neo4J"
   ]
  },
  {
   "cell_type": "code",
   "execution_count": 3,
   "metadata": {},
   "outputs": [],
   "source": [
    "# Neo4j\n",
    "NEO4J_URI=\"neo4j+ssc://7c47bfc7.databases.neo4j.io\"\n",
    "NEO4J_USERNAME=\"neo4j\"\n",
    "NEO4J_PASSWORD=\"LeyLlAzlYwLgQD4EYylA9vBXNb7q-TdLVahd_64r3bg\"\n",
    "NEO4J_DATABASE=\"neo4j\"\n",
    "\n",
    "# GigaChat\n",
    "LLM_SCOPE = \"GIGACHAT_API_PERS\"\n",
    "LLM_AUTH =\"NmNiNzcwZDgtMjI1MC00NWQ0LWJjMDEtNTQ1ZTQ3MmE4NDllOjRmNWVkYTUwLTQ3NjgtNGNkZC05M2Q0LTFiMWNmODZmOGMyOQ==\""
   ]
  },
  {
   "cell_type": "code",
   "execution_count": 4,
   "metadata": {},
   "outputs": [],
   "source": [
    "embeddings = GigaChatEmbeddings(credentials=LLM_AUTH, verify_ssl_certs=False)"
   ]
  },
  {
   "cell_type": "code",
   "execution_count": null,
   "metadata": {},
   "outputs": [],
   "source": [
    "import pickle\n",
    "\n",
    "with open('collections.pkl', 'rb') as f:\n",
    "    collections = pickle.load(f)"
   ]
  },
  {
   "cell_type": "code",
   "execution_count": 120,
   "metadata": {},
   "outputs": [],
   "source": [
    "vectorestore = Neo4jVector.from_documents(collections,\n",
    "                                          embeddings,\n",
    "                                          url = NEO4J_URI,\n",
    "                                          username = NEO4J_USERNAME,\n",
    "                                          password = NEO4J_PASSWORD,\n",
    "                                          node_label = \"Bullet\",\n",
    "                                          index_name = \"bullet\",\n",
    "                                          keyword_index_name = \"word\",\n",
    "                                          text_node_property = \"text\",\n",
    "                                          embedding_node_property = \"embedding\",\n",
    "                                          search_type = 'hybrid',\n",
    "                                          create_id_index = True,\n",
    "                                         )"
   ]
  },
  {
   "cell_type": "code",
   "execution_count": 7,
   "metadata": {},
   "outputs": [],
   "source": [
    "vectorestore = Neo4jVector.from_existing_index(embeddings,\n",
    "                                               url = NEO4J_URI,\n",
    "                                               username = NEO4J_USERNAME,\n",
    "                                               password = NEO4J_PASSWORD,\n",
    "                                               node_label = \"Bullet\",\n",
    "                                               index_name = \"bullet\",\n",
    "                                               keyword_index_name = \"word\",\n",
    "                                               text_node_property = \"text\",\n",
    "                                               search_type = \"hybrid\")"
   ]
  },
  {
   "cell_type": "code",
   "execution_count": 8,
   "metadata": {},
   "outputs": [
    {
     "name": "stdout",
     "output_type": "stream",
     "text": [
      "bullet\n",
      "Bullet\n",
      "word\n",
      "embedding\n"
     ]
    }
   ],
   "source": [
    "print(vectorestore.index_name)\n",
    "print(vectorestore.node_label)\n",
    "print(vectorestore.keyword_index_name)\n",
    "print(vectorestore.embedding_node_property)"
   ]
  }
 ],
 "metadata": {
  "kernelspec": {
   "display_name": ".venv",
   "language": "python",
   "name": "python3"
  },
  "language_info": {
   "codemirror_mode": {
    "name": "ipython",
    "version": 3
   },
   "file_extension": ".py",
   "mimetype": "text/x-python",
   "name": "python",
   "nbconvert_exporter": "python",
   "pygments_lexer": "ipython3",
   "version": "3.11.4"
  }
 },
 "nbformat": 4,
 "nbformat_minor": 2
}
