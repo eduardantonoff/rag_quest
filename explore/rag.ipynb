{
 "cells": [
  {
   "cell_type": "markdown",
   "metadata": {},
   "source": [
    "# RAG "
   ]
  },
  {
   "cell_type": "markdown",
   "metadata": {},
   "source": [
    "#### Libraries"
   ]
  },
  {
   "cell_type": "code",
   "execution_count": 481,
   "metadata": {},
   "outputs": [],
   "source": [
    "# processing:\n",
    "import os\n",
    "import re\n",
    "import pandas as pd\n",
    "import numpy as np\n",
    "from dotenv import load_dotenv\n",
    "from sklearn.metrics.pairwise import cosine_similarity\n",
    "\n",
    "# neo4j:\n",
    "from langchain_community.graphs import Neo4jGraph\n",
    "from langchain_community.vectorstores import Neo4jVector\n",
    "\n",
    "# llm:\n",
    "from langchain.chat_models.gigachat import GigaChat\n",
    "from langchain_community.embeddings import GigaChatEmbeddings\n",
    "from langchain.prompts import ChatPromptTemplate\n",
    "from langchain_core.output_parsers import StrOutputParser\n",
    "\n",
    "# retrieval:\n",
    "from langchain.chains import RetrievalQAWithSourcesChain\n",
    "\n",
    "# telegram:\n",
    "import telebot\n",
    "from time import sleep"
   ]
  },
  {
   "cell_type": "markdown",
   "metadata": {},
   "source": [
    "#### .env"
   ]
  },
  {
   "cell_type": "code",
   "execution_count": 482,
   "metadata": {},
   "outputs": [
    {
     "data": {
      "text/plain": [
       "True"
      ]
     },
     "execution_count": 482,
     "metadata": {},
     "output_type": "execute_result"
    }
   ],
   "source": [
    "load_dotenv()"
   ]
  },
  {
   "cell_type": "code",
   "execution_count": 483,
   "metadata": {},
   "outputs": [],
   "source": [
    "# neo4j:\n",
    "NEO4J_URI = os.getenv('NEO4J_URI')\n",
    "NEO4J_USERNAME = os.getenv('NEO4J_USERNAME')\n",
    "NEO4J_PASSWORD = os.getenv('NEO4J_PASSWORD')\n",
    "NEO4J_DATABASE= os.getenv('NEO4J_DATABASE')\n",
    "\n",
    "# llm:\n",
    "GIGACHAT_SCOPE = os.getenv('SCOPE')\n",
    "GIGACHAT_AUTH = os.getenv('AUTH_DATA')\n",
    "\n",
    "# telegram:\n",
    "BOT_TOKEN = os.getenv('BOT_TOKEN')"
   ]
  },
  {
   "cell_type": "markdown",
   "metadata": {},
   "source": [
    "#### Reference"
   ]
  },
  {
   "cell_type": "code",
   "execution_count": 484,
   "metadata": {},
   "outputs": [],
   "source": [
    "reference = pd.read_excel('../docs/reference.xlsx')"
   ]
  },
  {
   "cell_type": "markdown",
   "metadata": {},
   "source": [
    "## Setting Up Database"
   ]
  },
  {
   "cell_type": "code",
   "execution_count": 485,
   "metadata": {},
   "outputs": [],
   "source": [
    "embeddings = GigaChatEmbeddings(credentials = GIGACHAT_AUTH, verify_ssl_certs = False)"
   ]
  },
  {
   "cell_type": "code",
   "execution_count": 486,
   "metadata": {},
   "outputs": [],
   "source": [
    "vectorestore = Neo4jVector.from_existing_index(embeddings,\n",
    "                                               url = NEO4J_URI,\n",
    "                                               username = NEO4J_USERNAME,\n",
    "                                               password = NEO4J_PASSWORD,\n",
    "                                               index_name = \"Document\",\n",
    "                                               node_label = \"Document\" ,\n",
    "                                               keyword_index_name = \"keywords\",\n",
    "                                               search_type = \"hybrid\")"
   ]
  },
  {
   "cell_type": "code",
   "execution_count": 487,
   "metadata": {},
   "outputs": [],
   "source": [
    "graph = Neo4jGraph(url = NEO4J_URI, username = NEO4J_USERNAME, password = NEO4J_PASSWORD, database = NEO4J_DATABASE)"
   ]
  },
  {
   "cell_type": "markdown",
   "metadata": {},
   "source": [
    "## Setting Up LLM\n"
   ]
  },
  {
   "cell_type": "code",
   "execution_count": 488,
   "metadata": {},
   "outputs": [],
   "source": [
    "llm = GigaChat(model = \"GigaChat-Pro\", # \"GigaChat-Pro\" / \"GigaChat-Plus\" (32k)\n",
    "               temperature = 0.3,\n",
    "               top_p = 0.2,\n",
    "               n = 1,\n",
    "               repetition_penalty = 1,\n",
    "               credentials = GIGACHAT_AUTH, \n",
    "               verify_ssl_certs = False)"
   ]
  },
  {
   "cell_type": "code",
   "execution_count": 489,
   "metadata": {},
   "outputs": [],
   "source": [
    "parser = StrOutputParser()"
   ]
  },
  {
   "cell_type": "markdown",
   "metadata": {},
   "source": [
    "## Prompt Engineering"
   ]
  },
  {
   "cell_type": "markdown",
   "metadata": {},
   "source": [
    "#### Prompt Template"
   ]
  },
  {
   "cell_type": "code",
   "execution_count": 490,
   "metadata": {},
   "outputs": [],
   "source": [
    "template = \"\"\"\n",
    "            Задача: Предоставлять детализированные ответы, используя указанные документы.\n",
    "\n",
    "            Цитируйте конкретные пункты и статьи документов при ответе на вопросы, связанные с правилами.\n",
    "            Объясните применение документов. Не повторяйте информацию и формулируйте ответы грамотно.\n",
    "\n",
    "            Запрос: \"{question}\"\n",
    "            Документы: \"{context}\"\n",
    "            \n",
    "            Ответ: Ответ должен содержать не более 200 слов и включать финальный вывод.\n",
    "            \"\"\"\n",
    "\n",
    "prompt = ChatPromptTemplate.from_template(template)"
   ]
  },
  {
   "cell_type": "markdown",
   "metadata": {},
   "source": [
    "#### Question Extraction"
   ]
  },
  {
   "cell_type": "code",
   "execution_count": 491,
   "metadata": {},
   "outputs": [],
   "source": [
    "def extract_question(text):\n",
    "    \n",
    "    chain = llm | parser\n",
    "\n",
    "    template = f\"\"\"\n",
    "            Задача: Идентифицировать вопросы в предоставленном тексте.\n",
    "\n",
    "            Текст запроса: \"{text}\"\n",
    "            \n",
    "            Анализируйте текст и выделяйте явные вопросы. Если в тексте нет вопросов, сформулируйте их на основе имеющейся информации.\n",
    "            Результаты представьте как список вопросов, разделенных запятыми. Стремитесь к ясности и краткости.\n",
    "                \n",
    "            Ответ должен быть конкретным и содержать все ключевые аспекты, без дополнительных комментариев.\n",
    "            \"\"\"\n",
    "    \n",
    "    return chain.invoke(template).replace('/', ' ')"
   ]
  },
  {
   "cell_type": "markdown",
   "metadata": {},
   "source": [
    "### Utilities"
   ]
  },
  {
   "cell_type": "code",
   "execution_count": 492,
   "metadata": {},
   "outputs": [],
   "source": [
    "def find_relevant_bullets(inquiry):\n",
    "    match = re.search(r'(\\d+\\.\\d+)(?:\\.\\d+)?', inquiry)\n",
    "    \n",
    "    if match:\n",
    "        number = match.group(1)\n",
    "        \n",
    "        cypher = f\"\"\"\n",
    "                    MATCH (n:Document)\n",
    "                    WHERE n.bullet STARTS WITH '{number}'\n",
    "                    RETURN n.text\n",
    "                    \"\"\"\n",
    "    \n",
    "        mentioned_bullets = graph.query(cypher)\n",
    "        \n",
    "        if mentioned_bullets:\n",
    "            texts = [bullet['n.text'] for bullet in mentioned_bullets]\n",
    "            \n",
    "            all_embeddings = [embeddings.embed_query(text) for text in texts] + [embeddings.embed_query(inquiry)]\n",
    "            inquiry_embedding = all_embeddings[-1]\n",
    "            bullet_embeddings = all_embeddings[:-1]\n",
    "            \n",
    "            similarities = cosine_similarity([inquiry_embedding], bullet_embeddings)[0]\n",
    "            top_indices = np.argsort(similarities)[::-1][:3]\n",
    "            top_texts = [texts[i] for i in top_indices]\n",
    "            \n",
    "            return top_texts\n",
    "        else:\n",
    "            return \"Отсутствуют\"\n",
    "    else:\n",
    "        return \"Отсутствуют\""
   ]
  },
  {
   "cell_type": "markdown",
   "metadata": {},
   "source": [
    "## LLM Retrival Chain"
   ]
  },
  {
   "cell_type": "markdown",
   "metadata": {},
   "source": [
    "#### Chain"
   ]
  },
  {
   "cell_type": "code",
   "execution_count": 493,
   "metadata": {},
   "outputs": [],
   "source": [
    "retriever = vectorestore.as_retriever(search_kwargs={\"k\": 5, 'score_threshold': 0.9, 'lambda_mult': 0.25})"
   ]
  },
  {
   "cell_type": "code",
   "execution_count": 494,
   "metadata": {},
   "outputs": [],
   "source": [
    "chain = RetrievalQAWithSourcesChain.from_chain_type(llm, # pro / plus\n",
    "                                                    chain_type = \"stuff\", # \"stuff\" / \"map_rerank\" / \"refine\"\n",
    "                                                    retriever = retriever,\n",
    "                                                    return_source_documents = True,\n",
    "                                                    reduce_k_below_max_tokens = False,\n",
    "                                                    max_tokens_limit = 8000, # up to 32k with plus model\n",
    "                                                    chain_type_kwargs = {\"verbose\": False,\n",
    "                                                                         \"prompt\": prompt,\n",
    "                                                                         \"document_variable_name\": \"context\"})"
   ]
  },
  {
   "cell_type": "markdown",
   "metadata": {},
   "source": [
    "##### Outputs"
   ]
  },
  {
   "cell_type": "code",
   "execution_count": 495,
   "metadata": {},
   "outputs": [
    {
     "data": {
      "text/plain": [
       "'Для ответа на вопросы необходимо обратиться к указанным документам.\\n\\n1. Для договора, предполагающего работу по гарантированному и негарантированному объему, необходимо указать категорию \"Рамочный договор\".\\n2. В приложении 1 не требуется добавлять формулировку о переводе негарантированного объема в гарантированный, так как это не предусмотрено указанными документами.\\n3. Для пункта 5.4 рамочного договора рекомендуется использовать формулировку, определяющую единичные расценки и максимальную цену договора, а также указывающую на то, что номенклатура, объем, сроки и место поставки товаров (выполнения работ, оказания услуг) могут определяться заявками заказчика или иным образом, предусмотренным рамочным договором при возникновении потребности в товарах (работах, услугах).\\n4. Изменения в формулировке пункта 5.4 для договора, прошедшего закупочную процедуру и согласование закупки, могут быть критичными, так как они могут повлиять на условия договора и привести к его недействительности.\\n\\nВ целом, для ответа на вопросы необходимо обратиться к указанным документам и учитывать их требования и рекомендации.'"
      ]
     },
     "execution_count": 495,
     "metadata": {},
     "output_type": "execute_result"
    }
   ],
   "source": [
    "letter = 19\n",
    "\n",
    "inquiry = str(reference['letter'][letter-1].replace('\\n', ' '))\n",
    "question = extract_question(inquiry)\n",
    "\n",
    "response = chain.invoke({\"question\": extract_question(inquiry)}, return_only_outputs = False)\n",
    "response['answer']"
   ]
  },
  {
   "cell_type": "code",
   "execution_count": 496,
   "metadata": {},
   "outputs": [
    {
     "data": {
      "text/plain": [
       "['5.11. При закупках товаров (работ, услуг), когда невозможно заранее определить точный объем, конкретные сроки, место поставки товаров (выполнения работ, оказания услуг), но могут быть определены единичные расценки (прейскурант) на такие товары (работы, услуги), а также предельная стоимость и/или предельный объем закупки, Заказчиком может быть применен рамочный или прейскурантный договор. При этом условиями рамочного или прейскурантного договора определяются единичные расценки (прейскурант) и максимальная цена договора, иные условия договора, а номенклатура, объем, сроки и место поставки товаров (выполнения работ, оказания услуг) могут определяться заявками Заказчика или иным образом, предусмотренным рамочным или прейскурантным договором при возникновении у Заказчика потребности в товарах (работах, услугах).',\n",
       " 'использования в описании предмета закупки указания на товарный знак необходимо использовать слова «(или эквивалент)», за исключением случаев: 1) несовместимости товаров, на которых размещаются другие товарные знаки, и необходимости обеспечения взаимодействия таких товаров с товарами, используемыми заказчиком; 2) закупок запасных частей и расходных материалов к машинам и оборудованию, используемым заказчиком, в соответствии с технической документацией на указанные машины и оборудование; 3) закупок товаров, необходимых для исполнения государственного или муниципального контракта; 4) закупок с указанием конкретных товарных знаков, знаков обслуживания, патентов, полезных моделей, промышленных образцов, места происхождения товара, изготовителя товара, если это предусмотрено условиями международных договоров Российской Федерации или условиями договоров Обществ Компания 1, в целях исполнения предприятиями Обществ Компания 1 обязательств по заключенным договорам с юридическими лицами, в том чи',\n",
       " '4.5.10. Цены, используемые в расчетах начальной (максимальной) цены  договора (предмета закупки), должны быть приведены в соответствие с условиями планируемой закупки, в отношении которой определяется начальная  (максимальная) цена договора (предмета закупки), с помощью коэффициентов или  индексов для пересчета цен товаров (работ, услуг) с учетом различий в  характеристиках товаров, коммерческих и (или) финансовых условий поставок  товаров (выполнения работ, оказания услуг). Перечень и значимость указанных  коэффициентов, используемых при расчетах, рекомендуется определять, в том  числе на основании результатов анализа цен на идентичные (однородные) товары  (работы, услуги), полученные в соответствии с пунктом 4.5.5. С помощью  указанных коэффициентов в том числе могут быть учтены следующие условия: срок исполнения контракта; количество товара, объем работ (услуг); наличие и размер аванса по договору; место поставки; срок и объем гарантии качества; изменение базовой номенклатуры (компл',\n",
       " '4.5.3.2. Работы, услуги, которые, не являясь идентичными, имеют сходные  характеристики, что позволяет им быть коммерчески и (или) функционально  взаимозаменяемыми. При определении однородности работ, услуг учитываются их  качество, репутация на рынке, а также вид работ, услуг, их объем, уникальность и  коммерческая взаимозаменяемость. \\n4.5.4 Если предполагаемые к закупке товары (работы, услуги) не представлены  на соответствующем рынке товаров (работ, услуг) и (или) данные о рыночных ценах  таких товаров (работ, услуг) в источниках информации отсутствуют, начальная  (максимальная) цена договора определяется на основе цен однородных товаров  (работ, услуг) с последующей корректировкой с учётом разницы в характеристиках  товаров (работ, услуг). При этом производится сбор данных о ценах на отдельные  составные элементы, входящие в требуемую комплектацию товара, на единичные  работы (услуги) которые в целом представляют выполнение требуемой работы (услуги). \\n4.5.5 В целях получения ценово',\n",
       " '5.3.4. Корректировка записей ГПЗ должна осуществляться в следующих случаях: 1) изменение предмета закупки / предмета договора (кроме случаев отмены потребности в первоначальной закупке); 2) изменение объема закупаемых товаров (работ, услуг); 3) изменение месяца инициации закупки на более поздний месяц в пределах года планирования;  4) изменение способа закупки; 5) изменение формы закупки (Изменения с бумажной на электронную форму проведения закупок и наоборот. Изменения с открытой на закрытую форму проведения закупок и наоборот). 6) изменение Организатора / Координатора закупки; 7) разделение на лоты / процедуры, объединение в один лот / процедуру; 8) изменение кода услуги; 9) изменение категории закупки;']"
      ]
     },
     "execution_count": 496,
     "metadata": {},
     "output_type": "execute_result"
    }
   ],
   "source": [
    "source_documents = [doc.page_content for doc in response['source_documents']]\n",
    "source_documents"
   ]
  },
  {
   "cell_type": "code",
   "execution_count": 497,
   "metadata": {},
   "outputs": [
    {
     "data": {
      "text/plain": [
       "['5.11', '7.2.1.3', '4.5.10', '4.5.3.2', '5.3.4']"
      ]
     },
     "execution_count": 497,
     "metadata": {},
     "output_type": "execute_result"
    }
   ],
   "source": [
    "bullets = [doc.metadata['bullet'] for doc in response['source_documents']]\n",
    "bullets"
   ]
  },
  {
   "cell_type": "code",
   "execution_count": 498,
   "metadata": {},
   "outputs": [
    {
     "data": {
      "text/plain": [
       "['5.4.1. При НМЦ планируемого к заключению договора менее 10 млн руб. без НДС: для Обществ Компания 1: решение о закупке у единственного поставщика (подрядчика, исполнителя) принимается Руководителем Общества Компания 1 (На время отсутствия Руководителя Общества Компания 1, полномочия по принятию решения могут быть возложены на лицо, исполняющее его обязанности на основании соответствующего приказа, при этом делегирование полномочий не предусмотрено. ) . для подразделений КЦ: решение о закупке у единственного поставщика (подрядчика, исполнителя) принимается Заместителем Генерального директора по профилю деятельности или Руководителем структурного подразделения прямого подчинения Генеральному директору ПАО «Компания 1» (На время отсутствия ЗГД по профилю деятельности / Руководителя СП ПП ГД ПАО «Компания 1» полномочия по принятию решения могут быть возложены на лицо, исполняющее его обязанности на основании соответствующего приказа, при этом делегирование полномочий не предусмотрено. ) .',\n",
       " '5.4.2. При НМЦ планируемого к заключению договора 10 млн руб. без НДС и более возможность вынесения на утверждение вопроса о проведении закупки у единственного поставщика (подрядчика, исполнителя) рассматривает Сметная комиссия ПАО «Компания 1». По результатам рассмотрения Сметной комиссией ПАО «Компания 1» возможности вынесения на утверждение вопроса о проведении закупки у единственного поставщика (подрядчика, исполнителя) решение о заключении договора с единственным поставщиком (подрядчиком, исполнителем) принимает Утверждающее лицо, в соответствии с п.4.1 настоящего стандарта.',\n",
       " '5.4. Уровень принятия решения о закупке у единственного поставщика (подрядчика, исполнителя)']"
      ]
     },
     "execution_count": 498,
     "metadata": {},
     "output_type": "execute_result"
    }
   ],
   "source": [
    "mentioned_bullets = find_relevant_bullets(inquiry)\n",
    "mentioned_bullets"
   ]
  },
  {
   "cell_type": "markdown",
   "metadata": {},
   "source": [
    "## Test"
   ]
  },
  {
   "cell_type": "markdown",
   "metadata": {},
   "source": [
    "#### Telegram"
   ]
  },
  {
   "cell_type": "code",
   "execution_count": 499,
   "metadata": {},
   "outputs": [],
   "source": [
    "user_conversations = {}\n",
    "bot = telebot.TeleBot(BOT_TOKEN)"
   ]
  },
  {
   "cell_type": "code",
   "execution_count": 500,
   "metadata": {},
   "outputs": [],
   "source": [
    "@bot.message_handler(content_types=['audio', 'video', 'document', 'photo', 'sticker', 'voice', 'location', 'contact'])\n",
    "def not_text(message):\n",
    "    user_id = message.chat.id\n",
    "    bot.send_message(user_id, 'Я работаю только с текстовыми сообщениями!')\n",
    "\n",
    "@bot.message_handler(content_types=['text'])\n",
    "\n",
    "def handle_text_message(message):\n",
    "    user_id = message.chat.id\n",
    "    extracted_question = extract_question(message.text)\n",
    "\n",
    "    response = chain.invoke({\"question\": extracted_question}, return_only_outputs = False)\n",
    "\n",
    "    bot.send_message(user_id, str(response['answer']))\n",
    "    sleep(2)"
   ]
  },
  {
   "cell_type": "code",
   "execution_count": 501,
   "metadata": {},
   "outputs": [],
   "source": [
    "bot.polling(none_stop=True)"
   ]
  },
  {
   "cell_type": "markdown",
   "metadata": {},
   "source": [
    "#### Responses"
   ]
  },
  {
   "cell_type": "code",
   "execution_count": null,
   "metadata": {},
   "outputs": [],
   "source": [
    "responses = pd.DataFrame(columns = ['letter', 'extracted questions', 'answer', 'rag answer', 'sources', 'mentioned bullets'])\n",
    "\n",
    "for letter in range(1, 21):\n",
    "\n",
    "    inquiry = str(reference['letter'][letter-1].replace('\\n', ' ')) # letters from excel\n",
    "    refer = str(reference['answer '][letter-1]).replace('\\n', ' ') # reference answer from excel\n",
    "\n",
    "    question = extract_question(inquiry)\n",
    "    response = chain.invoke({\"question\": question}, return_only_outputs = False)\n",
    "    rag_answer = response['answer']\n",
    "    sources = [doc.metadata['bullet'] for doc in response['source_documents']]\n",
    "    mentioned_bullets= str(find_relevant_bullets(inquiry)).replace('/', ' ')\n",
    "\n",
    "    responses = pd.concat([responses, pd.DataFrame({'letter': [inquiry], \n",
    "                                                    'extracted questions': [question], \n",
    "                                                    'answer': [refer], \n",
    "                                                    'rag answer': [rag_answer], \n",
    "                                                    'sources': [sources],\n",
    "                                                    'mentioned bullets': [mentioned_bullets]})\n",
    "                                                    ], ignore_index = True)"
   ]
  },
  {
   "cell_type": "code",
   "execution_count": null,
   "metadata": {},
   "outputs": [
    {
     "data": {
      "text/html": [
       "<div>\n",
       "<style scoped>\n",
       "    .dataframe tbody tr th:only-of-type {\n",
       "        vertical-align: middle;\n",
       "    }\n",
       "\n",
       "    .dataframe tbody tr th {\n",
       "        vertical-align: top;\n",
       "    }\n",
       "\n",
       "    .dataframe thead th {\n",
       "        text-align: right;\n",
       "    }\n",
       "</style>\n",
       "<table border=\"1\" class=\"dataframe\">\n",
       "  <thead>\n",
       "    <tr style=\"text-align: right;\">\n",
       "      <th></th>\n",
       "      <th>letter</th>\n",
       "      <th>extracted questions</th>\n",
       "      <th>answer</th>\n",
       "      <th>rag answer</th>\n",
       "      <th>sources</th>\n",
       "      <th>mentioned documents</th>\n",
       "    </tr>\n",
       "  </thead>\n",
       "  <tbody>\n",
       "    <tr>\n",
       "      <th>0</th>\n",
       "      <td>Уважаемые коллеги,  Добрый день! У меня возник...</td>\n",
       "      <td>1. Допустимо ли при расчете НМЦ указывать орие...</td>\n",
       "      <td>Согласно пункту 5.11 ПоЗ, при закупках товаров...</td>\n",
       "      <td>1. В соответствии с документами, при расчете Н...</td>\n",
       "      <td>[3.1, 5.11, 4.5.13, 4.5.16, 4.5.16]</td>\n",
       "      <td>Отсутствуют</td>\n",
       "    </tr>\n",
       "    <tr>\n",
       "      <th>1</th>\n",
       "      <td>Уважаемые коллеги,  Обращаюсь с вопросом: При ...</td>\n",
       "      <td>1. При осуществлении закупки у единственного п...</td>\n",
       "      <td>Согласно СК-03.03.02.01 Проведение закупки у е...</td>\n",
       "      <td>При осуществлении закупки у единственного пост...</td>\n",
       "      <td>[1.6, 5.3.6, 1.1, 4.1, 17.2]</td>\n",
       "      <td>Отсутствуют</td>\n",
       "    </tr>\n",
       "    <tr>\n",
       "      <th>2</th>\n",
       "      <td>Уважаемые коллеги,  У меня вопрос, связанный с...</td>\n",
       "      <td>1. Может ли быть заключен договор с участником...</td>\n",
       "      <td>пункт 17.1.8. в случае, когда на участие в кон...</td>\n",
       "      <td>1. Да, договор может быть заключен с участнико...</td>\n",
       "      <td>[13.2.3, 14.5.1, 10.5.1, 14.12.6, 14.2.3]</td>\n",
       "      <td>Отсутствуют</td>\n",
       "    </tr>\n",
       "  </tbody>\n",
       "</table>\n",
       "</div>"
      ],
      "text/plain": [
       "                                              letter  \\\n",
       "0  Уважаемые коллеги,  Добрый день! У меня возник...   \n",
       "1  Уважаемые коллеги,  Обращаюсь с вопросом: При ...   \n",
       "2  Уважаемые коллеги,  У меня вопрос, связанный с...   \n",
       "\n",
       "                                 extracted questions  \\\n",
       "0  1. Допустимо ли при расчете НМЦ указывать орие...   \n",
       "1  1. При осуществлении закупки у единственного п...   \n",
       "2  1. Может ли быть заключен договор с участником...   \n",
       "\n",
       "                                              answer  \\\n",
       "0  Согласно пункту 5.11 ПоЗ, при закупках товаров...   \n",
       "1  Согласно СК-03.03.02.01 Проведение закупки у е...   \n",
       "2  пункт 17.1.8. в случае, когда на участие в кон...   \n",
       "\n",
       "                                          rag answer  \\\n",
       "0  1. В соответствии с документами, при расчете Н...   \n",
       "1  При осуществлении закупки у единственного пост...   \n",
       "2  1. Да, договор может быть заключен с участнико...   \n",
       "\n",
       "                                     sources mentioned documents  \n",
       "0        [3.1, 5.11, 4.5.13, 4.5.16, 4.5.16]         Отсутствуют  \n",
       "1               [1.6, 5.3.6, 1.1, 4.1, 17.2]         Отсутствуют  \n",
       "2  [13.2.3, 14.5.1, 10.5.1, 14.12.6, 14.2.3]         Отсутствуют  "
      ]
     },
     "execution_count": 462,
     "metadata": {},
     "output_type": "execute_result"
    }
   ],
   "source": [
    "responses.head(3)"
   ]
  },
  {
   "cell_type": "code",
   "execution_count": null,
   "metadata": {},
   "outputs": [],
   "source": [
    "responses.to_excel('rag_test.xlsx', index=False)"
   ]
  },
  {
   "cell_type": "markdown",
   "metadata": {},
   "source": [
    "#### Basic Queries"
   ]
  },
  {
   "cell_type": "markdown",
   "metadata": {},
   "source": [
    "[Cypher](https://neo4j.com/docs/cypher-cheat-sheet/5/auradb-enterprise)"
   ]
  },
  {
   "cell_type": "code",
   "execution_count": null,
   "metadata": {},
   "outputs": [
    {
     "name": "stdout",
     "output_type": "stream",
     "text": [
      "Node properties are the following:\n",
      "Chunk {embedding: LIST, id: STRING, text: STRING, source: STRING, bullet: STRING},Document {embedding: LIST, id: STRING, text: STRING, source: STRING, bullet: STRING},Test {embedding: LIST, id: STRING, text: STRING, source: STRING, bullet: STRING}\n",
      "Relationship properties are the following:\n",
      "\n",
      "The relationships are the following:\n",
      "\n"
     ]
    }
   ],
   "source": [
    "print(graph.schema)"
   ]
  },
  {
   "cell_type": "code",
   "execution_count": null,
   "metadata": {},
   "outputs": [],
   "source": [
    "cypher = \"\"\"\n",
    "         SHOW VECTOR INDEXES\n",
    "         \"\"\"\n",
    "graph.query(cypher)"
   ]
  },
  {
   "cell_type": "code",
   "execution_count": null,
   "metadata": {},
   "outputs": [
    {
     "data": {
      "text/plain": [
       "[{'count(n)': 2331}]"
      ]
     },
     "execution_count": 375,
     "metadata": {},
     "output_type": "execute_result"
    }
   ],
   "source": [
    "cypher = \"\"\"\n",
    "         MATCH (n)\n",
    "         RETURN count(n)\n",
    "         \"\"\"\n",
    "graph.query(cypher)"
   ]
  },
  {
   "cell_type": "code",
   "execution_count": null,
   "metadata": {},
   "outputs": [
    {
     "data": {
      "text/plain": [
       "[{'text': '5.4. Уровень принятия решения о закупке у единственного поставщика (подрядчика, исполнителя)'},\n",
       " {'text': '5.4. При проведении закупок Организатор вправе привлекать подразделения Организатора (ПАО «Компания 1», Общества Компания 1 соответственно), Заказчика, обладающие необходимой компетенцией по предмету закупки.'},\n",
       " {'text': '5.4. Периоды формирования и корректировок ГПЗ Этап периода : Формирование ГПЗ на планируемый календарный год . Начало периода : 01 октября года, предшествующего планируемому  Завершение периода: до 31 декабря года, предшествующего планируемому включительно  Этап периода : Корректировка\\xa0 утвержденного ГПЗ на текущий календарный год  Начало периода : 01 января  Завершение периода: до 31 декабря  года планирования включительно'}]"
      ]
     },
     "execution_count": 376,
     "metadata": {},
     "output_type": "execute_result"
    }
   ],
   "source": [
    "cypher = \"\"\"\n",
    "         MATCH (n:Chunk {bullet: \"5.4\"})\n",
    "         RETURN n.text AS text\n",
    "         \"\"\"\n",
    "graph.query(cypher)"
   ]
  }
 ],
 "metadata": {
  "kernelspec": {
   "display_name": "base",
   "language": "python",
   "name": "python3"
  },
  "language_info": {
   "codemirror_mode": {
    "name": "ipython",
    "version": 3
   },
   "file_extension": ".py",
   "mimetype": "text/x-python",
   "name": "python",
   "nbconvert_exporter": "python",
   "pygments_lexer": "ipython3",
   "version": "3.11.4"
  },
  "orig_nbformat": 4
 },
 "nbformat": 4,
 "nbformat_minor": 2
}
