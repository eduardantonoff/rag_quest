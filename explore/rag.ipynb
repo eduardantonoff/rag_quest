{
 "cells": [
  {
   "cell_type": "markdown",
   "metadata": {},
   "source": [
    "# RAG "
   ]
  },
  {
   "cell_type": "markdown",
   "metadata": {},
   "source": [
    "#### Libraries"
   ]
  },
  {
   "cell_type": "code",
   "execution_count": 566,
   "metadata": {},
   "outputs": [],
   "source": [
    "# processing:\n",
    "import os\n",
    "import re\n",
    "import pandas as pd\n",
    "from dotenv import load_dotenv\n",
    "\n",
    "# neo4j:\n",
    "from langchain_community.graphs import Neo4jGraph\n",
    "from langchain_community.vectorstores import Neo4jVector\n",
    "\n",
    "# llm:\n",
    "from langchain.chat_models.gigachat import GigaChat\n",
    "from langchain_community.embeddings import GigaChatEmbeddings\n",
    "from langchain.prompts import ChatPromptTemplate\n",
    "from langchain_core.output_parsers import StrOutputParser\n",
    "\n",
    "# retrieval:\n",
    "from langchain.chains import RetrievalQAWithSourcesChain"
   ]
  },
  {
   "cell_type": "markdown",
   "metadata": {},
   "source": [
    "#### .env"
   ]
  },
  {
   "cell_type": "code",
   "execution_count": 4,
   "metadata": {},
   "outputs": [
    {
     "data": {
      "text/plain": [
       "True"
      ]
     },
     "execution_count": 4,
     "metadata": {},
     "output_type": "execute_result"
    }
   ],
   "source": [
    "load_dotenv()"
   ]
  },
  {
   "cell_type": "code",
   "execution_count": 568,
   "metadata": {},
   "outputs": [],
   "source": [
    "# neo4j:\n",
    "NEO4J_URI = os.getenv('NEO4J_URI')\n",
    "NEO4J_USERNAME = os.getenv('NEO4J_USERNAME')\n",
    "NEO4J_PASSWORD = os.getenv('NEO4J_PASSWORD')\n",
    "NEO4J_DATABASE= os.getenv('NEO4J_DATABASE')\n",
    "\n",
    "# llm:\n",
    "LLM_SCOPE = os.getenv('SCOPE')\n",
    "LLM_AUTH = os.getenv('AUTH_DATA')\n",
    "\n",
    "# telegram:\n",
    "BOT_TOKEN = os.getenv('BOT_TOKEN')"
   ]
  },
  {
   "cell_type": "markdown",
   "metadata": {},
   "source": [
    "#### Reference"
   ]
  },
  {
   "cell_type": "code",
   "execution_count": 569,
   "metadata": {},
   "outputs": [],
   "source": [
    "reference = pd.read_excel('../docs/reference.xlsx')"
   ]
  },
  {
   "cell_type": "markdown",
   "metadata": {},
   "source": [
    "## Setting Up Database | Neo4j"
   ]
  },
  {
   "cell_type": "code",
   "execution_count": null,
   "metadata": {},
   "outputs": [],
   "source": [
    "embeddings = GigaChatEmbeddings(credentials = LLM_AUTH, verify_ssl_certs = False)"
   ]
  },
  {
   "cell_type": "code",
   "execution_count": null,
   "metadata": {},
   "outputs": [],
   "source": [
    "neo4j_vector = Neo4jVector.from_existing_index(embeddings,\n",
    "                                               url=NEO4J_URI,\n",
    "                                               username=NEO4J_USERNAME,\n",
    "                                               password=NEO4J_PASSWORD,\n",
    "                                               index_name=\"Document\",\n",
    "                                               node_label=\"Document\" ,\n",
    "                                               keyword_index_name = \"keywords\",\n",
    "                                               search_type = \"hybrid\"\n",
    "                                               )"
   ]
  },
  {
   "cell_type": "code",
   "execution_count": null,
   "metadata": {},
   "outputs": [],
   "source": [
    "retriever = neo4j_vector.as_retriever(search_kwargs={\"k\": 5, 'score_treshold': 0.9, 'lambda_mult': 0.25})"
   ]
  },
  {
   "cell_type": "markdown",
   "metadata": {},
   "source": [
    "## Setting Up LLM | GigaChat\n"
   ]
  },
  {
   "cell_type": "code",
   "execution_count": 570,
   "metadata": {},
   "outputs": [],
   "source": [
    "llm = GigaChat(model = \"GigaChat-Plus\",\n",
    "               temperature = 0.3,\n",
    "               top_p = 0.2,\n",
    "               n = 1,\n",
    "               repetition_penalty = 1,\n",
    "               credentials = LLM_AUTH, \n",
    "               verify_ssl_certs = False\n",
    "               )"
   ]
  },
  {
   "cell_type": "code",
   "execution_count": 571,
   "metadata": {},
   "outputs": [],
   "source": [
    "parser = StrOutputParser()"
   ]
  },
  {
   "cell_type": "markdown",
   "metadata": {},
   "source": [
    "## Prompt Engineering"
   ]
  },
  {
   "cell_type": "markdown",
   "metadata": {},
   "source": [
    "#### Prompt Template"
   ]
  },
  {
   "cell_type": "code",
   "execution_count": 594,
   "metadata": {},
   "outputs": [],
   "source": [
    "template = \"\"\"\n",
    "            Задача: Анализировать запрос и предоставлять детализированные ответы, используя указанные документы.\n",
    "\n",
    "            Инструкции:\n",
    "\n",
    "            1. Цитируйте конкретные пункты и статьи документов при ответе на вопросы, связанные с правилами или нормативными актами.\n",
    "            3. Объясните применение документов к запросу для точности ответа.\n",
    "            4. Не повторяй информацию и грамонто формулируй ответы.\n",
    "\n",
    "            Запрос: \\\"{question}\\\"\n",
    "            Документы: \\\"{context}\\\"\n",
    "            \n",
    "            Ответ: Предоставьте ваш ответ, опираясь на указанные выше инструкции.\n",
    "            Ответ должен сожерджать не более 200 слов и включать финальный вывод.\n",
    "            \n",
    "            ВАЖНО: При отсутствии данных для какого-либо из пунктов, просто пропусти упоминание об этом, чтобы поддерживать чистоту и релевантность выходных данных. \n",
    "            \"\"\"\n",
    "\n",
    "prompt = ChatPromptTemplate.from_template(template)"
   ]
  },
  {
   "cell_type": "markdown",
   "metadata": {},
   "source": [
    "#### Question Extraction"
   ]
  },
  {
   "cell_type": "code",
   "execution_count": 589,
   "metadata": {},
   "outputs": [],
   "source": [
    "def extract_question(model, parser, text):\n",
    "    \n",
    "    chain = model | parser\n",
    "\n",
    "    template = f\"\"\"\n",
    "            Задача: Проанализируй представленный запрос для извлечения инфомрации.\n",
    "            \n",
    "            Вот текст запроса: \\\"{text}\\\"\n",
    "            \n",
    "            Проанализируй контекст и явно сформулируй полные вопросы содерджащие ключевые слова без отсылок. \n",
    "            Если в тексте явно поставлены вопросы, извлеки их. \n",
    "            Если текст не содержит явных вопросов, попытайся сформулировать вопросы, на основании предоставленной информации. \n",
    "\n",
    "            ВАЖНО: Результаты должны быть представлены как список уникальных данных, разделенных запятыми, без использования заголовков, разделов или нумерации. \n",
    "                   Сосредоточь внимание на ясности и конкретике представленной информации.\n",
    "            \n",
    "            Без комментириев.\n",
    "            \"\"\"\n",
    "\n",
    "    model_response = chain.invoke(template)\n",
    "    \n",
    "    return model_response"
   ]
  },
  {
   "cell_type": "markdown",
   "metadata": {},
   "source": [
    "## LLM Retrival Chain"
   ]
  },
  {
   "cell_type": "markdown",
   "metadata": {},
   "source": [
    "#### Chain"
   ]
  },
  {
   "cell_type": "code",
   "execution_count": 577,
   "metadata": {},
   "outputs": [],
   "source": [
    "chain = RetrievalQAWithSourcesChain.from_chain_type(llm,\n",
    "                                                    chain_type = \"stuff\", # \"stuff\", \"map_rerank\", \"refine\"\n",
    "                                                    retriever = retriever,\n",
    "                                                    return_source_documents = True,\n",
    "                                                    reduce_k_below_max_tokens = True,\n",
    "                                                    max_tokens_limit = 32000,\n",
    "                                                    chain_type_kwargs = {\"verbose\": False,\n",
    "                                                                         \"prompt\": prompt,\n",
    "                                                                         \"document_variable_name\": \"context\"\n",
    "                                                                        }\n",
    "                                                    )"
   ]
  },
  {
   "cell_type": "markdown",
   "metadata": {},
   "source": [
    "##### Letters + Answers + Questions + Response"
   ]
  },
  {
   "cell_type": "code",
   "execution_count": 593,
   "metadata": {},
   "outputs": [
    {
     "name": "stdout",
     "output_type": "stream",
     "text": [
      "Letter: \n",
      "\n",
      "Добрый день! Подскажите, пожалуйста, по дате заключения договора ВЗЛ. Например: Дата утверждения строки ГПЗ 20.02.2023 Планируемая дата подведения итогов в ГПЗ указана 01.03.2023 Дата заключения договора должна быть строго 01.03.2023 или может быть в промежутке с 20.02.2023 по 31.03.2023?\n",
      "\n",
      "Answer: \n",
      "\n",
      "Датой подведения итогов закупки для способа закупки Прочие (ВЗЛ) является дата заключения договора, она же является датой инициации процедуры. В соответствии с п 5.3.6. и 5.3.7. СК-03.02.01 Формирование Годового плана закупок – заказчик контролирует факт инициации запланированных в утвержденном ГПЗ закупок, не инициированные в рамках месяца или ранее закупки подлежат переносу на более поздний срок в рамках года или удалению, не позднее 2 р.д. с начала месяца, следующего за месяцем планируемой инициации. В вашем примере закупка может быть инициирована не позднее 31.03.2023, факт инициации подтверждается внесением информации о заключенном договоре в АС Отчетность.\n",
      "\n",
      "Questions: \n",
      "\n",
      "1. Какая дата заключения договора ВЗЛ?\n",
      "2. Может ли дата заключения договора быть в промежутке с 20.02.2023 по 31.03.2023?\n"
     ]
    },
    {
     "data": {
      "text/plain": [
       "{'question': '1. Какая дата заключения договора ВЗЛ?\\n2. Может ли дата заключения договора быть в промежутке с 20.02.2023 по 31.03.2023?',\n",
       " 'answer': '1. Дата заключения договора ВЗЛ не указана в предоставленных документах.\\n2. Да, дата заключения договора может быть в промежутке с 20.02.2023 по 31.03.2023, если это предусмотрено законодательством и таким договором.',\n",
       " 'sources': '',\n",
       " 'source_documents': [Document(page_content='22.1. Стороны договора вправе вносить изменения и (или) дополнения в договор, заключенный по результатам закупки (далее - изменения и дополнения), а также расторгать заключенный по результатам закупки договор в порядке и по основаниям, предусмотренным законодательством и таким договором.', metadata={'source': 'ПОЛОЖЕНИЕ/22. ОСОБЕННОСТИ ИЗМЕНЕНИЯ, ДОПОЛНЕНИЯ И РАСТОРЖЕНИЯ  ДОГОВОРА', 'bullet': '22.1'}),\n",
       "  Document(page_content='5.6.2. Если решение о закупке у ЕдП утверждено, Заказчик может принять решение об отказе от заключения договорного документа по итогам процедуры закупки с обоснованием причин - В отчетности по закупочной деятельности указываются требуемые сведения о проведенной закупке у ЕдП; при этом данные по договорному документу (дата, номер, стоимость) не заполняются. Указывается статус договорного документа «не заключен». Корректировка ГПЗ в случае завершения закупки у ЕдП без заключения договора не требуется.', metadata={'source': 'ПОЗ/5. НАЗНАЧЕНИЕ И СТРУКТУРА ПРОЦЕССА', 'bullet': '5.6.2'}),\n",
       "  Document(page_content='13.2.3. В случае если победитель запроса котировок признан уклонившимся от заключения договора, Заказчик вправе заключить договор с участником запроса котировок, который сделал предпоследнее предложение о цене договора.', metadata={'source': 'ПОЛОЖЕНИЕ/13. ЗАПРОС КОТИРОВОК', 'bullet': '13.2.3'}),\n",
       "  Document(page_content='17.1.23. Заключается договор на поставку товара, выполнение работ или оказание услуг с иностранным юридическим лицом, когда проведение конкурентной закупки в электронной форме с участием иностранных контрагентов невозможно по техническим и организационным причинам.', metadata={'source': 'ПОЛОЖЕНИЕ/17. ЗАКУПКИ У ЕДИНСТВЕННОГО ПОСТАВЩИКА (ПОДРЯДЧИКА,  ИСПОЛНИТЕЛЯ)', 'bullet': '17.1.23'}),\n",
       "  Document(page_content='3.1. В настоящем документе используются следующие термины и сокращения: автоматизированная система «Планирование закупок» (АС «Планирование закупок»): автоматизированная система, обеспечивающая поддержку бизнес-процессов формирования и корректировки плана закупок ПАО\\xa0«Компания 1» и Обществ Компания 1. БЛПС: Блок логистики, переработки и сбыта ПАО\\xa0«Компания 1». БРД: Блок разведки и добычи ПАО\\xa0«Компания 1». взаимозависимое лицо (ВЗЛ): юридическое лицо, которое признается взаимозависимым с Заказчиком лицом в соответствии с Налоговым кодексом Российской Федерации и включено в перечень взаимозависимых лиц такого Заказчика с обоснованием включения в указанный перечень в соответствии с положениями Налогового кодекса Российской Федерации. Годовой план закупок (ГПЗ): план закупок\\xa0ПАО\\xa0«Компания 1» или Общества Компания 1, сформированный в соответствии с требованиями, установленными Центральным органом управления закупками ПАО\\xa0«Компания 1», представляющий собой свод записей о планируемых Компание', metadata={'source': 'ГПЗ/3. ТЕРМИНЫ И СОКРАЩЕНИЯ', 'bullet': '3.1'})]}"
      ]
     },
     "execution_count": 593,
     "metadata": {},
     "output_type": "execute_result"
    }
   ],
   "source": [
    "letter = 5 # from the reference.xlsx num + 2\n",
    "\n",
    "inquiry = str(reference['letter'][letter-1].replace('\\n', ' '))\n",
    "refer = str(reference['answer '][letter-1]).replace('\\n', ' ')\n",
    "\n",
    "question = extract_question(llm, parser, inquiry).replace(\"/\", \" \")\n",
    "\n",
    "print(f'Letter: \\n\\n{inquiry}\\n')\n",
    "print(f'Answer: \\n\\n{refer}\\n')\n",
    "print(f'Questions: \\n\\n{question}')\n",
    "\n",
    "chain.invoke({\"question\": question}, return_only_outputs = False)"
   ]
  },
  {
   "cell_type": "markdown",
   "metadata": {},
   "source": [
    "## Test"
   ]
  },
  {
   "cell_type": "code",
   "execution_count": 597,
   "metadata": {},
   "outputs": [
    {
     "name": "stderr",
     "output_type": "stream",
     "text": [
      "Giga generation stopped with reason: blacklist\n",
      "Giga generation stopped with reason: blacklist\n"
     ]
    }
   ],
   "source": [
    "responses = pd.DataFrame(columns = ['letter', 'extracted questions', 'answer', 'rag answers', 'sources'])\n",
    "\n",
    "for letter in range(1, 21):\n",
    "    inquiry = str(reference['letter'][letter-1].replace('\\n', ' '))\n",
    "    refer = str(reference['answer '][letter-1]).replace('\\n', ' ')\n",
    "    question = extract_question(llm, parser, inquiry).replace(\"/\", \" \")\n",
    "    response = chain.invoke({\"question\": question}, return_only_outputs = False)\n",
    "\n",
    "    answer = response['answer']\n",
    "    sources = [doc.metadata for doc in response['source_documents']]\n",
    "\n",
    "    responses = pd.concat([responses, pd.DataFrame({'letter': [inquiry], \n",
    "                                                    'extracted questions': [question], \n",
    "                                                    'answer': [refer], \n",
    "                                                    'rag answers': [answer], \n",
    "                                                    'sources': [sources]})\n",
    "                           ], ignore_index = True)"
   ]
  },
  {
   "cell_type": "code",
   "execution_count": 582,
   "metadata": {},
   "outputs": [
    {
     "data": {
      "text/html": [
       "<div>\n",
       "<style scoped>\n",
       "    .dataframe tbody tr th:only-of-type {\n",
       "        vertical-align: middle;\n",
       "    }\n",
       "\n",
       "    .dataframe tbody tr th {\n",
       "        vertical-align: top;\n",
       "    }\n",
       "\n",
       "    .dataframe thead th {\n",
       "        text-align: right;\n",
       "    }\n",
       "</style>\n",
       "<table border=\"1\" class=\"dataframe\">\n",
       "  <thead>\n",
       "    <tr style=\"text-align: right;\">\n",
       "      <th></th>\n",
       "      <th>letter</th>\n",
       "      <th>extracted questions</th>\n",
       "      <th>answer</th>\n",
       "      <th>rag answers</th>\n",
       "      <th>sources</th>\n",
       "    </tr>\n",
       "  </thead>\n",
       "  <tbody>\n",
       "    <tr>\n",
       "      <th>0</th>\n",
       "      <td>Уважаемые коллеги,  Добрый день! У меня возник...</td>\n",
       "      <td>1. Можно ли при расчете НМЦ указывать ориентир...</td>\n",
       "      <td>Согласно пункту 5.11 ПоЗ, при закупках товаров...</td>\n",
       "      <td>На основании предоставленных документов можно ...</td>\n",
       "      <td>[{'source': 'ГПЗ/3. ТЕРМИНЫ И СОКРАЩЕНИЯ', 'bu...</td>\n",
       "    </tr>\n",
       "    <tr>\n",
       "      <th>1</th>\n",
       "      <td>Уважаемые коллеги,  Обращаюсь с вопросом: При ...</td>\n",
       "      <td>1. С кем необходимо согласовать диапазон цен п...</td>\n",
       "      <td>Согласно СК-03.03.02.01 Проведение закупки у е...</td>\n",
       "      <td>Для ответа на первый вопрос, необходимо обрати...</td>\n",
       "      <td>[{'source': 'ПОЗ/5. НАЗНАЧЕНИЕ И СТРУКТУРА ПРО...</td>\n",
       "    </tr>\n",
       "    <tr>\n",
       "      <th>2</th>\n",
       "      <td>Уважаемые коллеги,  У меня вопрос, связанный с...</td>\n",
       "      <td>1. Может ли быть заключен договор с единственн...</td>\n",
       "      <td>пункт 17.1.8. в случае, когда на участие в кон...</td>\n",
       "      <td>Да, договор может быть заключен с единственным...</td>\n",
       "      <td>[{'source': 'ПОЛОЖЕНИЕ/7. ПОРЯДОК ПОДГОТОВКИ И...</td>\n",
       "    </tr>\n",
       "  </tbody>\n",
       "</table>\n",
       "</div>"
      ],
      "text/plain": [
       "                                              letter  \\\n",
       "0  Уважаемые коллеги,  Добрый день! У меня возник...   \n",
       "1  Уважаемые коллеги,  Обращаюсь с вопросом: При ...   \n",
       "2  Уважаемые коллеги,  У меня вопрос, связанный с...   \n",
       "\n",
       "                                 extracted questions  \\\n",
       "0  1. Можно ли при расчете НМЦ указывать ориентир...   \n",
       "1  1. С кем необходимо согласовать диапазон цен п...   \n",
       "2  1. Может ли быть заключен договор с единственн...   \n",
       "\n",
       "                                              answer  \\\n",
       "0  Согласно пункту 5.11 ПоЗ, при закупках товаров...   \n",
       "1  Согласно СК-03.03.02.01 Проведение закупки у е...   \n",
       "2  пункт 17.1.8. в случае, когда на участие в кон...   \n",
       "\n",
       "                                         rag answers  \\\n",
       "0  На основании предоставленных документов можно ...   \n",
       "1  Для ответа на первый вопрос, необходимо обрати...   \n",
       "2  Да, договор может быть заключен с единственным...   \n",
       "\n",
       "                                             sources  \n",
       "0  [{'source': 'ГПЗ/3. ТЕРМИНЫ И СОКРАЩЕНИЯ', 'bu...  \n",
       "1  [{'source': 'ПОЗ/5. НАЗНАЧЕНИЕ И СТРУКТУРА ПРО...  \n",
       "2  [{'source': 'ПОЛОЖЕНИЕ/7. ПОРЯДОК ПОДГОТОВКИ И...  "
      ]
     },
     "execution_count": 582,
     "metadata": {},
     "output_type": "execute_result"
    }
   ],
   "source": [
    "responses.head(3)"
   ]
  },
  {
   "cell_type": "code",
   "execution_count": 583,
   "metadata": {},
   "outputs": [],
   "source": [
    "responses.to_excel('rag_responses.xlsx', index=False)"
   ]
  },
  {
   "cell_type": "markdown",
   "metadata": {},
   "source": [
    "## Basic Queries | Neo4j"
   ]
  },
  {
   "cell_type": "markdown",
   "metadata": {},
   "source": [
    "[Cypher](https://neo4j.com/docs/cypher-cheat-sheet/5/auradb-enterprise)"
   ]
  },
  {
   "cell_type": "code",
   "execution_count": null,
   "metadata": {},
   "outputs": [],
   "source": [
    "graph = Neo4jGraph(url = NEO4J_URI, username = NEO4J_USERNAME, password = NEO4J_PASSWORD, database = NEO4J_DATABASE)"
   ]
  },
  {
   "cell_type": "code",
   "execution_count": null,
   "metadata": {},
   "outputs": [
    {
     "name": "stdout",
     "output_type": "stream",
     "text": [
      "Node properties are the following:\n",
      "Chunk {embedding: LIST, id: STRING, text: STRING, source: STRING, bullet: STRING}\n",
      "Relationship properties are the following:\n",
      "\n",
      "The relationships are the following:\n",
      "\n"
     ]
    }
   ],
   "source": [
    "print(graph.schema)"
   ]
  },
  {
   "cell_type": "code",
   "execution_count": null,
   "metadata": {},
   "outputs": [
    {
     "data": {
      "text/plain": [
       "[{'id': 5,\n",
       "  'name': 'vector',\n",
       "  'state': 'ONLINE',\n",
       "  'populationPercent': 100.0,\n",
       "  'type': 'VECTOR',\n",
       "  'entityType': 'NODE',\n",
       "  'labelsOrTypes': ['Chunk'],\n",
       "  'properties': ['embedding'],\n",
       "  'indexProvider': 'vector-2.0',\n",
       "  'owningConstraint': None,\n",
       "  'lastRead': neo4j.time.DateTime(2024, 4, 16, 13, 21, 38, 725000000, tzinfo=<UTC>),\n",
       "  'readCount': 43}]"
      ]
     },
     "execution_count": 162,
     "metadata": {},
     "output_type": "execute_result"
    }
   ],
   "source": [
    "cypher = \"\"\"\n",
    "  SHOW VECTOR INDEXES\n",
    "  \"\"\"\n",
    "\n",
    "graph.query(cypher)"
   ]
  },
  {
   "cell_type": "code",
   "execution_count": null,
   "metadata": {},
   "outputs": [
    {
     "data": {
      "text/plain": [
       "[{'count(n)': 1030}]"
      ]
     },
     "execution_count": 163,
     "metadata": {},
     "output_type": "execute_result"
    }
   ],
   "source": [
    "cypher = \"\"\"\n",
    "  MATCH (n)\n",
    "  RETURN count(n)\n",
    "  \"\"\"\n",
    "\n",
    "graph.query(cypher)"
   ]
  },
  {
   "cell_type": "code",
   "execution_count": null,
   "metadata": {},
   "outputs": [
    {
     "data": {
      "text/plain": [
       "[{'text': '1.3.1. Планирование закупок ПАО «Компания 1» и Обществ Компания 1, в рамках  которого:'}]"
      ]
     },
     "execution_count": 170,
     "metadata": {},
     "output_type": "execute_result"
    }
   ],
   "source": [
    "cypher = \"\"\"\n",
    "    MATCH (n:Chunk {bullet: \"1.3.1\"})\n",
    "    RETURN n.text AS text\n",
    "    \"\"\"\n",
    "\n",
    "graph.query(cypher)"
   ]
  }
 ],
 "metadata": {
  "kernelspec": {
   "display_name": "base",
   "language": "python",
   "name": "python3"
  },
  "language_info": {
   "codemirror_mode": {
    "name": "ipython",
    "version": 3
   },
   "file_extension": ".py",
   "mimetype": "text/x-python",
   "name": "python",
   "nbconvert_exporter": "python",
   "pygments_lexer": "ipython3",
   "version": "3.11.4"
  },
  "orig_nbformat": 4
 },
 "nbformat": 4,
 "nbformat_minor": 2
}
