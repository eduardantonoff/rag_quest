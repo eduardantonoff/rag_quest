{
 "cells": [
  {
   "cell_type": "markdown",
   "metadata": {},
   "source": [
    "# RAG "
   ]
  },
  {
   "cell_type": "markdown",
   "metadata": {},
   "source": [
    "#### Libraries"
   ]
  },
  {
   "cell_type": "code",
   "execution_count": 34,
   "metadata": {},
   "outputs": [],
   "source": [
    "# processing:\n",
    "import os\n",
    "import re\n",
    "import pandas as pd\n",
    "import numpy as np\n",
    "from dotenv import load_dotenv\n",
    "from sklearn.metrics.pairwise import cosine_similarity\n",
    "\n",
    "# neo4j:\n",
    "from langchain_community.graphs import Neo4jGraph\n",
    "from langchain_community.vectorstores import Neo4jVector\n",
    "\n",
    "# llm:\n",
    "from langchain.chat_models.gigachat import GigaChat\n",
    "from langchain_community.embeddings import GigaChatEmbeddings\n",
    "from langchain.prompts import ChatPromptTemplate\n",
    "from langchain_core.output_parsers import StrOutputParser\n",
    "\n",
    "# retrieval:\n",
    "from langchain.chains import RetrievalQAWithSourcesChain\n",
    "\n",
    "# telegram:\n",
    "import telebot\n",
    "from time import sleep"
   ]
  },
  {
   "cell_type": "markdown",
   "metadata": {},
   "source": [
    "#### .env"
   ]
  },
  {
   "cell_type": "code",
   "execution_count": 35,
   "metadata": {},
   "outputs": [
    {
     "data": {
      "text/plain": [
       "True"
      ]
     },
     "execution_count": 35,
     "metadata": {},
     "output_type": "execute_result"
    }
   ],
   "source": [
    "load_dotenv()"
   ]
  },
  {
   "cell_type": "code",
   "execution_count": 36,
   "metadata": {},
   "outputs": [],
   "source": [
    "# neo4j:\n",
    "NEO4J_URI = os.getenv('NEO4J_URI')\n",
    "NEO4J_USERNAME = os.getenv('NEO4J_USERNAME')\n",
    "NEO4J_PASSWORD = os.getenv('NEO4J_PASSWORD')\n",
    "NEO4J_DATABASE= os.getenv('NEO4J_DATABASE')\n",
    "\n",
    "# llm:\n",
    "GIGACHAT_SCOPE = os.getenv('SCOPE')\n",
    "GIGACHAT_AUTH = os.getenv('AUTH_DATA')\n",
    "\n",
    "# telegram:\n",
    "BOT_TOKEN = os.getenv('BOT_TOKEN')"
   ]
  },
  {
   "cell_type": "markdown",
   "metadata": {},
   "source": [
    "#### Reference"
   ]
  },
  {
   "cell_type": "code",
   "execution_count": 37,
   "metadata": {},
   "outputs": [],
   "source": [
    "reference = pd.read_excel('../docs/reference.xlsx')"
   ]
  },
  {
   "cell_type": "markdown",
   "metadata": {},
   "source": [
    "## Setting Up Database"
   ]
  },
  {
   "cell_type": "markdown",
   "metadata": {},
   "source": [
    "### Connection"
   ]
  },
  {
   "cell_type": "code",
   "execution_count": 38,
   "metadata": {},
   "outputs": [],
   "source": [
    "embeddings = GigaChatEmbeddings(credentials = GIGACHAT_AUTH, verify_ssl_certs = False)"
   ]
  },
  {
   "cell_type": "code",
   "execution_count": 39,
   "metadata": {},
   "outputs": [],
   "source": [
    "vectorestore = Neo4jVector.from_existing_index(embeddings,\n",
    "                                          url = NEO4J_URI,\n",
    "                                          username = NEO4J_USERNAME,\n",
    "                                          password = NEO4J_PASSWORD,\n",
    "                                          node_label = \"Bullet\",\n",
    "                                          index_name = \"bullet\",\n",
    "                                          keyword_index_name = \"word\",\n",
    "                                          search_type = 'hybrid',\n",
    "                                         )"
   ]
  },
  {
   "cell_type": "code",
   "execution_count": 40,
   "metadata": {},
   "outputs": [],
   "source": [
    "graph = Neo4jGraph(url = NEO4J_URI, username = NEO4J_USERNAME, password = NEO4J_PASSWORD, database = NEO4J_DATABASE)"
   ]
  },
  {
   "cell_type": "markdown",
   "metadata": {},
   "source": [
    "### Populate"
   ]
  },
  {
   "cell_type": "code",
   "execution_count": 41,
   "metadata": {},
   "outputs": [],
   "source": [
    "import pickle\n",
    "\n",
    "with open('collections.pkl', 'rb') as f:\n",
    "    collections = pickle.load(f)"
   ]
  },
  {
   "cell_type": "markdown",
   "metadata": {},
   "source": [
    "> **NOTE:** DON'T RUN!"
   ]
  },
  {
   "cell_type": "code",
   "execution_count": 42,
   "metadata": {},
   "outputs": [],
   "source": [
    "# vectorestore = Neo4jVector.from_documents(collections,\n",
    "#                                           embeddings,\n",
    "#                                           url = NEO4J_URI,\n",
    "#                                           username = NEO4J_USERNAME,\n",
    "#                                           password = NEO4J_PASSWORD,\n",
    "#                                           node_label = \"Bullet\",\n",
    "#                                           index_name = \"bullet\",\n",
    "#                                           keyword_index_name = \"word\",\n",
    "#                                           text_node_property = \"text\",\n",
    "#                                           embedding_node_property = \"embedding\",\n",
    "#                                           search_type = 'hybrid',\n",
    "#                                           create_id_index = True,\n",
    "#                                          )"
   ]
  },
  {
   "cell_type": "markdown",
   "metadata": {},
   "source": [
    "## Setting Up LLM\n"
   ]
  },
  {
   "cell_type": "code",
   "execution_count": 43,
   "metadata": {},
   "outputs": [],
   "source": [
    "llm = GigaChat(model = \"GigaChat-Pro\", # \"GigaChat-Pro\" / \"GigaChat-Plus\" (32k)\n",
    "               temperature = 0.3,\n",
    "               top_p = 0.2,\n",
    "               n = 1,\n",
    "               repetition_penalty = 1,\n",
    "               credentials = GIGACHAT_AUTH, \n",
    "               verify_ssl_certs = False)"
   ]
  },
  {
   "cell_type": "code",
   "execution_count": 44,
   "metadata": {},
   "outputs": [],
   "source": [
    "parser = StrOutputParser()"
   ]
  },
  {
   "cell_type": "markdown",
   "metadata": {},
   "source": [
    "## Prompt Engineering"
   ]
  },
  {
   "cell_type": "markdown",
   "metadata": {},
   "source": [
    "#### Prompt Template"
   ]
  },
  {
   "cell_type": "code",
   "execution_count": 91,
   "metadata": {},
   "outputs": [],
   "source": [
    "template = \"\"\"\n",
    "            Задача: Предоставлять детализированные ответы, используя указанные документы.\n",
    "\n",
    "            Цитируйте конкретные пункты и статьи документов при ответе на вопросы, связанные с правилами.\n",
    "            Объясните применение документов. Не повторяйте информацию и формулируйте ответы грамотно.\n",
    "\n",
    "            Запрос: \"{question}\"\n",
    "            Документы: \"{context}\"\n",
    "            \n",
    "            Ответ: Ответ должен содержать не более 200 слов и включать финальный вывод.\n",
    "            \"\"\"\n",
    "\n",
    "prompt = ChatPromptTemplate.from_template(template)"
   ]
  },
  {
   "cell_type": "code",
   "execution_count": 61,
   "metadata": {},
   "outputs": [
    {
     "data": {
      "text/plain": [
       "100"
      ]
     },
     "execution_count": 61,
     "metadata": {},
     "output_type": "execute_result"
    }
   ],
   "source": [
    "llm.get_num_tokens(template)"
   ]
  },
  {
   "cell_type": "markdown",
   "metadata": {},
   "source": [
    "#### Question Extraction"
   ]
  },
  {
   "cell_type": "markdown",
   "metadata": {},
   "source": [
    "##### 3 Versions"
   ]
  },
  {
   "cell_type": "code",
   "execution_count": 92,
   "metadata": {},
   "outputs": [],
   "source": [
    "def extract_question_one(text):\n",
    "    \n",
    "    chain = llm | parser\n",
    "\n",
    "    template = f\"\"\"\n",
    "            Задача: Идентифицировать вопросы в предоставленном тексте.\n",
    "\n",
    "            Текст запроса: \"{text}\"\n",
    "            \n",
    "            Анализируйте текст и выделяйте явные вопросы. Если в тексте нет вопросов, сформулируйте их на основе имеющейся информации.\n",
    "            Результаты представьте как список вопросов, разделенных запятыми. Стремитесь к ясности и краткости.\n",
    "                \n",
    "            Ответ должен быть конкретным и содержать все ключевые аспекты, без дополнительных комментариев.\n",
    "            \"\"\"\n",
    "    \n",
    "    return chain.invoke(template).replace('/', ' ')"
   ]
  },
  {
   "cell_type": "code",
   "execution_count": 210,
   "metadata": {},
   "outputs": [],
   "source": [
    "def extract_question_two(text):\n",
    "    \n",
    "    chain = llm | parser\n",
    "\n",
    "    template = f\"\"\"\n",
    "            Задание: Определите и сформируйте вопросы, содержащиеся в тексте.\n",
    "\n",
    "            Исходный текст: \"{text}\"\n",
    "            \n",
    "            Проанализируйте текст и выделите вопросы, присутствующие в тексте. \n",
    "            Если в тексте вопросов не обнаружено, на основе содержания текста сформируйте вопросы, \n",
    "            которые полностью самодостаточны и не требуют дополнительного контекста для понимания.\n",
    "            Вопросы должны быть представлены в виде списка, каждый вопрос отделен запятой. Обеспечьте, \n",
    "            чтобы каждый вопрос был ясным, полным и самодостаточным.\n",
    "                \n",
    "            Результаты должны быть точными, без лишних уточнений или комментариев.\n",
    "            \"\"\"\n",
    "    \n",
    "    return chain.invoke(template).replace('/', ' ')"
   ]
  },
  {
   "cell_type": "code",
   "execution_count": 257,
   "metadata": {},
   "outputs": [],
   "source": [
    "def extract_question_three(text):\n",
    "    \n",
    "    chain = llm | parser\n",
    "\n",
    "    template = f\"\"\"\n",
    "            Задача: Определить до пяти наиболее важных вопросов на основе анализа текста.\n",
    "\n",
    "            Предоставленный текст: \"{text}\"\n",
    "            \n",
    "            Изучите текст и определите основные темы и идеи. Сформулируйте до пяти вопросов, каждый из которых должен отражать ключевые аспекты и детали текста. \n",
    "            Вопросы должны быть самостоятельными, т.е. понятными без ссылок на исходный текст. \n",
    "            Если текст изначально не содержит явных вопросов, разработайте их на основе наиболее существенных моментов информации.\n",
    "            Каждый вопрос должен быть кратким и конкретным, и список не должен содержать более пяти вопросов.\n",
    "                \n",
    "            Ожидается, что выданные вопросы будут полны и ясны, позволяя получить глубокое понимание основных идей текста без возвращения к нему.\n",
    "            \"\"\"\n",
    "    \n",
    "    return chain.invoke(template).replace('/', ' ')\n"
   ]
  },
  {
   "cell_type": "markdown",
   "metadata": {},
   "source": [
    "### Utilities"
   ]
  },
  {
   "cell_type": "code",
   "execution_count": 209,
   "metadata": {},
   "outputs": [],
   "source": [
    "def find_relevant_bullets(inquiry):\n",
    "    match = re.search(r'(\\d+\\.\\d+)(?:\\.\\d+)?', inquiry)\n",
    "    \n",
    "    if match:\n",
    "        number = match.group(1)\n",
    "        \n",
    "        cypher = f\"\"\"\n",
    "                    MATCH (n:Document)\n",
    "                    WHERE n.bullet STARTS WITH '{number}' AND n.bullet IS NOT NULL\n",
    "                    RETURN n.text\n",
    "                    \"\"\"\n",
    "        mentioned_bullets = graph.query(cypher)\n",
    "        \n",
    "        if mentioned_bullets:\n",
    "            texts = [bullet['n.text'] for bullet in mentioned_bullets]\n",
    "            \n",
    "            all_embeddings = [embeddings.embed_query(text) for text in texts] + [embeddings.embed_query(inquiry)]\n",
    "            inquiry_embedding = all_embeddings[-1]\n",
    "            bullet_embeddings = all_embeddings[:-1]\n",
    "            \n",
    "            similarities = cosine_similarity([inquiry_embedding], bullet_embeddings)[0]\n",
    "            top_indices = np.argsort(similarities)[::-1][:3]\n",
    "            top_texts = [texts[i] for i in top_indices]\n",
    "            \n",
    "            return top_texts\n",
    "        else:\n",
    "            return \"Отсутствуют\"\n",
    "    else:\n",
    "        return \"Отсутствуют\""
   ]
  },
  {
   "cell_type": "markdown",
   "metadata": {},
   "source": [
    "## LLM Retrival Chain"
   ]
  },
  {
   "cell_type": "markdown",
   "metadata": {},
   "source": [
    "#### Chain"
   ]
  },
  {
   "cell_type": "code",
   "execution_count": 252,
   "metadata": {},
   "outputs": [],
   "source": [
    "retriever = vectorestore.as_retriever(search_kwargs={\"k\": 10, 'score_threshold': 0.95, 'lambda_mult': 0.25})"
   ]
  },
  {
   "cell_type": "code",
   "execution_count": 253,
   "metadata": {},
   "outputs": [],
   "source": [
    "chain = RetrievalQAWithSourcesChain.from_chain_type(llm, # pro / plus\n",
    "                                                    chain_type = \"stuff\", # \"stuff\" / \"map_rerank\" / \"refine\"\n",
    "                                                    retriever = retriever,\n",
    "                                                    return_source_documents = True,\n",
    "                                                    reduce_k_below_max_tokens = True,\n",
    "                                                    max_tokens_limit = 8000, # up to 32k with plus model\n",
    "                                                    chain_type_kwargs = {\"verbose\": False,\n",
    "                                                                         \"prompt\": prompt,\n",
    "                                                                         \"document_variable_name\": \"context\"})"
   ]
  },
  {
   "cell_type": "markdown",
   "metadata": {},
   "source": [
    "##### Outputs"
   ]
  },
  {
   "cell_type": "code",
   "execution_count": 265,
   "metadata": {},
   "outputs": [
    {
     "name": "stdout",
     "output_type": "stream",
     "text": [
      "Qestion 1:\n",
      "1. Может ли быть заключен договор с участником, который подал заявку на конкурентный отбор, полностью соответствующую техническому заданию и не отклоненную службой безопасности?\n",
      "2. Какие возможны шаги и процедуры в данной ситуации?\n",
      "\n",
      "Qestion 2:\n",
      "1. Может ли быть заключен договор с участником, который подал заявку на конкурентный отбор, полностью соответствующую техническому заданию и не отклоненную службой безопасности, если только он один подал заявку?\n",
      "2. Какие возможны шаги и процедуры в данной ситуации?\n",
      "3. Какие рекомендации можно дать по данному вопросу?\n",
      "\n",
      "Qestion 3:\n",
      "1. Может ли быть заключен договор с участником, который подал заявку на конкурентный отбор и полностью соответствует техническому заданию, но был отклонен службой безопасности?\n",
      "2. Какие шаги и процедуры следует предпринять в данной ситуации?\n",
      "3. Какие возможны варианты действий в случае, когда только один участник подал заявку на конкурентный отбор?\n",
      "4. Какие критерии должны быть учтены при принятии решения о заключении договора с участником, который был отклонен службой безопасности?\n",
      "5. Какие рекомендации можно дать по данному вопросу?\n",
      "\n"
     ]
    }
   ],
   "source": [
    "letter = 3\n",
    "\n",
    "inquiry = str(reference['letter'][letter-1].replace('\\n', ' '))\n",
    "\n",
    "question_one = extract_question_one(inquiry)\n",
    "question_two = extract_question_two(inquiry)\n",
    "question_three = extract_question_three(inquiry)\n",
    "\n",
    "response = chain.invoke({\"question\": extract_question_one(inquiry)}, return_only_outputs = False)\n",
    "\n",
    "print(f\"Qestion 1:\\n{question_one}\\n\")\n",
    "print(f\"Qestion 2:\\n{question_two}\\n\")\n",
    "print(f\"Qestion 3:\\n{question_three}\\n\")\n",
    "# response['answer']"
   ]
  },
  {
   "cell_type": "code",
   "execution_count": 266,
   "metadata": {},
   "outputs": [
    {
     "data": {
      "text/plain": [
       "'1. Да, договор может быть заключен с участником, который подал заявку на конкурентный отбор, полностью соответствующую техническому заданию и не отклоненную службой безопасности.\\n\\n2. Возможные шаги и процедуры в данной ситуации включают:\\n   - Проверку соответствия заявки участника требованиям технического задания и документации о конкурентном отборе.\\n   - Анализ и оценку заявки участника на соответствие критериям отбора.\\n   - Принятие решения о заключении договора с участником, если его заявка соответствует требованиям и критериям отбора.\\n   - Подписание договора между участником и заказчиком на условиях, указанных в документации о конкурентном отборе и в заявке участника.\\n   - Обеспечение исполнения договора, если это было установлено требованием документации о конкурентном отборе.\\n\\nОднако, необходимо учитывать, что в случае уклонения участника от заключения договора или непредставления обеспечения исполнения договора, заказчик может принять решение о признании запроса котировок несостоявшимся и объявить новую закупку.'"
      ]
     },
     "execution_count": 266,
     "metadata": {},
     "output_type": "execute_result"
    }
   ],
   "source": [
    "answer = response['answer']\n",
    "answer"
   ]
  },
  {
   "cell_type": "code",
   "execution_count": 54,
   "metadata": {},
   "outputs": [
    {
     "data": {
      "text/plain": [
       "['4. Основания для проведения закупки у единственного поставщика (подрядчика, исполнителя)',\n",
       " '1.1.2. На основании согласованного реестра закупок Инициатор в КЦ / Обществе Компания 1 осуществляет заключение договора с единственным поставщиком (подрядчиком, исполнителем).',\n",
       " '6.2.2.5. Закупка у единственного поставщика (подрядчика, исполнителя).',\n",
       " 'обоснованием необходимости заключения договора с единственным поставщиком (подрядчиком, исполнителем). В качестве такого обоснования могут быть предусмотрены условия обращения товара, работы или услуги на товарных рынках, не позволяющие провести закупку иным способом, в том числе наличие ограниченной конкуренции, а также иные обстоятельства, которые свидетельствуют, что закупка у единственного поставщика (подрядчика, исполнителя) с позиций экономической эффективности предпочтительна для заказчика или по объективным причинам проведение ее в иной форме нецелесообразно.В этом случае до заключения договора Центральный орган управления закупками дает предложения Председателю Правления ПАО\\xa0«Компания» (при стоимости закупки, превышающей 200\\xa0000\\xa0000 (Двести миллионов) рублей без НДС) или Председателю Правления ПАО\\xa0«Компания 1» (при стоимости закупки, не превышающей 200\\xa0000\\xa0000 (двести миллионов) рублей без НДС) по цене закупаемых по данному договору товаров (работ, услуг), после чего',\n",
       " '4. Основания для проведения закупки у единственного поставщика (подрядчика, исполнителя)\\n4.1. Заказчик вправе осуществлять закупку товаров, работ, услуг у единственного поставщика (подрядчика, исполнителя), когда проведение конкурентной закупки по экономическим, временным или объективным причинам нецелесообразно. Такие закупки могут проводиться в следующих случаях:\\n4.1.1. Заключается договор на поставку российских вооружения или военной техники с производителем или единственным поставщиком таких вооружения и военной техники (п. 17.1.1 ПоЗ);\\n4.1.2. Заключается договор купли-продажи электрической энергии (п. 17.1.2 ПоЗ);',\n",
       " '14.12.8. В случае если по нескольким лотам один участник закупки определен поставщиком (подрядчиком, исполнителем), с таким участником по каждому лоту должен быть заключен отдельный договор.\\n15. МАРКЕТИНГОВЫЕ ИССЛЕДОВАНИЯ\\n15.1. Общий порядок проведения маркетинговых исследований\\n15.1.1. Основанием для проведения Организатором маркетинговых исследований является утвержденный Годовой план закупок.\\n15.1.2. Маркетинговые исследования могут проводиться с применением процедур, предусмотренной в пункте 15.1.4:\\n15.1.2.1. путем размещения информации о маркетинговых исследованиях в Официальных источниках информации о закупках.\\n15.1.2.2. Путем направления потенциальным поставщикам (подрядчикам исполнителям) запросов о возможности осуществить поставку товаров (выполнить работы, оказать услуги) (запросы в бумажной форме) и получения соответствующих предложений (заказ).',\n",
       " '1.2.12. Закупка у единственного поставщика (подрядчика, исполнителя) способ неконкурентной закупки, при котором Заказчик предлагает заключить договор только одному поставщику (подрядчику, исполнителю) либо принимает предложение о заключении договора от одного поставщика (подрядчика, исполнителя) в случаях предусмотренных настоящим Положением.\\n1.2.13. Закупочная комиссия - используемый для целей настоящего Положения термин, объединяющий в себе понятие комиссия по осуществлению конкурентных закупок и комиссия по маркетинговым исследованиям.\\n1.2.14. Закупочные процедуры - стадии подготовки и осуществления закупки обеспечивающие выбор поставщика (подрядчика, исполнителя) на условиях состязательности.\\n1.2.15. Запрос котировок - форма торгов, при которой победителем запрос котировок признается участник закупки, заявка которого соответствует требованиям установленным извещением о проведении запроса котировок, и содержит наиболе низкую цену договора.',\n",
       " '1» или предприятия из числа Обществ Компания 1 с обоснованием необходимости заключения договора с единственным поставщиком (подрядчиком, исполнителем). В качестве такого обоснования могут быть предусмотрены условия обращения товара, работы или услуги на товарных рынках, не позволяющие провести закупку иным способом, в том числе наличие ограниченной конкуренции, а также иные обстоятельства, которые свидетельствуют, что закупка у единственного поставщика (подрядчика, исполнителя) с позиций экономической эффективности предпочтительна для заказчика или по объективным причинам проведение ее в иной форме нецелесообразно.В этом случае до заключения договора Центральный орган управления закупками дает предложения Председателю Правления ПАО\\xa0«Компания» (при стоимости закупки, превышающей 200\\xa0000\\xa0000 (Двести миллионов) рублей без НДС) или Председателю Правления ПАО\\xa0«Компания 1» (при стоимости закупки, не превышающей 200\\xa0000\\xa0000 (двести миллионов) рублей без НДС) по цене закупаемых по данному',\n",
       " '17. ЗАКУПКИ У ЕДИНСТВЕННОГО ПОСТАВЩИКА (ПОДРЯДЧИКА, ИСПОЛНИТЕЛЯ)\\n17.1. Заказчик вправе осуществлять закупку товаров (работ, услуг) у единственного поставщика (подрядчика, исполнителя), когда проведение конкурентной закупки по экономическим, временным или объективным причинам нецелесообразно. Такие закупки могу проводиться в следующих случаях:\\n17.1.1. Заключается договор на поставку российских вооружения или военной техники с производителем или единственным поставщиком таких вооружения и военной техники.\\n17.1.2. Заключается договор купли-продажи электрической энергии.\\n17.1.3. Возникла потребность в определенных товарах, работах, услугах вследствие непреодолимой силы (чрезвычайных и непредотвратимых при данных условиях обстоятельств), ликвидации техногенных аварий, необходимости срочного медицинского вмешательства, а также в целях предотвращения угрозы их возникновения в связи с чем применение иных способов закупки, требующих затрат времени нецелесообразно.',\n",
       " '5.4.2. При НМЦ планируемого к заключению договора 10 млн руб. без НДС и более возможность вынесения на утверждение вопроса о проведении закупки у единственного поставщика (подрядчика, исполнителя) рассматривает Сметная комиссия ПАО\\xa0«Компания 1». По результатам рассмотрения Сметной комиссией ПАО\\xa0\\xa0«Компания 1» возможности вынесения на утверждение вопроса о проведении закупки у единственного поставщика (подрядчика, исполнителя) решение о заключении договора с единственным поставщиком (подрядчиком, исполнителем) принимает Утверждающее лицо, в соответствии с п.4.1 настоящего стандарта.\\n5.5. Отмена закупки у единственного поставщика (подрядчика, исполнителя)\\n5.5.1. Отмена закупки у ЕдП является исключительной мерой.\\n5.5.2. В процессе проведения закупки у ЕдП до утверждения решения о закупке у ЕдП, Заказчик может принять решение об отмене закупки.\\n5.5.3. В этом случае Заказчик:']"
      ]
     },
     "execution_count": 54,
     "metadata": {},
     "output_type": "execute_result"
    }
   ],
   "source": [
    "source_documents = [doc.page_content for doc in response['source_documents']]\n",
    "source_documents"
   ]
  },
  {
   "cell_type": "code",
   "execution_count": 55,
   "metadata": {},
   "outputs": [
    {
     "name": "stdout",
     "output_type": "stream",
     "text": [
      "['3.1.', '1.1.2.', '6.2.2.5.', '4.1.25.', 'Закупка у ЕдП', 'ПоЗ', 'ПоЗ', 'Закупка у ЕдП', 'ПоЗ', 'Закупка у ЕдП']\n"
     ]
    }
   ],
   "source": [
    "def get_bullets_or_source(response):\n",
    "    bullets = []\n",
    "    for doc in response['source_documents']:\n",
    "        bullet = doc.metadata.get('bullet')\n",
    "        if bullet is None:\n",
    "            bullet = doc.metadata.get('source')\n",
    "        bullets.append(bullet)\n",
    "    return bullets\n",
    "\n",
    "meta = get_bullets_or_source(response)\n",
    "print(meta)"
   ]
  },
  {
   "cell_type": "code",
   "execution_count": 56,
   "metadata": {},
   "outputs": [
    {
     "data": {
      "text/plain": [
       "'Отсутствуют'"
      ]
     },
     "execution_count": 56,
     "metadata": {},
     "output_type": "execute_result"
    }
   ],
   "source": [
    "mentioned_bullets = find_relevant_bullets(inquiry)\n",
    "mentioned_bullets"
   ]
  },
  {
   "cell_type": "markdown",
   "metadata": {},
   "source": [
    "## Test"
   ]
  },
  {
   "cell_type": "markdown",
   "metadata": {},
   "source": [
    "#### Telegram"
   ]
  },
  {
   "cell_type": "code",
   "execution_count": null,
   "metadata": {},
   "outputs": [],
   "source": [
    "user_conversations = {}\n",
    "bot = telebot.TeleBot(BOT_TOKEN)"
   ]
  },
  {
   "cell_type": "code",
   "execution_count": null,
   "metadata": {},
   "outputs": [],
   "source": [
    "@bot.message_handler(content_types=['audio', 'video', 'document', 'photo', 'sticker', 'voice', 'location', 'contact'])\n",
    "def not_text(message):\n",
    "    user_id = message.chat.id\n",
    "    bot.send_message(user_id, 'Я работаю только с текстовыми сообщениями!')\n",
    "\n",
    "@bot.message_handler(content_types=['text'])\n",
    "\n",
    "def handle_text_message(message):\n",
    "    user_id = message.chat.id\n",
    "    extracted_question = extract_question_one(message.text)\n",
    "\n",
    "    response = chain.invoke({\"question\": extracted_question}, return_only_outputs = False)\n",
    "\n",
    "    bot.send_message(user_id, str(response['answer']))\n",
    "    sleep(2)"
   ]
  },
  {
   "cell_type": "code",
   "execution_count": null,
   "metadata": {},
   "outputs": [],
   "source": [
    "bot.polling(none_stop=True)"
   ]
  },
  {
   "cell_type": "markdown",
   "metadata": {},
   "source": [
    "#### Responses"
   ]
  },
  {
   "cell_type": "code",
   "execution_count": 260,
   "metadata": {},
   "outputs": [],
   "source": [
    "responses = pd.DataFrame(columns = ['letter', 'extracted questions', 'answer', 'rag answer', 'sources', 'mentioned bullets'])\n",
    "\n",
    "for letter in range(1, 21):\n",
    "\n",
    "    inquiry = str(reference['letter'][letter-1].replace('\\n', ' ')) # letters from excel\n",
    "    refer = str(reference['answer '][letter-1]).replace('\\n', ' ') # reference answer from excel\n",
    "\n",
    "    question = extract_question_three(inquiry)\n",
    "    response = chain.invoke({\"question\": question}, return_only_outputs = False)\n",
    "    rag_answer = response['answer']\n",
    "    sources = get_bullets_or_source(response)\n",
    "    mentioned_bullets= str(find_relevant_bullets(inquiry)).replace('/', ' ')\n",
    "\n",
    "    responses = pd.concat([responses, pd.DataFrame({'letter': [inquiry], \n",
    "                                                    'extracted questions': [question], \n",
    "                                                    'answer': [refer], \n",
    "                                                    'rag answer': [rag_answer], \n",
    "                                                    'sources': [sources],\n",
    "                                                    'mentioned bullets': [mentioned_bullets]})\n",
    "                                                    ], ignore_index = True)"
   ]
  },
  {
   "cell_type": "code",
   "execution_count": 261,
   "metadata": {},
   "outputs": [
    {
     "data": {
      "text/html": [
       "<div>\n",
       "<style scoped>\n",
       "    .dataframe tbody tr th:only-of-type {\n",
       "        vertical-align: middle;\n",
       "    }\n",
       "\n",
       "    .dataframe tbody tr th {\n",
       "        vertical-align: top;\n",
       "    }\n",
       "\n",
       "    .dataframe thead th {\n",
       "        text-align: right;\n",
       "    }\n",
       "</style>\n",
       "<table border=\"1\" class=\"dataframe\">\n",
       "  <thead>\n",
       "    <tr style=\"text-align: right;\">\n",
       "      <th></th>\n",
       "      <th>letter</th>\n",
       "      <th>extracted questions</th>\n",
       "      <th>answer</th>\n",
       "      <th>rag answer</th>\n",
       "      <th>sources</th>\n",
       "      <th>mentioned bullets</th>\n",
       "    </tr>\n",
       "  </thead>\n",
       "  <tbody>\n",
       "    <tr>\n",
       "      <th>0</th>\n",
       "      <td>Уважаемые коллеги,  Добрый день! У меня возник...</td>\n",
       "      <td>1. Какие методы допустимы при расчете начально...</td>\n",
       "      <td>Согласно пункту 5.11 ПоЗ, при закупках товаров...</td>\n",
       "      <td>Для расчета начальной максимальной цены (НМЦ) ...</td>\n",
       "      <td>[ПоЗ, ПоЗ, 4.5.13., 5.11., ПоЗ, ПоЗ, 4.5.10., ...</td>\n",
       "      <td>Отсутствуют</td>\n",
       "    </tr>\n",
       "    <tr>\n",
       "      <th>1</th>\n",
       "      <td>Уважаемые коллеги,  Обращаюсь с вопросом: При ...</td>\n",
       "      <td>1. Кто должен согласовать диапазон цен при аре...</td>\n",
       "      <td>Согласно СК-03.03.02.01 Проведение закупки у е...</td>\n",
       "      <td>Для согласования диапазона цен при аренде АЗС ...</td>\n",
       "      <td>[3.2., Закупка у ЕдП Приложение 2, Закупка у Е...</td>\n",
       "      <td>Отсутствуют</td>\n",
       "    </tr>\n",
       "    <tr>\n",
       "      <th>2</th>\n",
       "      <td>Уважаемые коллеги,  У меня вопрос, связанный с...</td>\n",
       "      <td>1. Может ли быть заключен договор с участником...</td>\n",
       "      <td>пункт 17.1.8. в случае, когда на участие в кон...</td>\n",
       "      <td>1. Участник, который подал заявку на конкурент...</td>\n",
       "      <td>[ПоЗ, ПоЗ, ПоЗ, ПоЗ, ПоЗ, ПоЗ, ПоЗ, ПоЗ, ПоЗ, ...</td>\n",
       "      <td>Отсутствуют</td>\n",
       "    </tr>\n",
       "    <tr>\n",
       "      <th>3</th>\n",
       "      <td>Уважаемые участники,  Обращаюсь с вопросом, ка...</td>\n",
       "      <td>1. Какие требования и правила применяются к ко...</td>\n",
       "      <td>Согласно пункту 1.2.43 ПоЗ, участником закупки...</td>\n",
       "      <td>Для коллективных участников, включая физически...</td>\n",
       "      <td>[ПоЗ, ПоЗ, ПоЗ, ПоЗ, ПоЗ, ПоЗ, ПоЗ, ПоЗ, ПоЗ, ...</td>\n",
       "      <td>Отсутствуют</td>\n",
       "    </tr>\n",
       "    <tr>\n",
       "      <th>4</th>\n",
       "      <td>Добрый день! Подскажите, пожалуйста, по дате з...</td>\n",
       "      <td>1. Какая дата заключения договора ВЗЛ является...</td>\n",
       "      <td>Датой подведения итогов закупки для способа за...</td>\n",
       "      <td>Для ответа на вопросы, связанные с датами закл...</td>\n",
       "      <td>[Формирование ГПЗ, 5.6.2., Формирование ГПЗ, Ф...</td>\n",
       "      <td>Отсутствуют</td>\n",
       "    </tr>\n",
       "  </tbody>\n",
       "</table>\n",
       "</div>"
      ],
      "text/plain": [
       "                                              letter  \\\n",
       "0  Уважаемые коллеги,  Добрый день! У меня возник...   \n",
       "1  Уважаемые коллеги,  Обращаюсь с вопросом: При ...   \n",
       "2  Уважаемые коллеги,  У меня вопрос, связанный с...   \n",
       "3  Уважаемые участники,  Обращаюсь с вопросом, ка...   \n",
       "4  Добрый день! Подскажите, пожалуйста, по дате з...   \n",
       "\n",
       "                                 extracted questions  \\\n",
       "0  1. Какие методы допустимы при расчете начально...   \n",
       "1  1. Кто должен согласовать диапазон цен при аре...   \n",
       "2  1. Может ли быть заключен договор с участником...   \n",
       "3  1. Какие требования и правила применяются к ко...   \n",
       "4  1. Какая дата заключения договора ВЗЛ является...   \n",
       "\n",
       "                                              answer  \\\n",
       "0  Согласно пункту 5.11 ПоЗ, при закупках товаров...   \n",
       "1  Согласно СК-03.03.02.01 Проведение закупки у е...   \n",
       "2  пункт 17.1.8. в случае, когда на участие в кон...   \n",
       "3  Согласно пункту 1.2.43 ПоЗ, участником закупки...   \n",
       "4  Датой подведения итогов закупки для способа за...   \n",
       "\n",
       "                                          rag answer  \\\n",
       "0  Для расчета начальной максимальной цены (НМЦ) ...   \n",
       "1  Для согласования диапазона цен при аренде АЗС ...   \n",
       "2  1. Участник, который подал заявку на конкурент...   \n",
       "3  Для коллективных участников, включая физически...   \n",
       "4  Для ответа на вопросы, связанные с датами закл...   \n",
       "\n",
       "                                             sources mentioned bullets  \n",
       "0  [ПоЗ, ПоЗ, 4.5.13., 5.11., ПоЗ, ПоЗ, 4.5.10., ...       Отсутствуют  \n",
       "1  [3.2., Закупка у ЕдП Приложение 2, Закупка у Е...       Отсутствуют  \n",
       "2  [ПоЗ, ПоЗ, ПоЗ, ПоЗ, ПоЗ, ПоЗ, ПоЗ, ПоЗ, ПоЗ, ...       Отсутствуют  \n",
       "3  [ПоЗ, ПоЗ, ПоЗ, ПоЗ, ПоЗ, ПоЗ, ПоЗ, ПоЗ, ПоЗ, ...       Отсутствуют  \n",
       "4  [Формирование ГПЗ, 5.6.2., Формирование ГПЗ, Ф...       Отсутствуют  "
      ]
     },
     "execution_count": 261,
     "metadata": {},
     "output_type": "execute_result"
    }
   ],
   "source": [
    "responses.head()"
   ]
  },
  {
   "cell_type": "code",
   "execution_count": 262,
   "metadata": {},
   "outputs": [],
   "source": [
    "responses.to_excel('rag_test_three.xlsx', index=False)"
   ]
  },
  {
   "cell_type": "markdown",
   "metadata": {},
   "source": [
    "## Compute Score"
   ]
  },
  {
   "cell_type": "code",
   "execution_count": null,
   "metadata": {},
   "outputs": [],
   "source": [
    "from FlagEmbedding import BGEM3FlagModel\n",
    "\n",
    "cross_model = BGEM3FlagModel('BAAI/bge-m3', use_fp16=False)\n",
    "\n",
    "test = pd.read_excel('explore/rag_test_three.xlsx') # read xlsx test file\n",
    "\n",
    "def cross_score(model_answer, ans):\n",
    "    score = cross_model.compute_score([ans, model_answer], max_passage_length=128, weights_for_different_modes=[1.0, 1.0, 1.0])['colbert']\n",
    "    return score\n",
    "\n",
    "results = pd.DataFrame(columns=['model_answer', 'reference_answer', 'score'])\n",
    "\n",
    "for letter in range(1, 21):\n",
    "    model_answer = str(test['rag answer'][letter-1].replace('\\n', ' ')) # letters from xlsx\n",
    "    ans = str(test['answer'][letter-1]).replace('\\n', ' ') # reference answer from xlsx\n",
    "\n",
    "    score = cross_score(model_answer, ans)\n",
    "\n",
    "\n",
    "    current_result = pd.DataFrame({\n",
    "        'model_answer': [model_answer],\n",
    "        'reference_answer': [ans],\n",
    "        'score': [score]\n",
    "    })\n",
    "\n",
    "    results = pd.concat([results, current_result], ignore_index=True)\n",
    "\n",
    "results.to_excel('comparison_results.xlsx', index=False)"
   ]
  },
  {
   "cell_type": "code",
   "execution_count": null,
   "metadata": {},
   "outputs": [],
   "source": [
    "test = pd.read_excel('comparison_results.xlsx')"
   ]
  },
  {
   "cell_type": "code",
   "execution_count": null,
   "metadata": {},
   "outputs": [],
   "source": [
    "test['score'][:18]"
   ]
  },
  {
   "cell_type": "code",
   "execution_count": null,
   "metadata": {},
   "outputs": [],
   "source": [
    "test['score'][:18].mean()"
   ]
  },
  {
   "cell_type": "markdown",
   "metadata": {},
   "source": [
    "#### Basic Queries"
   ]
  },
  {
   "cell_type": "markdown",
   "metadata": {},
   "source": [
    "[Cypher](https://neo4j.com/docs/cypher-cheat-sheet/5/auradb-enterprise)"
   ]
  },
  {
   "cell_type": "code",
   "execution_count": null,
   "metadata": {},
   "outputs": [
    {
     "name": "stdout",
     "output_type": "stream",
     "text": [
      "Node properties are the following:\n",
      "Chunk {embedding: LIST, id: STRING, text: STRING, source: STRING, bullet: STRING},Document {embedding: LIST, id: STRING, text: STRING, source: STRING, bullet: STRING},Test {embedding: LIST, id: STRING, text: STRING, source: STRING, bullet: STRING}\n",
      "Relationship properties are the following:\n",
      "\n",
      "The relationships are the following:\n",
      "\n"
     ]
    }
   ],
   "source": [
    "print(graph.schema)"
   ]
  },
  {
   "cell_type": "code",
   "execution_count": null,
   "metadata": {},
   "outputs": [],
   "source": [
    "cypher = \"\"\"\n",
    "         SHOW VECTOR INDEXES\n",
    "         \"\"\"\n",
    "graph.query(cypher)"
   ]
  },
  {
   "cell_type": "code",
   "execution_count": 207,
   "metadata": {},
   "outputs": [
    {
     "data": {
      "text/plain": [
       "[{'count(n)': 3982}]"
      ]
     },
     "execution_count": 207,
     "metadata": {},
     "output_type": "execute_result"
    }
   ],
   "source": [
    "cypher = \"\"\"\n",
    "         MATCH (n)\n",
    "         RETURN count(n)\n",
    "         \"\"\"\n",
    "graph.query(cypher)"
   ]
  },
  {
   "cell_type": "code",
   "execution_count": 208,
   "metadata": {},
   "outputs": [
    {
     "data": {
      "text/plain": [
       "[{'text': '2.1. Планирование закупок ПАО «Компания 1» и Обществ Компания 1 осуществляется путем составления годового плана закупок ПАО «Компания 1» и Обществ Компания 1 на календарный год (далее также – Годовой план закупок), а также планов закупок Заказчиков. Годовой план закупок является основанием для осуществления закупок. Перечень конкурентных и неконкурентных закупок определенного Заказчика, включенных в Годовой план закупок, включается Заказчиком в состав плана закупок Заказчика.'},\n",
       " {'text': '2.1. В настоящем стандарте содержатся ссылки на следующие нормативные и организационно-распорядительные документы Группы компаний ГПН: КТ-004 «Термины и сокращения» ; ПК-00 «Управление системой стандартизации»; М-13.07.11-01 «Методика определения лимита авансового платежа контрагентам при закупке товаров, работ, услуг»; Положение о закупках товаров, работ, услуг ПАО\\xa0«Компания 1», утвержденное решением Совета директоров ПАО\\xa0«Компания 1» 29\\xa0марта 2019 года, протокол №\\xa0ПТ-0102/14; Приказ Компании 45-П от 11.05.2022 г. «Об особенностях применения Положения о закупках товаров, работ, услуг и нормативно-методических документов в области закупочной деятельности»; Приказ Компании 54-П от 26.05.2022 г. «О закупках импортных товаров, работ, услуг»; Приказ Компании 80-П от 13.10.2023 г. «О порядке оплаты товаров, работ, услуг на условиях авансирования»; Положение Компании О Комиссии по контролю за закупками импортных товаров, работ, услуг от 16.09.2022, протокол № ПТ-НК-10/00714/01; СК-03.02.01'},\n",
       " {'text': '«Формирование Годового плана закупок»; СК-08.02.01 «Документы группы компаний ГПН. Порядок подготовки, согласования, подписания и регистрации договорных документов в системе электронного документооборота»; Ш-03.03.02.01-01 Решение о закупке у ЕдП (НМЦ менее 10 млн руб. без НДС); Ш-03.03.02.01-02 Решение о закупке у ЕдП (НМЦ 10 млн руб. без НДС и более); Ш-03.03.02.01-03 Заключение по итогам анализа рынка; Ш-03.03.02.01-04 Комплект документов для закупок услуг по авторскому контролю за разработкой проектной документации; Ш-03.03.02.01-05 Запрос технико-коммерческих предложений для анализа рынка; Ш-03.03.02.01-06 Бюллетень для голосования члена Сметной комиссии; Ш-03.03.02.01-07 Письмо в адрес Утверждающего лица; Ш-03.03.02.01-08 Уведомление Инициатору по результатам закупки у ЕдП; Ш-03.03.02.01-09 Информация о планируемой закупке по системам безопасности; Ш-03.03.02.01-10 Комплект документов для закупок по системам безопасности'},\n",
       " {'text': '3. Термины и сокращения '},\n",
       " {'text': '2.1. Сформированная потребность по закупкам, связанным с системами безопасности, подлежит обязательному согласованию с Дирекцией корпоративной защиты ПАО «Компания 1» (оформляется в соответствии с Ш-03.03.02.01-09).'}]"
      ]
     },
     "execution_count": 208,
     "metadata": {},
     "output_type": "execute_result"
    }
   ],
   "source": [
    "cypher = \"\"\"\n",
    "         MATCH (n:Bullet {bullet: \"2.1.\"})\n",
    "         RETURN n.text AS text\n",
    "         \"\"\"\n",
    "graph.query(cypher)"
   ]
  },
  {
   "cell_type": "code",
   "execution_count": 219,
   "metadata": {},
   "outputs": [],
   "source": [
    "def query_bullet(number):\n",
    "    if isinstance(number, str) and number.replace('.', '').isdigit():\n",
    "        number = number.rstrip('.').strip() + '.'\n",
    "    else:\n",
    "        return \"Invalid input. Please enter a bullet number in the format 'number.'\"\n",
    "    \n",
    "    cypher = f\"\"\"\n",
    "                MATCH (n:Bullet)\n",
    "                WHERE n.bullet = '{number}' AND n.bullet IS NOT NULL\n",
    "                RETURN n.text\n",
    "                \"\"\"\n",
    "    try:\n",
    "        result = graph.query(cypher)\n",
    "        if result:\n",
    "            return result\n",
    "        else:\n",
    "            return \"No data found for the specified bullet number.\"\n",
    "    except Exception as e:\n",
    "        return f\"An error occurred: {str(e)}\""
   ]
  },
  {
   "cell_type": "code",
   "execution_count": 232,
   "metadata": {},
   "outputs": [
    {
     "data": {
      "text/plain": [
       "[{'n.text': '1.2. Термины и определения'},\n",
       " {'n.text': '1.2. При распространении НМД через механизм тиражирование:'},\n",
       " {'n.text': '1.2. При проведении закупок для оказания услуг по авторскому контролю за разработкой проектной документации при НМЦ договора 10 млн руб. без НДС и более Инициатор также оформляет комплект документов в соответствии с шаблоном (Ш-03.03.02.01-04).'}]"
      ]
     },
     "execution_count": 232,
     "metadata": {},
     "output_type": "execute_result"
    }
   ],
   "source": [
    "bullet_number = '1.2.'\n",
    "query_bullet(bullet_number)"
   ]
  }
 ],
 "metadata": {
  "kernelspec": {
   "display_name": "base",
   "language": "python",
   "name": "python3"
  },
  "language_info": {
   "codemirror_mode": {
    "name": "ipython",
    "version": 3
   },
   "file_extension": ".py",
   "mimetype": "text/x-python",
   "name": "python",
   "nbconvert_exporter": "python",
   "pygments_lexer": "ipython3",
   "version": "3.11.4"
  },
  "orig_nbformat": 4
 },
 "nbformat": 4,
 "nbformat_minor": 2
}
