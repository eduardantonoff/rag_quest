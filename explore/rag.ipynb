{
 "cells": [
  {
   "cell_type": "markdown",
   "metadata": {},
   "source": [
    "# RAG "
   ]
  },
  {
   "cell_type": "markdown",
   "metadata": {},
   "source": [
    "#### Libraries"
   ]
  },
  {
   "cell_type": "code",
   "execution_count": 12,
   "metadata": {},
   "outputs": [],
   "source": [
    "# processing:\n",
    "import os\n",
    "import re\n",
    "import pandas as pd\n",
    "import numpy as np\n",
    "from dotenv import load_dotenv\n",
    "from sklearn.metrics.pairwise import cosine_similarity\n",
    "\n",
    "# neo4j:\n",
    "from langchain_community.graphs import Neo4jGraph\n",
    "from langchain_community.vectorstores import Neo4jVector\n",
    "\n",
    "# llm:\n",
    "from langchain.chat_models.gigachat import GigaChat\n",
    "from langchain_community.embeddings import GigaChatEmbeddings\n",
    "from langchain.prompts import ChatPromptTemplate\n",
    "from langchain_core.output_parsers import StrOutputParser\n",
    "\n",
    "# retrieval:\n",
    "from langchain.chains import RetrievalQAWithSourcesChain\n",
    "\n",
    "# telegram:\n",
    "import telebot\n",
    "from time import sleep"
   ]
  },
  {
   "cell_type": "markdown",
   "metadata": {},
   "source": [
    "#### .env"
   ]
  },
  {
   "cell_type": "code",
   "execution_count": 13,
   "metadata": {},
   "outputs": [
    {
     "data": {
      "text/plain": [
       "True"
      ]
     },
     "execution_count": 13,
     "metadata": {},
     "output_type": "execute_result"
    }
   ],
   "source": [
    "load_dotenv()"
   ]
  },
  {
   "cell_type": "code",
   "execution_count": 14,
   "metadata": {},
   "outputs": [],
   "source": [
    "# neo4j:\n",
    "NEO4J_URI = os.getenv('NEO4J_URI')\n",
    "NEO4J_USERNAME = os.getenv('NEO4J_USERNAME')\n",
    "NEO4J_PASSWORD = os.getenv('NEO4J_PASSWORD')\n",
    "NEO4J_DATABASE= os.getenv('NEO4J_DATABASE')\n",
    "\n",
    "# llm:\n",
    "GIGACHAT_SCOPE = os.getenv('SCOPE')\n",
    "GIGACHAT_AUTH = os.getenv('AUTH_DATA')\n",
    "\n",
    "# telegram:\n",
    "BOT_TOKEN = os.getenv('BOT_TOKEN')\n",
    "\n"
   ]
  },
  {
   "cell_type": "markdown",
   "metadata": {},
   "source": [
    "#### Reference"
   ]
  },
  {
   "cell_type": "code",
   "execution_count": 15,
   "metadata": {},
   "outputs": [],
   "source": [
    "reference = pd.read_excel('../docs/reference.xlsx')"
   ]
  },
  {
   "cell_type": "markdown",
   "metadata": {},
   "source": [
    "## Setting Up Database"
   ]
  },
  {
   "cell_type": "markdown",
   "metadata": {},
   "source": [
    "### Connection"
   ]
  },
  {
   "cell_type": "code",
   "execution_count": 16,
   "metadata": {},
   "outputs": [],
   "source": [
    "embeddings = GigaChatEmbeddings(credentials = GIGACHAT_AUTH, verify_ssl_certs = False)"
   ]
  },
  {
   "cell_type": "code",
   "execution_count": 18,
   "metadata": {},
   "outputs": [],
   "source": [
    "vectorestore = Neo4jVector.from_existing_index(embeddings,\n",
    "                                          url = NEO4J_URI,\n",
    "                                          username = NEO4J_USERNAME,\n",
    "                                          password = NEO4J_PASSWORD,\n",
    "                                          node_label = \"Bullet\",\n",
    "                                          index_name = \"bullet\",\n",
    "                                          keyword_index_name = \"word\",\n",
    "                                          search_type = 'hybrid',\n",
    "                                         )"
   ]
  },
  {
   "cell_type": "code",
   "execution_count": 19,
   "metadata": {},
   "outputs": [],
   "source": [
    "graph = Neo4jGraph(url = NEO4J_URI, username = NEO4J_USERNAME, password = NEO4J_PASSWORD, database = NEO4J_DATABASE)"
   ]
  },
  {
   "cell_type": "markdown",
   "metadata": {},
   "source": [
    "### Populate"
   ]
  },
  {
   "cell_type": "code",
   "execution_count": 20,
   "metadata": {},
   "outputs": [],
   "source": [
    "import pickle\n",
    "\n",
    "with open('collections.pkl', 'rb') as f:\n",
    "    collections = pickle.load(f)\n",
    "    \n"
   ]
  },
  {
   "cell_type": "markdown",
   "metadata": {},
   "source": [
    "> **NOTE:** DON'T RUN!"
   ]
  },
  {
   "cell_type": "code",
   "execution_count": 42,
   "metadata": {},
   "outputs": [],
   "source": [
    "# vectorestore = Neo4jVector.from_documents(collections,\n",
    "#                                           embeddings,\n",
    "#                                           url = NEO4J_URI,\n",
    "#                                           username = NEO4J_USERNAME,\n",
    "#                                           password = NEO4J_PASSWORD,\n",
    "#                                           node_label = \"Bullet\",\n",
    "#                                           index_name = \"bullet\",\n",
    "#                                           keyword_index_name = \"word\",\n",
    "#                                           text_node_property = \"text\",\n",
    "#                                           embedding_node_property = \"embedding\",\n",
    "#                                           search_type = 'hybrid',\n",
    "#                                           create_id_index = True,\n",
    "#                                          )"
   ]
  },
  {
   "cell_type": "markdown",
   "metadata": {},
   "source": [
    "## Setting Up LLM\n"
   ]
  },
  {
   "cell_type": "code",
   "execution_count": 21,
   "metadata": {},
   "outputs": [],
   "source": [
    "llm = GigaChat(model = \"GigaChat-Pro\", # \"GigaChat-Pro\" / \"GigaChat-Plus\" (32k)\n",
    "               temperature = 0.3,\n",
    "               top_p = 0.2,\n",
    "               n = 1,\n",
    "               repetition_penalty = 1,\n",
    "               credentials = GIGACHAT_AUTH, \n",
    "               verify_ssl_certs = False)"
   ]
  },
  {
   "cell_type": "code",
   "execution_count": 22,
   "metadata": {},
   "outputs": [],
   "source": [
    "parser = StrOutputParser()"
   ]
  },
  {
   "cell_type": "markdown",
   "metadata": {},
   "source": [
    "## Prompt Engineering"
   ]
  },
  {
   "cell_type": "markdown",
   "metadata": {},
   "source": [
    "#### Prompt Template"
   ]
  },
  {
   "cell_type": "code",
   "execution_count": 27,
   "metadata": {},
   "outputs": [],
   "source": [
    "def init_prompts(prompt_dir: str): \n",
    "    with open(os.path.join(prompt_dir, \"query_template_0.txt\"), 'r', encoding='utf-8') as f:\n",
    "        qt0 = f.read()\n",
    "           \n",
    "    with open(os.path.join(prompt_dir, \"query_template_1.txt\"), 'r', encoding='utf-8') as f:\n",
    "        qt1 = f.read()   \n",
    "        \n",
    "    with open(os.path.join(prompt_dir, \"query_template_2.txt\"), 'r', encoding='utf-8') as f:\n",
    "        qt2 = f.read()   \n",
    "        \n",
    "    with open(os.path.join(prompt_dir, \"query_template_3.txt\"), 'r', encoding='utf-8') as f:\n",
    "        qt3 = f.read()   \n",
    "        \n",
    "    return (qt0, qt1, qt2, qt3)     \n",
    "    \n",
    "# template = \"\"\"\n",
    "#             Задача: Предоставлять детализированные ответы, используя указанные документы.\n",
    "\n",
    "#             Цитируйте конкретные пункты и статьи документов при ответе на вопросы, связанные с правилами.\n",
    "#             Объясните применение документов. Не повторяйте информацию и формулируйте ответы грамотно.\n",
    "\n",
    "#             Запрос: \"{question}\"\n",
    "#             Документы: \"{context}\"\n",
    "            \n",
    "#             Ответ: Ответ должен содержать не более 200 слов и включать финальный вывод.\n",
    "#             \"\"\"\n",
    "\n",
    "qt0, qt1, qt2, qt3  = init_prompts(\"../data/prompts\")\n",
    "# print(qt0, qt1, qt2, qt3)\n",
    "\n",
    "prompt = ChatPromptTemplate.from_template(qt0)"
   ]
  },
  {
   "cell_type": "code",
   "execution_count": null,
   "metadata": {},
   "outputs": [],
   "source": []
  },
  {
   "cell_type": "code",
   "execution_count": null,
   "metadata": {},
   "outputs": [],
   "source": []
  },
  {
   "cell_type": "code",
   "execution_count": 28,
   "metadata": {},
   "outputs": [
    {
     "data": {
      "text/plain": [
       "83"
      ]
     },
     "execution_count": 28,
     "metadata": {},
     "output_type": "execute_result"
    }
   ],
   "source": [
    "llm.get_num_tokens(qt0)"
   ]
  },
  {
   "cell_type": "markdown",
   "metadata": {},
   "source": [
    "#### Question Extraction"
   ]
  },
  {
   "cell_type": "markdown",
   "metadata": {},
   "source": [
    "##### 3 Versions"
   ]
  },
  {
   "cell_type": "code",
   "execution_count": 29,
   "metadata": {},
   "outputs": [],
   "source": [
    "def extract_question_one(text):\n",
    "    chain = llm | parser\n",
    "    template = qt1.format(text=text)\n",
    "    return chain.invoke(template).replace('/', ' ')"
   ]
  },
  {
   "cell_type": "code",
   "execution_count": 30,
   "metadata": {},
   "outputs": [],
   "source": [
    "def extract_question_two(text):\n",
    "    chain = llm | parser\n",
    "    template = qt2.format(text=text)\n",
    "    return chain.invoke(template).replace('/', ' ')"
   ]
  },
  {
   "cell_type": "code",
   "execution_count": 31,
   "metadata": {},
   "outputs": [],
   "source": [
    "def extract_question_three(text):\n",
    "    chain = llm | parser\n",
    "    template = qt3.format(text=text)\n",
    "    return chain.invoke(template).replace('/', ' ')\n"
   ]
  },
  {
   "cell_type": "markdown",
   "metadata": {},
   "source": [
    "### Utilities"
   ]
  },
  {
   "cell_type": "code",
   "execution_count": 51,
   "metadata": {},
   "outputs": [
    {
     "data": {
      "text/plain": [
       "['1.1. Предмет и цели регулирования',\n",
       " 'ения  обеспечивают утверждение положений о закупках в своих дочерних обществах. Представители интересов ПАО «Компания 1» и дочерних обществ ПАО «Компания  1» в органах управления иных предприятий из числа Обществ Компания 1, обеспечивают  разработку и принятие на основе настоящего Положения локального нормативного акта,  регулирующего закупочную деятельность соответствующего предприятия из числа  Обществ Компания 1, в том числе предусматривающего возможность передачи ПАО  «Компания 1» или иному предприятию, определенному в пункте 1.2.35 настоящего  Положения, функций Организатора и проведения закупок в соответствии с правилами,  установленными настоящим Положением, или принятие решения о присоединении к  настоящему Положению. При присоединении к настоящему Положению (присоединении к изменениям в  настоящее Положение) Общества Компания 1 вправе утвердить собственный перечень  Взаимозависимых с Заказчиком лиц.',\n",
       " '1.1.4. Требования настоящего Положения обязательны для применения при  осуществлении закупочной деятельности ПАО «Компания 1» и Обществ Компания 1. Дочерние общества ПАО «Компания 1» присоединяются к настоящему Положению  путем оформления решения о присоединении органом, имеющим соответствующие полномочия, согласно законодательству Российской Федерации и учредительным  документам присоединяющегося дочернего общества ПАО «Компания 1». Дочерние общества ПАО «Компания 1» присоединяются к изменениям в настоящее  Положение путем оформления решения о присоединении к изменениям в настоящее  Положение в порядке, установленном в соответствующем дочернем обществе ПАО  «Компания 1». Предприятие из числа Обществ Компания 1, не являющаяся дочерним обществом  ПАО «Компания 1», вправе присоединиться к настоящему Положению (к изменениям в  настоящее Положение) в соответствии с абзацами вторым и третьим настоящего пункта. Дочерние общества ПАО «Компания 1» на основе настоящего Положения  обеспечивают у']"
      ]
     },
     "execution_count": 51,
     "metadata": {},
     "output_type": "execute_result"
    }
   ],
   "source": [
    "from typing import List\n",
    "\n",
    "def find_relevant_bullets(inquiry: str) -> List[str]:\n",
    "    match = re.search(r'(\\d+\\.\\d+)(?:\\.\\d+)?', inquiry)\n",
    "    \n",
    "    if match:\n",
    "        number = match.group(1)\n",
    "        \n",
    "        cypher = f\"\"\"\n",
    "                    MATCH (n:Document)\n",
    "                    WHERE n.bullet STARTS WITH '{number}' AND n.bullet IS NOT NULL\n",
    "                    RETURN n.text\n",
    "                    \"\"\"\n",
    "        mentioned_bullets = graph.query(cypher)\n",
    "        \n",
    "        if mentioned_bullets:\n",
    "            texts = [bullet['n.text'] for bullet in mentioned_bullets]\n",
    "            \n",
    "            all_embeddings = [embeddings.embed_query(text) for text in texts] + [embeddings.embed_query(inquiry)]\n",
    "            inquiry_embedding = all_embeddings[-1]\n",
    "            bullet_embeddings = all_embeddings[:-1]\n",
    "            \n",
    "            similarities = cosine_similarity([inquiry_embedding], bullet_embeddings)[0]\n",
    "            top_indices = np.argsort(similarities)[::-1][:3]\n",
    "            top_texts = [texts[i] for i in top_indices]\n",
    "            \n",
    "            return top_texts\n",
    "        else:\n",
    "            return [\"Отсутствуют\"]\n",
    "    else:\n",
    "        return [\"Отсутствуют\"]\n",
    "    \n",
    "    \n",
    "find_relevant_bullets(\"1.1\")"
   ]
  },
  {
   "cell_type": "code",
   "execution_count": null,
   "metadata": {},
   "outputs": [],
   "source": []
  },
  {
   "cell_type": "markdown",
   "metadata": {},
   "source": [
    "## LLM Retrival Chain"
   ]
  },
  {
   "cell_type": "markdown",
   "metadata": {},
   "source": [
    "#### Chain"
   ]
  },
  {
   "cell_type": "code",
   "execution_count": 33,
   "metadata": {},
   "outputs": [],
   "source": [
    "retriever = vectorestore.as_retriever(search_kwargs={\"k\": 10, 'score_threshold': 0.95, 'lambda_mult': 0.25})"
   ]
  },
  {
   "cell_type": "code",
   "execution_count": 34,
   "metadata": {},
   "outputs": [],
   "source": [
    "chain = RetrievalQAWithSourcesChain.from_chain_type(llm, # pro / plus\n",
    "                                                    chain_type = \"stuff\", # \"stuff\" / \"map_rerank\" / \"refine\"\n",
    "                                                    retriever = retriever,\n",
    "                                                    return_source_documents = True,\n",
    "                                                    reduce_k_below_max_tokens = True,\n",
    "                                                    max_tokens_limit = 8000, # up to 32k with plus model\n",
    "                                                    chain_type_kwargs = {\"verbose\": False,\n",
    "                                                                         \"prompt\": prompt,\n",
    "                                                                         \"document_variable_name\": \"context\"})"
   ]
  },
  {
   "cell_type": "markdown",
   "metadata": {},
   "source": [
    "##### Outputs"
   ]
  },
  {
   "cell_type": "code",
   "execution_count": 62,
   "metadata": {},
   "outputs": [
    {
     "ename": "KeyboardInterrupt",
     "evalue": "",
     "output_type": "error",
     "traceback": [
      "\u001b[1;31m---------------------------------------------------------------------------\u001b[0m",
      "\u001b[1;31mKeyboardInterrupt\u001b[0m                         Traceback (most recent call last)",
      "Cell \u001b[1;32mIn[62], line 10\u001b[0m\n\u001b[0;32m      7\u001b[0m question_two \u001b[38;5;241m=\u001b[39m extract_question_two(inquiry)\n\u001b[0;32m      8\u001b[0m question_three \u001b[38;5;241m=\u001b[39m extract_question_three(inquiry)\n\u001b[1;32m---> 10\u001b[0m response \u001b[38;5;241m=\u001b[39m \u001b[43mchain\u001b[49m\u001b[38;5;241;43m.\u001b[39;49m\u001b[43minvoke\u001b[49m\u001b[43m(\u001b[49m\u001b[43m{\u001b[49m\u001b[38;5;124;43m\"\u001b[39;49m\u001b[38;5;124;43mquestion\u001b[39;49m\u001b[38;5;124;43m\"\u001b[39;49m\u001b[43m:\u001b[49m\u001b[43m \u001b[49m\u001b[43mextract_question_one\u001b[49m\u001b[43m(\u001b[49m\u001b[43minquiry\u001b[49m\u001b[43m)\u001b[49m\u001b[43m}\u001b[49m\u001b[43m,\u001b[49m\u001b[43m \u001b[49m\u001b[43mreturn_only_outputs\u001b[49m\u001b[43m \u001b[49m\u001b[38;5;241;43m=\u001b[39;49m\u001b[43m \u001b[49m\u001b[38;5;28;43;01mFalse\u001b[39;49;00m\u001b[43m)\u001b[49m\n\u001b[0;32m     12\u001b[0m \u001b[38;5;28mprint\u001b[39m(\u001b[38;5;124mf\u001b[39m\u001b[38;5;124m\"\u001b[39m\u001b[38;5;124mQestion 1:\u001b[39m\u001b[38;5;130;01m\\n\u001b[39;00m\u001b[38;5;132;01m{\u001b[39;00mquestion_one\u001b[38;5;132;01m}\u001b[39;00m\u001b[38;5;130;01m\\n\u001b[39;00m\u001b[38;5;124m\"\u001b[39m)\n\u001b[0;32m     13\u001b[0m \u001b[38;5;28mprint\u001b[39m(\u001b[38;5;124mf\u001b[39m\u001b[38;5;124m\"\u001b[39m\u001b[38;5;124mQestion 2:\u001b[39m\u001b[38;5;130;01m\\n\u001b[39;00m\u001b[38;5;132;01m{\u001b[39;00mquestion_two\u001b[38;5;132;01m}\u001b[39;00m\u001b[38;5;130;01m\\n\u001b[39;00m\u001b[38;5;124m\"\u001b[39m)\n",
      "File \u001b[1;32mc:\\Users\\pavelp\\Projects\\mipt\\hackathon\\rag\\explore\\.venv\\lib\\site-packages\\langchain\\chains\\base.py:163\u001b[0m, in \u001b[0;36mChain.invoke\u001b[1;34m(self, input, config, **kwargs)\u001b[0m\n\u001b[0;32m    161\u001b[0m \u001b[38;5;28;01mexcept\u001b[39;00m \u001b[38;5;167;01mBaseException\u001b[39;00m \u001b[38;5;28;01mas\u001b[39;00m e:\n\u001b[0;32m    162\u001b[0m     run_manager\u001b[38;5;241m.\u001b[39mon_chain_error(e)\n\u001b[1;32m--> 163\u001b[0m     \u001b[38;5;28;01mraise\u001b[39;00m e\n\u001b[0;32m    164\u001b[0m run_manager\u001b[38;5;241m.\u001b[39mon_chain_end(outputs)\n\u001b[0;32m    166\u001b[0m \u001b[38;5;28;01mif\u001b[39;00m include_run_info:\n",
      "File \u001b[1;32mc:\\Users\\pavelp\\Projects\\mipt\\hackathon\\rag\\explore\\.venv\\lib\\site-packages\\langchain\\chains\\base.py:153\u001b[0m, in \u001b[0;36mChain.invoke\u001b[1;34m(self, input, config, **kwargs)\u001b[0m\n\u001b[0;32m    150\u001b[0m \u001b[38;5;28;01mtry\u001b[39;00m:\n\u001b[0;32m    151\u001b[0m     \u001b[38;5;28mself\u001b[39m\u001b[38;5;241m.\u001b[39m_validate_inputs(inputs)\n\u001b[0;32m    152\u001b[0m     outputs \u001b[38;5;241m=\u001b[39m (\n\u001b[1;32m--> 153\u001b[0m         \u001b[38;5;28;43mself\u001b[39;49m\u001b[38;5;241;43m.\u001b[39;49m\u001b[43m_call\u001b[49m\u001b[43m(\u001b[49m\u001b[43minputs\u001b[49m\u001b[43m,\u001b[49m\u001b[43m \u001b[49m\u001b[43mrun_manager\u001b[49m\u001b[38;5;241;43m=\u001b[39;49m\u001b[43mrun_manager\u001b[49m\u001b[43m)\u001b[49m\n\u001b[0;32m    154\u001b[0m         \u001b[38;5;28;01mif\u001b[39;00m new_arg_supported\n\u001b[0;32m    155\u001b[0m         \u001b[38;5;28;01melse\u001b[39;00m \u001b[38;5;28mself\u001b[39m\u001b[38;5;241m.\u001b[39m_call(inputs)\n\u001b[0;32m    156\u001b[0m     )\n\u001b[0;32m    158\u001b[0m     final_outputs: Dict[\u001b[38;5;28mstr\u001b[39m, Any] \u001b[38;5;241m=\u001b[39m \u001b[38;5;28mself\u001b[39m\u001b[38;5;241m.\u001b[39mprep_outputs(\n\u001b[0;32m    159\u001b[0m         inputs, outputs, return_only_outputs\n\u001b[0;32m    160\u001b[0m     )\n\u001b[0;32m    161\u001b[0m \u001b[38;5;28;01mexcept\u001b[39;00m \u001b[38;5;167;01mBaseException\u001b[39;00m \u001b[38;5;28;01mas\u001b[39;00m e:\n",
      "File \u001b[1;32mc:\\Users\\pavelp\\Projects\\mipt\\hackathon\\rag\\explore\\.venv\\lib\\site-packages\\langchain\\chains\\qa_with_sources\\base.py:156\u001b[0m, in \u001b[0;36mBaseQAWithSourcesChain._call\u001b[1;34m(self, inputs, run_manager)\u001b[0m\n\u001b[0;32m    153\u001b[0m \u001b[38;5;28;01melse\u001b[39;00m:\n\u001b[0;32m    154\u001b[0m     docs \u001b[38;5;241m=\u001b[39m \u001b[38;5;28mself\u001b[39m\u001b[38;5;241m.\u001b[39m_get_docs(inputs)  \u001b[38;5;66;03m# type: ignore[call-arg]\u001b[39;00m\n\u001b[1;32m--> 156\u001b[0m answer \u001b[38;5;241m=\u001b[39m \u001b[38;5;28;43mself\u001b[39;49m\u001b[38;5;241;43m.\u001b[39;49m\u001b[43mcombine_documents_chain\u001b[49m\u001b[38;5;241;43m.\u001b[39;49m\u001b[43mrun\u001b[49m\u001b[43m(\u001b[49m\n\u001b[0;32m    157\u001b[0m \u001b[43m    \u001b[49m\u001b[43minput_documents\u001b[49m\u001b[38;5;241;43m=\u001b[39;49m\u001b[43mdocs\u001b[49m\u001b[43m,\u001b[49m\u001b[43m \u001b[49m\u001b[43mcallbacks\u001b[49m\u001b[38;5;241;43m=\u001b[39;49m\u001b[43m_run_manager\u001b[49m\u001b[38;5;241;43m.\u001b[39;49m\u001b[43mget_child\u001b[49m\u001b[43m(\u001b[49m\u001b[43m)\u001b[49m\u001b[43m,\u001b[49m\u001b[43m \u001b[49m\u001b[38;5;241;43m*\u001b[39;49m\u001b[38;5;241;43m*\u001b[39;49m\u001b[43minputs\u001b[49m\n\u001b[0;32m    158\u001b[0m \u001b[43m\u001b[49m\u001b[43m)\u001b[49m\n\u001b[0;32m    159\u001b[0m answer, sources \u001b[38;5;241m=\u001b[39m \u001b[38;5;28mself\u001b[39m\u001b[38;5;241m.\u001b[39m_split_sources(answer)\n\u001b[0;32m    160\u001b[0m result: Dict[\u001b[38;5;28mstr\u001b[39m, Any] \u001b[38;5;241m=\u001b[39m {\n\u001b[0;32m    161\u001b[0m     \u001b[38;5;28mself\u001b[39m\u001b[38;5;241m.\u001b[39manswer_key: answer,\n\u001b[0;32m    162\u001b[0m     \u001b[38;5;28mself\u001b[39m\u001b[38;5;241m.\u001b[39msources_answer_key: sources,\n\u001b[0;32m    163\u001b[0m }\n",
      "File \u001b[1;32mc:\\Users\\pavelp\\Projects\\mipt\\hackathon\\rag\\explore\\.venv\\lib\\site-packages\\langchain_core\\_api\\deprecation.py:145\u001b[0m, in \u001b[0;36mdeprecated.<locals>.deprecate.<locals>.warning_emitting_wrapper\u001b[1;34m(*args, **kwargs)\u001b[0m\n\u001b[0;32m    143\u001b[0m     warned \u001b[38;5;241m=\u001b[39m \u001b[38;5;28;01mTrue\u001b[39;00m\n\u001b[0;32m    144\u001b[0m     emit_warning()\n\u001b[1;32m--> 145\u001b[0m \u001b[38;5;28;01mreturn\u001b[39;00m \u001b[43mwrapped\u001b[49m\u001b[43m(\u001b[49m\u001b[38;5;241;43m*\u001b[39;49m\u001b[43margs\u001b[49m\u001b[43m,\u001b[49m\u001b[43m \u001b[49m\u001b[38;5;241;43m*\u001b[39;49m\u001b[38;5;241;43m*\u001b[39;49m\u001b[43mkwargs\u001b[49m\u001b[43m)\u001b[49m\n",
      "File \u001b[1;32mc:\\Users\\pavelp\\Projects\\mipt\\hackathon\\rag\\explore\\.venv\\lib\\site-packages\\langchain\\chains\\base.py:574\u001b[0m, in \u001b[0;36mChain.run\u001b[1;34m(self, callbacks, tags, metadata, *args, **kwargs)\u001b[0m\n\u001b[0;32m    569\u001b[0m     \u001b[38;5;28;01mreturn\u001b[39;00m \u001b[38;5;28mself\u001b[39m(args[\u001b[38;5;241m0\u001b[39m], callbacks\u001b[38;5;241m=\u001b[39mcallbacks, tags\u001b[38;5;241m=\u001b[39mtags, metadata\u001b[38;5;241m=\u001b[39mmetadata)[\n\u001b[0;32m    570\u001b[0m         _output_key\n\u001b[0;32m    571\u001b[0m     ]\n\u001b[0;32m    573\u001b[0m \u001b[38;5;28;01mif\u001b[39;00m kwargs \u001b[38;5;129;01mand\u001b[39;00m \u001b[38;5;129;01mnot\u001b[39;00m args:\n\u001b[1;32m--> 574\u001b[0m     \u001b[38;5;28;01mreturn\u001b[39;00m \u001b[38;5;28;43mself\u001b[39;49m\u001b[43m(\u001b[49m\u001b[43mkwargs\u001b[49m\u001b[43m,\u001b[49m\u001b[43m \u001b[49m\u001b[43mcallbacks\u001b[49m\u001b[38;5;241;43m=\u001b[39;49m\u001b[43mcallbacks\u001b[49m\u001b[43m,\u001b[49m\u001b[43m \u001b[49m\u001b[43mtags\u001b[49m\u001b[38;5;241;43m=\u001b[39;49m\u001b[43mtags\u001b[49m\u001b[43m,\u001b[49m\u001b[43m \u001b[49m\u001b[43mmetadata\u001b[49m\u001b[38;5;241;43m=\u001b[39;49m\u001b[43mmetadata\u001b[49m\u001b[43m)\u001b[49m[\n\u001b[0;32m    575\u001b[0m         _output_key\n\u001b[0;32m    576\u001b[0m     ]\n\u001b[0;32m    578\u001b[0m \u001b[38;5;28;01mif\u001b[39;00m \u001b[38;5;129;01mnot\u001b[39;00m kwargs \u001b[38;5;129;01mand\u001b[39;00m \u001b[38;5;129;01mnot\u001b[39;00m args:\n\u001b[0;32m    579\u001b[0m     \u001b[38;5;28;01mraise\u001b[39;00m \u001b[38;5;167;01mValueError\u001b[39;00m(\n\u001b[0;32m    580\u001b[0m         \u001b[38;5;124m\"\u001b[39m\u001b[38;5;124m`run` supported with either positional arguments or keyword arguments,\u001b[39m\u001b[38;5;124m\"\u001b[39m\n\u001b[0;32m    581\u001b[0m         \u001b[38;5;124m\"\u001b[39m\u001b[38;5;124m but none were provided.\u001b[39m\u001b[38;5;124m\"\u001b[39m\n\u001b[0;32m    582\u001b[0m     )\n",
      "File \u001b[1;32mc:\\Users\\pavelp\\Projects\\mipt\\hackathon\\rag\\explore\\.venv\\lib\\site-packages\\langchain_core\\_api\\deprecation.py:145\u001b[0m, in \u001b[0;36mdeprecated.<locals>.deprecate.<locals>.warning_emitting_wrapper\u001b[1;34m(*args, **kwargs)\u001b[0m\n\u001b[0;32m    143\u001b[0m     warned \u001b[38;5;241m=\u001b[39m \u001b[38;5;28;01mTrue\u001b[39;00m\n\u001b[0;32m    144\u001b[0m     emit_warning()\n\u001b[1;32m--> 145\u001b[0m \u001b[38;5;28;01mreturn\u001b[39;00m \u001b[43mwrapped\u001b[49m\u001b[43m(\u001b[49m\u001b[38;5;241;43m*\u001b[39;49m\u001b[43margs\u001b[49m\u001b[43m,\u001b[49m\u001b[43m \u001b[49m\u001b[38;5;241;43m*\u001b[39;49m\u001b[38;5;241;43m*\u001b[39;49m\u001b[43mkwargs\u001b[49m\u001b[43m)\u001b[49m\n",
      "File \u001b[1;32mc:\\Users\\pavelp\\Projects\\mipt\\hackathon\\rag\\explore\\.venv\\lib\\site-packages\\langchain\\chains\\base.py:378\u001b[0m, in \u001b[0;36mChain.__call__\u001b[1;34m(self, inputs, return_only_outputs, callbacks, tags, metadata, run_name, include_run_info)\u001b[0m\n\u001b[0;32m    346\u001b[0m \u001b[38;5;250m\u001b[39m\u001b[38;5;124;03m\"\"\"Execute the chain.\u001b[39;00m\n\u001b[0;32m    347\u001b[0m \n\u001b[0;32m    348\u001b[0m \u001b[38;5;124;03mArgs:\u001b[39;00m\n\u001b[1;32m   (...)\u001b[0m\n\u001b[0;32m    369\u001b[0m \u001b[38;5;124;03m        `Chain.output_keys`.\u001b[39;00m\n\u001b[0;32m    370\u001b[0m \u001b[38;5;124;03m\"\"\"\u001b[39;00m\n\u001b[0;32m    371\u001b[0m config \u001b[38;5;241m=\u001b[39m {\n\u001b[0;32m    372\u001b[0m     \u001b[38;5;124m\"\u001b[39m\u001b[38;5;124mcallbacks\u001b[39m\u001b[38;5;124m\"\u001b[39m: callbacks,\n\u001b[0;32m    373\u001b[0m     \u001b[38;5;124m\"\u001b[39m\u001b[38;5;124mtags\u001b[39m\u001b[38;5;124m\"\u001b[39m: tags,\n\u001b[0;32m    374\u001b[0m     \u001b[38;5;124m\"\u001b[39m\u001b[38;5;124mmetadata\u001b[39m\u001b[38;5;124m\"\u001b[39m: metadata,\n\u001b[0;32m    375\u001b[0m     \u001b[38;5;124m\"\u001b[39m\u001b[38;5;124mrun_name\u001b[39m\u001b[38;5;124m\"\u001b[39m: run_name,\n\u001b[0;32m    376\u001b[0m }\n\u001b[1;32m--> 378\u001b[0m \u001b[38;5;28;01mreturn\u001b[39;00m \u001b[38;5;28;43mself\u001b[39;49m\u001b[38;5;241;43m.\u001b[39;49m\u001b[43minvoke\u001b[49m\u001b[43m(\u001b[49m\n\u001b[0;32m    379\u001b[0m \u001b[43m    \u001b[49m\u001b[43minputs\u001b[49m\u001b[43m,\u001b[49m\n\u001b[0;32m    380\u001b[0m \u001b[43m    \u001b[49m\u001b[43mcast\u001b[49m\u001b[43m(\u001b[49m\u001b[43mRunnableConfig\u001b[49m\u001b[43m,\u001b[49m\u001b[43m \u001b[49m\u001b[43m{\u001b[49m\u001b[43mk\u001b[49m\u001b[43m:\u001b[49m\u001b[43m \u001b[49m\u001b[43mv\u001b[49m\u001b[43m \u001b[49m\u001b[38;5;28;43;01mfor\u001b[39;49;00m\u001b[43m \u001b[49m\u001b[43mk\u001b[49m\u001b[43m,\u001b[49m\u001b[43m \u001b[49m\u001b[43mv\u001b[49m\u001b[43m \u001b[49m\u001b[38;5;129;43;01min\u001b[39;49;00m\u001b[43m \u001b[49m\u001b[43mconfig\u001b[49m\u001b[38;5;241;43m.\u001b[39;49m\u001b[43mitems\u001b[49m\u001b[43m(\u001b[49m\u001b[43m)\u001b[49m\u001b[43m \u001b[49m\u001b[38;5;28;43;01mif\u001b[39;49;00m\u001b[43m \u001b[49m\u001b[43mv\u001b[49m\u001b[43m \u001b[49m\u001b[38;5;129;43;01mis\u001b[39;49;00m\u001b[43m \u001b[49m\u001b[38;5;129;43;01mnot\u001b[39;49;00m\u001b[43m \u001b[49m\u001b[38;5;28;43;01mNone\u001b[39;49;00m\u001b[43m}\u001b[49m\u001b[43m)\u001b[49m\u001b[43m,\u001b[49m\n\u001b[0;32m    381\u001b[0m \u001b[43m    \u001b[49m\u001b[43mreturn_only_outputs\u001b[49m\u001b[38;5;241;43m=\u001b[39;49m\u001b[43mreturn_only_outputs\u001b[49m\u001b[43m,\u001b[49m\n\u001b[0;32m    382\u001b[0m \u001b[43m    \u001b[49m\u001b[43minclude_run_info\u001b[49m\u001b[38;5;241;43m=\u001b[39;49m\u001b[43minclude_run_info\u001b[49m\u001b[43m,\u001b[49m\n\u001b[0;32m    383\u001b[0m \u001b[43m\u001b[49m\u001b[43m)\u001b[49m\n",
      "File \u001b[1;32mc:\\Users\\pavelp\\Projects\\mipt\\hackathon\\rag\\explore\\.venv\\lib\\site-packages\\langchain\\chains\\base.py:163\u001b[0m, in \u001b[0;36mChain.invoke\u001b[1;34m(self, input, config, **kwargs)\u001b[0m\n\u001b[0;32m    161\u001b[0m \u001b[38;5;28;01mexcept\u001b[39;00m \u001b[38;5;167;01mBaseException\u001b[39;00m \u001b[38;5;28;01mas\u001b[39;00m e:\n\u001b[0;32m    162\u001b[0m     run_manager\u001b[38;5;241m.\u001b[39mon_chain_error(e)\n\u001b[1;32m--> 163\u001b[0m     \u001b[38;5;28;01mraise\u001b[39;00m e\n\u001b[0;32m    164\u001b[0m run_manager\u001b[38;5;241m.\u001b[39mon_chain_end(outputs)\n\u001b[0;32m    166\u001b[0m \u001b[38;5;28;01mif\u001b[39;00m include_run_info:\n",
      "File \u001b[1;32mc:\\Users\\pavelp\\Projects\\mipt\\hackathon\\rag\\explore\\.venv\\lib\\site-packages\\langchain\\chains\\base.py:153\u001b[0m, in \u001b[0;36mChain.invoke\u001b[1;34m(self, input, config, **kwargs)\u001b[0m\n\u001b[0;32m    150\u001b[0m \u001b[38;5;28;01mtry\u001b[39;00m:\n\u001b[0;32m    151\u001b[0m     \u001b[38;5;28mself\u001b[39m\u001b[38;5;241m.\u001b[39m_validate_inputs(inputs)\n\u001b[0;32m    152\u001b[0m     outputs \u001b[38;5;241m=\u001b[39m (\n\u001b[1;32m--> 153\u001b[0m         \u001b[38;5;28;43mself\u001b[39;49m\u001b[38;5;241;43m.\u001b[39;49m\u001b[43m_call\u001b[49m\u001b[43m(\u001b[49m\u001b[43minputs\u001b[49m\u001b[43m,\u001b[49m\u001b[43m \u001b[49m\u001b[43mrun_manager\u001b[49m\u001b[38;5;241;43m=\u001b[39;49m\u001b[43mrun_manager\u001b[49m\u001b[43m)\u001b[49m\n\u001b[0;32m    154\u001b[0m         \u001b[38;5;28;01mif\u001b[39;00m new_arg_supported\n\u001b[0;32m    155\u001b[0m         \u001b[38;5;28;01melse\u001b[39;00m \u001b[38;5;28mself\u001b[39m\u001b[38;5;241m.\u001b[39m_call(inputs)\n\u001b[0;32m    156\u001b[0m     )\n\u001b[0;32m    158\u001b[0m     final_outputs: Dict[\u001b[38;5;28mstr\u001b[39m, Any] \u001b[38;5;241m=\u001b[39m \u001b[38;5;28mself\u001b[39m\u001b[38;5;241m.\u001b[39mprep_outputs(\n\u001b[0;32m    159\u001b[0m         inputs, outputs, return_only_outputs\n\u001b[0;32m    160\u001b[0m     )\n\u001b[0;32m    161\u001b[0m \u001b[38;5;28;01mexcept\u001b[39;00m \u001b[38;5;167;01mBaseException\u001b[39;00m \u001b[38;5;28;01mas\u001b[39;00m e:\n",
      "File \u001b[1;32mc:\\Users\\pavelp\\Projects\\mipt\\hackathon\\rag\\explore\\.venv\\lib\\site-packages\\langchain\\chains\\combine_documents\\base.py:137\u001b[0m, in \u001b[0;36mBaseCombineDocumentsChain._call\u001b[1;34m(self, inputs, run_manager)\u001b[0m\n\u001b[0;32m    135\u001b[0m \u001b[38;5;66;03m# Other keys are assumed to be needed for LLM prediction\u001b[39;00m\n\u001b[0;32m    136\u001b[0m other_keys \u001b[38;5;241m=\u001b[39m {k: v \u001b[38;5;28;01mfor\u001b[39;00m k, v \u001b[38;5;129;01min\u001b[39;00m inputs\u001b[38;5;241m.\u001b[39mitems() \u001b[38;5;28;01mif\u001b[39;00m k \u001b[38;5;241m!=\u001b[39m \u001b[38;5;28mself\u001b[39m\u001b[38;5;241m.\u001b[39minput_key}\n\u001b[1;32m--> 137\u001b[0m output, extra_return_dict \u001b[38;5;241m=\u001b[39m \u001b[38;5;28;43mself\u001b[39;49m\u001b[38;5;241;43m.\u001b[39;49m\u001b[43mcombine_docs\u001b[49m\u001b[43m(\u001b[49m\n\u001b[0;32m    138\u001b[0m \u001b[43m    \u001b[49m\u001b[43mdocs\u001b[49m\u001b[43m,\u001b[49m\u001b[43m \u001b[49m\u001b[43mcallbacks\u001b[49m\u001b[38;5;241;43m=\u001b[39;49m\u001b[43m_run_manager\u001b[49m\u001b[38;5;241;43m.\u001b[39;49m\u001b[43mget_child\u001b[49m\u001b[43m(\u001b[49m\u001b[43m)\u001b[49m\u001b[43m,\u001b[49m\u001b[43m \u001b[49m\u001b[38;5;241;43m*\u001b[39;49m\u001b[38;5;241;43m*\u001b[39;49m\u001b[43mother_keys\u001b[49m\n\u001b[0;32m    139\u001b[0m \u001b[43m\u001b[49m\u001b[43m)\u001b[49m\n\u001b[0;32m    140\u001b[0m extra_return_dict[\u001b[38;5;28mself\u001b[39m\u001b[38;5;241m.\u001b[39moutput_key] \u001b[38;5;241m=\u001b[39m output\n\u001b[0;32m    141\u001b[0m \u001b[38;5;28;01mreturn\u001b[39;00m extra_return_dict\n",
      "File \u001b[1;32mc:\\Users\\pavelp\\Projects\\mipt\\hackathon\\rag\\explore\\.venv\\lib\\site-packages\\langchain\\chains\\combine_documents\\stuff.py:244\u001b[0m, in \u001b[0;36mStuffDocumentsChain.combine_docs\u001b[1;34m(self, docs, callbacks, **kwargs)\u001b[0m\n\u001b[0;32m    242\u001b[0m inputs \u001b[38;5;241m=\u001b[39m \u001b[38;5;28mself\u001b[39m\u001b[38;5;241m.\u001b[39m_get_inputs(docs, \u001b[38;5;241m*\u001b[39m\u001b[38;5;241m*\u001b[39mkwargs)\n\u001b[0;32m    243\u001b[0m \u001b[38;5;66;03m# Call predict on the LLM.\u001b[39;00m\n\u001b[1;32m--> 244\u001b[0m \u001b[38;5;28;01mreturn\u001b[39;00m \u001b[38;5;28;43mself\u001b[39;49m\u001b[38;5;241;43m.\u001b[39;49m\u001b[43mllm_chain\u001b[49m\u001b[38;5;241;43m.\u001b[39;49m\u001b[43mpredict\u001b[49m\u001b[43m(\u001b[49m\u001b[43mcallbacks\u001b[49m\u001b[38;5;241;43m=\u001b[39;49m\u001b[43mcallbacks\u001b[49m\u001b[43m,\u001b[49m\u001b[43m \u001b[49m\u001b[38;5;241;43m*\u001b[39;49m\u001b[38;5;241;43m*\u001b[39;49m\u001b[43minputs\u001b[49m\u001b[43m)\u001b[49m, {}\n",
      "File \u001b[1;32mc:\\Users\\pavelp\\Projects\\mipt\\hackathon\\rag\\explore\\.venv\\lib\\site-packages\\langchain\\chains\\llm.py:293\u001b[0m, in \u001b[0;36mLLMChain.predict\u001b[1;34m(self, callbacks, **kwargs)\u001b[0m\n\u001b[0;32m    278\u001b[0m \u001b[38;5;28;01mdef\u001b[39;00m \u001b[38;5;21mpredict\u001b[39m(\u001b[38;5;28mself\u001b[39m, callbacks: Callbacks \u001b[38;5;241m=\u001b[39m \u001b[38;5;28;01mNone\u001b[39;00m, \u001b[38;5;241m*\u001b[39m\u001b[38;5;241m*\u001b[39mkwargs: Any) \u001b[38;5;241m-\u001b[39m\u001b[38;5;241m>\u001b[39m \u001b[38;5;28mstr\u001b[39m:\n\u001b[0;32m    279\u001b[0m \u001b[38;5;250m    \u001b[39m\u001b[38;5;124;03m\"\"\"Format prompt with kwargs and pass to LLM.\u001b[39;00m\n\u001b[0;32m    280\u001b[0m \n\u001b[0;32m    281\u001b[0m \u001b[38;5;124;03m    Args:\u001b[39;00m\n\u001b[1;32m   (...)\u001b[0m\n\u001b[0;32m    291\u001b[0m \u001b[38;5;124;03m            completion = llm.predict(adjective=\"funny\")\u001b[39;00m\n\u001b[0;32m    292\u001b[0m \u001b[38;5;124;03m    \"\"\"\u001b[39;00m\n\u001b[1;32m--> 293\u001b[0m     \u001b[38;5;28;01mreturn\u001b[39;00m \u001b[38;5;28;43mself\u001b[39;49m\u001b[43m(\u001b[49m\u001b[43mkwargs\u001b[49m\u001b[43m,\u001b[49m\u001b[43m \u001b[49m\u001b[43mcallbacks\u001b[49m\u001b[38;5;241;43m=\u001b[39;49m\u001b[43mcallbacks\u001b[49m\u001b[43m)\u001b[49m[\u001b[38;5;28mself\u001b[39m\u001b[38;5;241m.\u001b[39moutput_key]\n",
      "File \u001b[1;32mc:\\Users\\pavelp\\Projects\\mipt\\hackathon\\rag\\explore\\.venv\\lib\\site-packages\\langchain_core\\_api\\deprecation.py:145\u001b[0m, in \u001b[0;36mdeprecated.<locals>.deprecate.<locals>.warning_emitting_wrapper\u001b[1;34m(*args, **kwargs)\u001b[0m\n\u001b[0;32m    143\u001b[0m     warned \u001b[38;5;241m=\u001b[39m \u001b[38;5;28;01mTrue\u001b[39;00m\n\u001b[0;32m    144\u001b[0m     emit_warning()\n\u001b[1;32m--> 145\u001b[0m \u001b[38;5;28;01mreturn\u001b[39;00m \u001b[43mwrapped\u001b[49m\u001b[43m(\u001b[49m\u001b[38;5;241;43m*\u001b[39;49m\u001b[43margs\u001b[49m\u001b[43m,\u001b[49m\u001b[43m \u001b[49m\u001b[38;5;241;43m*\u001b[39;49m\u001b[38;5;241;43m*\u001b[39;49m\u001b[43mkwargs\u001b[49m\u001b[43m)\u001b[49m\n",
      "File \u001b[1;32mc:\\Users\\pavelp\\Projects\\mipt\\hackathon\\rag\\explore\\.venv\\lib\\site-packages\\langchain\\chains\\base.py:378\u001b[0m, in \u001b[0;36mChain.__call__\u001b[1;34m(self, inputs, return_only_outputs, callbacks, tags, metadata, run_name, include_run_info)\u001b[0m\n\u001b[0;32m    346\u001b[0m \u001b[38;5;250m\u001b[39m\u001b[38;5;124;03m\"\"\"Execute the chain.\u001b[39;00m\n\u001b[0;32m    347\u001b[0m \n\u001b[0;32m    348\u001b[0m \u001b[38;5;124;03mArgs:\u001b[39;00m\n\u001b[1;32m   (...)\u001b[0m\n\u001b[0;32m    369\u001b[0m \u001b[38;5;124;03m        `Chain.output_keys`.\u001b[39;00m\n\u001b[0;32m    370\u001b[0m \u001b[38;5;124;03m\"\"\"\u001b[39;00m\n\u001b[0;32m    371\u001b[0m config \u001b[38;5;241m=\u001b[39m {\n\u001b[0;32m    372\u001b[0m     \u001b[38;5;124m\"\u001b[39m\u001b[38;5;124mcallbacks\u001b[39m\u001b[38;5;124m\"\u001b[39m: callbacks,\n\u001b[0;32m    373\u001b[0m     \u001b[38;5;124m\"\u001b[39m\u001b[38;5;124mtags\u001b[39m\u001b[38;5;124m\"\u001b[39m: tags,\n\u001b[0;32m    374\u001b[0m     \u001b[38;5;124m\"\u001b[39m\u001b[38;5;124mmetadata\u001b[39m\u001b[38;5;124m\"\u001b[39m: metadata,\n\u001b[0;32m    375\u001b[0m     \u001b[38;5;124m\"\u001b[39m\u001b[38;5;124mrun_name\u001b[39m\u001b[38;5;124m\"\u001b[39m: run_name,\n\u001b[0;32m    376\u001b[0m }\n\u001b[1;32m--> 378\u001b[0m \u001b[38;5;28;01mreturn\u001b[39;00m \u001b[38;5;28;43mself\u001b[39;49m\u001b[38;5;241;43m.\u001b[39;49m\u001b[43minvoke\u001b[49m\u001b[43m(\u001b[49m\n\u001b[0;32m    379\u001b[0m \u001b[43m    \u001b[49m\u001b[43minputs\u001b[49m\u001b[43m,\u001b[49m\n\u001b[0;32m    380\u001b[0m \u001b[43m    \u001b[49m\u001b[43mcast\u001b[49m\u001b[43m(\u001b[49m\u001b[43mRunnableConfig\u001b[49m\u001b[43m,\u001b[49m\u001b[43m \u001b[49m\u001b[43m{\u001b[49m\u001b[43mk\u001b[49m\u001b[43m:\u001b[49m\u001b[43m \u001b[49m\u001b[43mv\u001b[49m\u001b[43m \u001b[49m\u001b[38;5;28;43;01mfor\u001b[39;49;00m\u001b[43m \u001b[49m\u001b[43mk\u001b[49m\u001b[43m,\u001b[49m\u001b[43m \u001b[49m\u001b[43mv\u001b[49m\u001b[43m \u001b[49m\u001b[38;5;129;43;01min\u001b[39;49;00m\u001b[43m \u001b[49m\u001b[43mconfig\u001b[49m\u001b[38;5;241;43m.\u001b[39;49m\u001b[43mitems\u001b[49m\u001b[43m(\u001b[49m\u001b[43m)\u001b[49m\u001b[43m \u001b[49m\u001b[38;5;28;43;01mif\u001b[39;49;00m\u001b[43m \u001b[49m\u001b[43mv\u001b[49m\u001b[43m \u001b[49m\u001b[38;5;129;43;01mis\u001b[39;49;00m\u001b[43m \u001b[49m\u001b[38;5;129;43;01mnot\u001b[39;49;00m\u001b[43m \u001b[49m\u001b[38;5;28;43;01mNone\u001b[39;49;00m\u001b[43m}\u001b[49m\u001b[43m)\u001b[49m\u001b[43m,\u001b[49m\n\u001b[0;32m    381\u001b[0m \u001b[43m    \u001b[49m\u001b[43mreturn_only_outputs\u001b[49m\u001b[38;5;241;43m=\u001b[39;49m\u001b[43mreturn_only_outputs\u001b[49m\u001b[43m,\u001b[49m\n\u001b[0;32m    382\u001b[0m \u001b[43m    \u001b[49m\u001b[43minclude_run_info\u001b[49m\u001b[38;5;241;43m=\u001b[39;49m\u001b[43minclude_run_info\u001b[49m\u001b[43m,\u001b[49m\n\u001b[0;32m    383\u001b[0m \u001b[43m\u001b[49m\u001b[43m)\u001b[49m\n",
      "File \u001b[1;32mc:\\Users\\pavelp\\Projects\\mipt\\hackathon\\rag\\explore\\.venv\\lib\\site-packages\\langchain\\chains\\base.py:163\u001b[0m, in \u001b[0;36mChain.invoke\u001b[1;34m(self, input, config, **kwargs)\u001b[0m\n\u001b[0;32m    161\u001b[0m \u001b[38;5;28;01mexcept\u001b[39;00m \u001b[38;5;167;01mBaseException\u001b[39;00m \u001b[38;5;28;01mas\u001b[39;00m e:\n\u001b[0;32m    162\u001b[0m     run_manager\u001b[38;5;241m.\u001b[39mon_chain_error(e)\n\u001b[1;32m--> 163\u001b[0m     \u001b[38;5;28;01mraise\u001b[39;00m e\n\u001b[0;32m    164\u001b[0m run_manager\u001b[38;5;241m.\u001b[39mon_chain_end(outputs)\n\u001b[0;32m    166\u001b[0m \u001b[38;5;28;01mif\u001b[39;00m include_run_info:\n",
      "File \u001b[1;32mc:\\Users\\pavelp\\Projects\\mipt\\hackathon\\rag\\explore\\.venv\\lib\\site-packages\\langchain\\chains\\base.py:153\u001b[0m, in \u001b[0;36mChain.invoke\u001b[1;34m(self, input, config, **kwargs)\u001b[0m\n\u001b[0;32m    150\u001b[0m \u001b[38;5;28;01mtry\u001b[39;00m:\n\u001b[0;32m    151\u001b[0m     \u001b[38;5;28mself\u001b[39m\u001b[38;5;241m.\u001b[39m_validate_inputs(inputs)\n\u001b[0;32m    152\u001b[0m     outputs \u001b[38;5;241m=\u001b[39m (\n\u001b[1;32m--> 153\u001b[0m         \u001b[38;5;28;43mself\u001b[39;49m\u001b[38;5;241;43m.\u001b[39;49m\u001b[43m_call\u001b[49m\u001b[43m(\u001b[49m\u001b[43minputs\u001b[49m\u001b[43m,\u001b[49m\u001b[43m \u001b[49m\u001b[43mrun_manager\u001b[49m\u001b[38;5;241;43m=\u001b[39;49m\u001b[43mrun_manager\u001b[49m\u001b[43m)\u001b[49m\n\u001b[0;32m    154\u001b[0m         \u001b[38;5;28;01mif\u001b[39;00m new_arg_supported\n\u001b[0;32m    155\u001b[0m         \u001b[38;5;28;01melse\u001b[39;00m \u001b[38;5;28mself\u001b[39m\u001b[38;5;241m.\u001b[39m_call(inputs)\n\u001b[0;32m    156\u001b[0m     )\n\u001b[0;32m    158\u001b[0m     final_outputs: Dict[\u001b[38;5;28mstr\u001b[39m, Any] \u001b[38;5;241m=\u001b[39m \u001b[38;5;28mself\u001b[39m\u001b[38;5;241m.\u001b[39mprep_outputs(\n\u001b[0;32m    159\u001b[0m         inputs, outputs, return_only_outputs\n\u001b[0;32m    160\u001b[0m     )\n\u001b[0;32m    161\u001b[0m \u001b[38;5;28;01mexcept\u001b[39;00m \u001b[38;5;167;01mBaseException\u001b[39;00m \u001b[38;5;28;01mas\u001b[39;00m e:\n",
      "File \u001b[1;32mc:\\Users\\pavelp\\Projects\\mipt\\hackathon\\rag\\explore\\.venv\\lib\\site-packages\\langchain\\chains\\llm.py:103\u001b[0m, in \u001b[0;36mLLMChain._call\u001b[1;34m(self, inputs, run_manager)\u001b[0m\n\u001b[0;32m     98\u001b[0m \u001b[38;5;28;01mdef\u001b[39;00m \u001b[38;5;21m_call\u001b[39m(\n\u001b[0;32m     99\u001b[0m     \u001b[38;5;28mself\u001b[39m,\n\u001b[0;32m    100\u001b[0m     inputs: Dict[\u001b[38;5;28mstr\u001b[39m, Any],\n\u001b[0;32m    101\u001b[0m     run_manager: Optional[CallbackManagerForChainRun] \u001b[38;5;241m=\u001b[39m \u001b[38;5;28;01mNone\u001b[39;00m,\n\u001b[0;32m    102\u001b[0m ) \u001b[38;5;241m-\u001b[39m\u001b[38;5;241m>\u001b[39m Dict[\u001b[38;5;28mstr\u001b[39m, \u001b[38;5;28mstr\u001b[39m]:\n\u001b[1;32m--> 103\u001b[0m     response \u001b[38;5;241m=\u001b[39m \u001b[38;5;28;43mself\u001b[39;49m\u001b[38;5;241;43m.\u001b[39;49m\u001b[43mgenerate\u001b[49m\u001b[43m(\u001b[49m\u001b[43m[\u001b[49m\u001b[43minputs\u001b[49m\u001b[43m]\u001b[49m\u001b[43m,\u001b[49m\u001b[43m \u001b[49m\u001b[43mrun_manager\u001b[49m\u001b[38;5;241;43m=\u001b[39;49m\u001b[43mrun_manager\u001b[49m\u001b[43m)\u001b[49m\n\u001b[0;32m    104\u001b[0m     \u001b[38;5;28;01mreturn\u001b[39;00m \u001b[38;5;28mself\u001b[39m\u001b[38;5;241m.\u001b[39mcreate_outputs(response)[\u001b[38;5;241m0\u001b[39m]\n",
      "File \u001b[1;32mc:\\Users\\pavelp\\Projects\\mipt\\hackathon\\rag\\explore\\.venv\\lib\\site-packages\\langchain\\chains\\llm.py:115\u001b[0m, in \u001b[0;36mLLMChain.generate\u001b[1;34m(self, input_list, run_manager)\u001b[0m\n\u001b[0;32m    113\u001b[0m callbacks \u001b[38;5;241m=\u001b[39m run_manager\u001b[38;5;241m.\u001b[39mget_child() \u001b[38;5;28;01mif\u001b[39;00m run_manager \u001b[38;5;28;01melse\u001b[39;00m \u001b[38;5;28;01mNone\u001b[39;00m\n\u001b[0;32m    114\u001b[0m \u001b[38;5;28;01mif\u001b[39;00m \u001b[38;5;28misinstance\u001b[39m(\u001b[38;5;28mself\u001b[39m\u001b[38;5;241m.\u001b[39mllm, BaseLanguageModel):\n\u001b[1;32m--> 115\u001b[0m     \u001b[38;5;28;01mreturn\u001b[39;00m \u001b[38;5;28;43mself\u001b[39;49m\u001b[38;5;241;43m.\u001b[39;49m\u001b[43mllm\u001b[49m\u001b[38;5;241;43m.\u001b[39;49m\u001b[43mgenerate_prompt\u001b[49m\u001b[43m(\u001b[49m\n\u001b[0;32m    116\u001b[0m \u001b[43m        \u001b[49m\u001b[43mprompts\u001b[49m\u001b[43m,\u001b[49m\n\u001b[0;32m    117\u001b[0m \u001b[43m        \u001b[49m\u001b[43mstop\u001b[49m\u001b[43m,\u001b[49m\n\u001b[0;32m    118\u001b[0m \u001b[43m        \u001b[49m\u001b[43mcallbacks\u001b[49m\u001b[38;5;241;43m=\u001b[39;49m\u001b[43mcallbacks\u001b[49m\u001b[43m,\u001b[49m\n\u001b[0;32m    119\u001b[0m \u001b[43m        \u001b[49m\u001b[38;5;241;43m*\u001b[39;49m\u001b[38;5;241;43m*\u001b[39;49m\u001b[38;5;28;43mself\u001b[39;49m\u001b[38;5;241;43m.\u001b[39;49m\u001b[43mllm_kwargs\u001b[49m\u001b[43m,\u001b[49m\n\u001b[0;32m    120\u001b[0m \u001b[43m    \u001b[49m\u001b[43m)\u001b[49m\n\u001b[0;32m    121\u001b[0m \u001b[38;5;28;01melse\u001b[39;00m:\n\u001b[0;32m    122\u001b[0m     results \u001b[38;5;241m=\u001b[39m \u001b[38;5;28mself\u001b[39m\u001b[38;5;241m.\u001b[39mllm\u001b[38;5;241m.\u001b[39mbind(stop\u001b[38;5;241m=\u001b[39mstop, \u001b[38;5;241m*\u001b[39m\u001b[38;5;241m*\u001b[39m\u001b[38;5;28mself\u001b[39m\u001b[38;5;241m.\u001b[39mllm_kwargs)\u001b[38;5;241m.\u001b[39mbatch(\n\u001b[0;32m    123\u001b[0m         cast(List, prompts), {\u001b[38;5;124m\"\u001b[39m\u001b[38;5;124mcallbacks\u001b[39m\u001b[38;5;124m\"\u001b[39m: callbacks}\n\u001b[0;32m    124\u001b[0m     )\n",
      "File \u001b[1;32mc:\\Users\\pavelp\\Projects\\mipt\\hackathon\\rag\\explore\\.venv\\lib\\site-packages\\langchain_core\\language_models\\chat_models.py:560\u001b[0m, in \u001b[0;36mBaseChatModel.generate_prompt\u001b[1;34m(self, prompts, stop, callbacks, **kwargs)\u001b[0m\n\u001b[0;32m    552\u001b[0m \u001b[38;5;28;01mdef\u001b[39;00m \u001b[38;5;21mgenerate_prompt\u001b[39m(\n\u001b[0;32m    553\u001b[0m     \u001b[38;5;28mself\u001b[39m,\n\u001b[0;32m    554\u001b[0m     prompts: List[PromptValue],\n\u001b[1;32m   (...)\u001b[0m\n\u001b[0;32m    557\u001b[0m     \u001b[38;5;241m*\u001b[39m\u001b[38;5;241m*\u001b[39mkwargs: Any,\n\u001b[0;32m    558\u001b[0m ) \u001b[38;5;241m-\u001b[39m\u001b[38;5;241m>\u001b[39m LLMResult:\n\u001b[0;32m    559\u001b[0m     prompt_messages \u001b[38;5;241m=\u001b[39m [p\u001b[38;5;241m.\u001b[39mto_messages() \u001b[38;5;28;01mfor\u001b[39;00m p \u001b[38;5;129;01min\u001b[39;00m prompts]\n\u001b[1;32m--> 560\u001b[0m     \u001b[38;5;28;01mreturn\u001b[39;00m \u001b[38;5;28;43mself\u001b[39;49m\u001b[38;5;241;43m.\u001b[39;49m\u001b[43mgenerate\u001b[49m\u001b[43m(\u001b[49m\u001b[43mprompt_messages\u001b[49m\u001b[43m,\u001b[49m\u001b[43m \u001b[49m\u001b[43mstop\u001b[49m\u001b[38;5;241;43m=\u001b[39;49m\u001b[43mstop\u001b[49m\u001b[43m,\u001b[49m\u001b[43m \u001b[49m\u001b[43mcallbacks\u001b[49m\u001b[38;5;241;43m=\u001b[39;49m\u001b[43mcallbacks\u001b[49m\u001b[43m,\u001b[49m\u001b[43m \u001b[49m\u001b[38;5;241;43m*\u001b[39;49m\u001b[38;5;241;43m*\u001b[39;49m\u001b[43mkwargs\u001b[49m\u001b[43m)\u001b[49m\n",
      "File \u001b[1;32mc:\\Users\\pavelp\\Projects\\mipt\\hackathon\\rag\\explore\\.venv\\lib\\site-packages\\langchain_core\\language_models\\chat_models.py:421\u001b[0m, in \u001b[0;36mBaseChatModel.generate\u001b[1;34m(self, messages, stop, callbacks, tags, metadata, run_name, run_id, **kwargs)\u001b[0m\n\u001b[0;32m    419\u001b[0m         \u001b[38;5;28;01mif\u001b[39;00m run_managers:\n\u001b[0;32m    420\u001b[0m             run_managers[i]\u001b[38;5;241m.\u001b[39mon_llm_error(e, response\u001b[38;5;241m=\u001b[39mLLMResult(generations\u001b[38;5;241m=\u001b[39m[]))\n\u001b[1;32m--> 421\u001b[0m         \u001b[38;5;28;01mraise\u001b[39;00m e\n\u001b[0;32m    422\u001b[0m flattened_outputs \u001b[38;5;241m=\u001b[39m [\n\u001b[0;32m    423\u001b[0m     LLMResult(generations\u001b[38;5;241m=\u001b[39m[res\u001b[38;5;241m.\u001b[39mgenerations], llm_output\u001b[38;5;241m=\u001b[39mres\u001b[38;5;241m.\u001b[39mllm_output)  \u001b[38;5;66;03m# type: ignore[list-item]\u001b[39;00m\n\u001b[0;32m    424\u001b[0m     \u001b[38;5;28;01mfor\u001b[39;00m res \u001b[38;5;129;01min\u001b[39;00m results\n\u001b[0;32m    425\u001b[0m ]\n\u001b[0;32m    426\u001b[0m llm_output \u001b[38;5;241m=\u001b[39m \u001b[38;5;28mself\u001b[39m\u001b[38;5;241m.\u001b[39m_combine_llm_outputs([res\u001b[38;5;241m.\u001b[39mllm_output \u001b[38;5;28;01mfor\u001b[39;00m res \u001b[38;5;129;01min\u001b[39;00m results])\n",
      "File \u001b[1;32mc:\\Users\\pavelp\\Projects\\mipt\\hackathon\\rag\\explore\\.venv\\lib\\site-packages\\langchain_core\\language_models\\chat_models.py:411\u001b[0m, in \u001b[0;36mBaseChatModel.generate\u001b[1;34m(self, messages, stop, callbacks, tags, metadata, run_name, run_id, **kwargs)\u001b[0m\n\u001b[0;32m    408\u001b[0m \u001b[38;5;28;01mfor\u001b[39;00m i, m \u001b[38;5;129;01min\u001b[39;00m \u001b[38;5;28menumerate\u001b[39m(messages):\n\u001b[0;32m    409\u001b[0m     \u001b[38;5;28;01mtry\u001b[39;00m:\n\u001b[0;32m    410\u001b[0m         results\u001b[38;5;241m.\u001b[39mappend(\n\u001b[1;32m--> 411\u001b[0m             \u001b[38;5;28;43mself\u001b[39;49m\u001b[38;5;241;43m.\u001b[39;49m\u001b[43m_generate_with_cache\u001b[49m\u001b[43m(\u001b[49m\n\u001b[0;32m    412\u001b[0m \u001b[43m                \u001b[49m\u001b[43mm\u001b[49m\u001b[43m,\u001b[49m\n\u001b[0;32m    413\u001b[0m \u001b[43m                \u001b[49m\u001b[43mstop\u001b[49m\u001b[38;5;241;43m=\u001b[39;49m\u001b[43mstop\u001b[49m\u001b[43m,\u001b[49m\n\u001b[0;32m    414\u001b[0m \u001b[43m                \u001b[49m\u001b[43mrun_manager\u001b[49m\u001b[38;5;241;43m=\u001b[39;49m\u001b[43mrun_managers\u001b[49m\u001b[43m[\u001b[49m\u001b[43mi\u001b[49m\u001b[43m]\u001b[49m\u001b[43m \u001b[49m\u001b[38;5;28;43;01mif\u001b[39;49;00m\u001b[43m \u001b[49m\u001b[43mrun_managers\u001b[49m\u001b[43m \u001b[49m\u001b[38;5;28;43;01melse\u001b[39;49;00m\u001b[43m \u001b[49m\u001b[38;5;28;43;01mNone\u001b[39;49;00m\u001b[43m,\u001b[49m\n\u001b[0;32m    415\u001b[0m \u001b[43m                \u001b[49m\u001b[38;5;241;43m*\u001b[39;49m\u001b[38;5;241;43m*\u001b[39;49m\u001b[43mkwargs\u001b[49m\u001b[43m,\u001b[49m\n\u001b[0;32m    416\u001b[0m \u001b[43m            \u001b[49m\u001b[43m)\u001b[49m\n\u001b[0;32m    417\u001b[0m         )\n\u001b[0;32m    418\u001b[0m     \u001b[38;5;28;01mexcept\u001b[39;00m \u001b[38;5;167;01mBaseException\u001b[39;00m \u001b[38;5;28;01mas\u001b[39;00m e:\n\u001b[0;32m    419\u001b[0m         \u001b[38;5;28;01mif\u001b[39;00m run_managers:\n",
      "File \u001b[1;32mc:\\Users\\pavelp\\Projects\\mipt\\hackathon\\rag\\explore\\.venv\\lib\\site-packages\\langchain_core\\language_models\\chat_models.py:632\u001b[0m, in \u001b[0;36mBaseChatModel._generate_with_cache\u001b[1;34m(self, messages, stop, run_manager, **kwargs)\u001b[0m\n\u001b[0;32m    630\u001b[0m \u001b[38;5;28;01melse\u001b[39;00m:\n\u001b[0;32m    631\u001b[0m     \u001b[38;5;28;01mif\u001b[39;00m inspect\u001b[38;5;241m.\u001b[39msignature(\u001b[38;5;28mself\u001b[39m\u001b[38;5;241m.\u001b[39m_generate)\u001b[38;5;241m.\u001b[39mparameters\u001b[38;5;241m.\u001b[39mget(\u001b[38;5;124m\"\u001b[39m\u001b[38;5;124mrun_manager\u001b[39m\u001b[38;5;124m\"\u001b[39m):\n\u001b[1;32m--> 632\u001b[0m         result \u001b[38;5;241m=\u001b[39m \u001b[38;5;28;43mself\u001b[39;49m\u001b[38;5;241;43m.\u001b[39;49m\u001b[43m_generate\u001b[49m\u001b[43m(\u001b[49m\n\u001b[0;32m    633\u001b[0m \u001b[43m            \u001b[49m\u001b[43mmessages\u001b[49m\u001b[43m,\u001b[49m\u001b[43m \u001b[49m\u001b[43mstop\u001b[49m\u001b[38;5;241;43m=\u001b[39;49m\u001b[43mstop\u001b[49m\u001b[43m,\u001b[49m\u001b[43m \u001b[49m\u001b[43mrun_manager\u001b[49m\u001b[38;5;241;43m=\u001b[39;49m\u001b[43mrun_manager\u001b[49m\u001b[43m,\u001b[49m\u001b[43m \u001b[49m\u001b[38;5;241;43m*\u001b[39;49m\u001b[38;5;241;43m*\u001b[39;49m\u001b[43mkwargs\u001b[49m\n\u001b[0;32m    634\u001b[0m \u001b[43m        \u001b[49m\u001b[43m)\u001b[49m\n\u001b[0;32m    635\u001b[0m     \u001b[38;5;28;01melse\u001b[39;00m:\n\u001b[0;32m    636\u001b[0m         result \u001b[38;5;241m=\u001b[39m \u001b[38;5;28mself\u001b[39m\u001b[38;5;241m.\u001b[39m_generate(messages, stop\u001b[38;5;241m=\u001b[39mstop, \u001b[38;5;241m*\u001b[39m\u001b[38;5;241m*\u001b[39mkwargs)\n",
      "File \u001b[1;32mc:\\Users\\pavelp\\Projects\\mipt\\hackathon\\rag\\explore\\.venv\\lib\\site-packages\\langchain_community\\chat_models\\gigachat.py:191\u001b[0m, in \u001b[0;36mGigaChat._generate\u001b[1;34m(self, messages, stop, run_manager, stream, **kwargs)\u001b[0m\n\u001b[0;32m    188\u001b[0m     \u001b[38;5;28;01mreturn\u001b[39;00m generate_from_stream(stream_iter)\n\u001b[0;32m    190\u001b[0m payload \u001b[38;5;241m=\u001b[39m \u001b[38;5;28mself\u001b[39m\u001b[38;5;241m.\u001b[39m_build_payload(messages, \u001b[38;5;241m*\u001b[39m\u001b[38;5;241m*\u001b[39mkwargs)\n\u001b[1;32m--> 191\u001b[0m response \u001b[38;5;241m=\u001b[39m \u001b[38;5;28;43mself\u001b[39;49m\u001b[38;5;241;43m.\u001b[39;49m\u001b[43m_client\u001b[49m\u001b[38;5;241;43m.\u001b[39;49m\u001b[43mchat\u001b[49m\u001b[43m(\u001b[49m\u001b[43mpayload\u001b[49m\u001b[43m)\u001b[49m\n\u001b[0;32m    193\u001b[0m \u001b[38;5;28;01mreturn\u001b[39;00m \u001b[38;5;28mself\u001b[39m\u001b[38;5;241m.\u001b[39m_create_chat_result(response)\n",
      "File \u001b[1;32mc:\\Users\\pavelp\\Projects\\mipt\\hackathon\\rag\\explore\\.venv\\lib\\site-packages\\gigachat\\client.py:235\u001b[0m, in \u001b[0;36mGigaChatSyncClient.chat\u001b[1;34m(self, payload)\u001b[0m\n\u001b[0;32m    233\u001b[0m \u001b[38;5;250m\u001b[39m\u001b[38;5;124;03m\"\"\"Возвращает ответ модели с учетом переданных сообщений\"\"\"\u001b[39;00m\n\u001b[0;32m    234\u001b[0m chat \u001b[38;5;241m=\u001b[39m _parse_chat(payload, \u001b[38;5;28mself\u001b[39m\u001b[38;5;241m.\u001b[39m_settings)\n\u001b[1;32m--> 235\u001b[0m \u001b[38;5;28;01mreturn\u001b[39;00m \u001b[38;5;28;43mself\u001b[39;49m\u001b[38;5;241;43m.\u001b[39;49m\u001b[43m_decorator\u001b[49m\u001b[43m(\u001b[49m\u001b[38;5;28;43;01mlambda\u001b[39;49;00m\u001b[43m:\u001b[49m\u001b[43m \u001b[49m\u001b[43mpost_chat\u001b[49m\u001b[38;5;241;43m.\u001b[39;49m\u001b[43msync\u001b[49m\u001b[43m(\u001b[49m\u001b[38;5;28;43mself\u001b[39;49m\u001b[38;5;241;43m.\u001b[39;49m\u001b[43m_client\u001b[49m\u001b[43m,\u001b[49m\u001b[43m \u001b[49m\u001b[43mchat\u001b[49m\u001b[38;5;241;43m=\u001b[39;49m\u001b[43mchat\u001b[49m\u001b[43m,\u001b[49m\u001b[43m \u001b[49m\u001b[43maccess_token\u001b[49m\u001b[38;5;241;43m=\u001b[39;49m\u001b[38;5;28;43mself\u001b[39;49m\u001b[38;5;241;43m.\u001b[39;49m\u001b[43mtoken\u001b[49m\u001b[43m)\u001b[49m\u001b[43m)\u001b[49m\n",
      "File \u001b[1;32mc:\\Users\\pavelp\\Projects\\mipt\\hackathon\\rag\\explore\\.venv\\lib\\site-packages\\gigachat\\client.py:199\u001b[0m, in \u001b[0;36mGigaChatSyncClient._decorator\u001b[1;34m(self, call)\u001b[0m\n\u001b[0;32m    197\u001b[0m \u001b[38;5;28;01mif\u001b[39;00m \u001b[38;5;28mself\u001b[39m\u001b[38;5;241m.\u001b[39m_check_validity_token():\n\u001b[0;32m    198\u001b[0m     \u001b[38;5;28;01mtry\u001b[39;00m:\n\u001b[1;32m--> 199\u001b[0m         \u001b[38;5;28;01mreturn\u001b[39;00m \u001b[43mcall\u001b[49m\u001b[43m(\u001b[49m\u001b[43m)\u001b[49m\n\u001b[0;32m    200\u001b[0m     \u001b[38;5;28;01mexcept\u001b[39;00m AuthenticationError:\n\u001b[0;32m    201\u001b[0m         _logger\u001b[38;5;241m.\u001b[39mwarning(\u001b[38;5;124m\"\u001b[39m\u001b[38;5;124mAUTHENTICATION ERROR\u001b[39m\u001b[38;5;124m\"\u001b[39m)\n",
      "File \u001b[1;32mc:\\Users\\pavelp\\Projects\\mipt\\hackathon\\rag\\explore\\.venv\\lib\\site-packages\\gigachat\\client.py:235\u001b[0m, in \u001b[0;36mGigaChatSyncClient.chat.<locals>.<lambda>\u001b[1;34m()\u001b[0m\n\u001b[0;32m    233\u001b[0m \u001b[38;5;250m\u001b[39m\u001b[38;5;124;03m\"\"\"Возвращает ответ модели с учетом переданных сообщений\"\"\"\u001b[39;00m\n\u001b[0;32m    234\u001b[0m chat \u001b[38;5;241m=\u001b[39m _parse_chat(payload, \u001b[38;5;28mself\u001b[39m\u001b[38;5;241m.\u001b[39m_settings)\n\u001b[1;32m--> 235\u001b[0m \u001b[38;5;28;01mreturn\u001b[39;00m \u001b[38;5;28mself\u001b[39m\u001b[38;5;241m.\u001b[39m_decorator(\u001b[38;5;28;01mlambda\u001b[39;00m: \u001b[43mpost_chat\u001b[49m\u001b[38;5;241;43m.\u001b[39;49m\u001b[43msync\u001b[49m\u001b[43m(\u001b[49m\u001b[38;5;28;43mself\u001b[39;49m\u001b[38;5;241;43m.\u001b[39;49m\u001b[43m_client\u001b[49m\u001b[43m,\u001b[49m\u001b[43m \u001b[49m\u001b[43mchat\u001b[49m\u001b[38;5;241;43m=\u001b[39;49m\u001b[43mchat\u001b[49m\u001b[43m,\u001b[49m\u001b[43m \u001b[49m\u001b[43maccess_token\u001b[49m\u001b[38;5;241;43m=\u001b[39;49m\u001b[38;5;28;43mself\u001b[39;49m\u001b[38;5;241;43m.\u001b[39;49m\u001b[43mtoken\u001b[49m\u001b[43m)\u001b[49m)\n",
      "File \u001b[1;32mc:\\Users\\pavelp\\Projects\\mipt\\hackathon\\rag\\explore\\.venv\\lib\\site-packages\\gigachat\\api\\post_chat.py:42\u001b[0m, in \u001b[0;36msync\u001b[1;34m(client, chat, access_token)\u001b[0m\n\u001b[0;32m     35\u001b[0m \u001b[38;5;28;01mdef\u001b[39;00m \u001b[38;5;21msync\u001b[39m(\n\u001b[0;32m     36\u001b[0m     client: httpx\u001b[38;5;241m.\u001b[39mClient,\n\u001b[0;32m     37\u001b[0m     \u001b[38;5;241m*\u001b[39m,\n\u001b[0;32m     38\u001b[0m     chat: Chat,\n\u001b[0;32m     39\u001b[0m     access_token: Optional[\u001b[38;5;28mstr\u001b[39m] \u001b[38;5;241m=\u001b[39m \u001b[38;5;28;01mNone\u001b[39;00m,\n\u001b[0;32m     40\u001b[0m ) \u001b[38;5;241m-\u001b[39m\u001b[38;5;241m>\u001b[39m ChatCompletion:\n\u001b[0;32m     41\u001b[0m     kwargs \u001b[38;5;241m=\u001b[39m _get_kwargs(chat\u001b[38;5;241m=\u001b[39mchat, access_token\u001b[38;5;241m=\u001b[39maccess_token)\n\u001b[1;32m---> 42\u001b[0m     response \u001b[38;5;241m=\u001b[39m \u001b[43mclient\u001b[49m\u001b[38;5;241;43m.\u001b[39;49m\u001b[43mrequest\u001b[49m\u001b[43m(\u001b[49m\u001b[38;5;241;43m*\u001b[39;49m\u001b[38;5;241;43m*\u001b[39;49m\u001b[43mkwargs\u001b[49m\u001b[43m)\u001b[49m\n\u001b[0;32m     43\u001b[0m     \u001b[38;5;28;01mreturn\u001b[39;00m _build_response(response)\n",
      "File \u001b[1;32mc:\\Users\\pavelp\\Projects\\mipt\\hackathon\\rag\\explore\\.venv\\lib\\site-packages\\httpx\\_client.py:827\u001b[0m, in \u001b[0;36mClient.request\u001b[1;34m(self, method, url, content, data, files, json, params, headers, cookies, auth, follow_redirects, timeout, extensions)\u001b[0m\n\u001b[0;32m    812\u001b[0m     warnings\u001b[38;5;241m.\u001b[39mwarn(message, \u001b[38;5;167;01mDeprecationWarning\u001b[39;00m)\n\u001b[0;32m    814\u001b[0m request \u001b[38;5;241m=\u001b[39m \u001b[38;5;28mself\u001b[39m\u001b[38;5;241m.\u001b[39mbuild_request(\n\u001b[0;32m    815\u001b[0m     method\u001b[38;5;241m=\u001b[39mmethod,\n\u001b[0;32m    816\u001b[0m     url\u001b[38;5;241m=\u001b[39murl,\n\u001b[1;32m   (...)\u001b[0m\n\u001b[0;32m    825\u001b[0m     extensions\u001b[38;5;241m=\u001b[39mextensions,\n\u001b[0;32m    826\u001b[0m )\n\u001b[1;32m--> 827\u001b[0m \u001b[38;5;28;01mreturn\u001b[39;00m \u001b[38;5;28;43mself\u001b[39;49m\u001b[38;5;241;43m.\u001b[39;49m\u001b[43msend\u001b[49m\u001b[43m(\u001b[49m\u001b[43mrequest\u001b[49m\u001b[43m,\u001b[49m\u001b[43m \u001b[49m\u001b[43mauth\u001b[49m\u001b[38;5;241;43m=\u001b[39;49m\u001b[43mauth\u001b[49m\u001b[43m,\u001b[49m\u001b[43m \u001b[49m\u001b[43mfollow_redirects\u001b[49m\u001b[38;5;241;43m=\u001b[39;49m\u001b[43mfollow_redirects\u001b[49m\u001b[43m)\u001b[49m\n",
      "File \u001b[1;32mc:\\Users\\pavelp\\Projects\\mipt\\hackathon\\rag\\explore\\.venv\\lib\\site-packages\\httpx\\_client.py:914\u001b[0m, in \u001b[0;36mClient.send\u001b[1;34m(self, request, stream, auth, follow_redirects)\u001b[0m\n\u001b[0;32m    906\u001b[0m follow_redirects \u001b[38;5;241m=\u001b[39m (\n\u001b[0;32m    907\u001b[0m     \u001b[38;5;28mself\u001b[39m\u001b[38;5;241m.\u001b[39mfollow_redirects\n\u001b[0;32m    908\u001b[0m     \u001b[38;5;28;01mif\u001b[39;00m \u001b[38;5;28misinstance\u001b[39m(follow_redirects, UseClientDefault)\n\u001b[0;32m    909\u001b[0m     \u001b[38;5;28;01melse\u001b[39;00m follow_redirects\n\u001b[0;32m    910\u001b[0m )\n\u001b[0;32m    912\u001b[0m auth \u001b[38;5;241m=\u001b[39m \u001b[38;5;28mself\u001b[39m\u001b[38;5;241m.\u001b[39m_build_request_auth(request, auth)\n\u001b[1;32m--> 914\u001b[0m response \u001b[38;5;241m=\u001b[39m \u001b[38;5;28;43mself\u001b[39;49m\u001b[38;5;241;43m.\u001b[39;49m\u001b[43m_send_handling_auth\u001b[49m\u001b[43m(\u001b[49m\n\u001b[0;32m    915\u001b[0m \u001b[43m    \u001b[49m\u001b[43mrequest\u001b[49m\u001b[43m,\u001b[49m\n\u001b[0;32m    916\u001b[0m \u001b[43m    \u001b[49m\u001b[43mauth\u001b[49m\u001b[38;5;241;43m=\u001b[39;49m\u001b[43mauth\u001b[49m\u001b[43m,\u001b[49m\n\u001b[0;32m    917\u001b[0m \u001b[43m    \u001b[49m\u001b[43mfollow_redirects\u001b[49m\u001b[38;5;241;43m=\u001b[39;49m\u001b[43mfollow_redirects\u001b[49m\u001b[43m,\u001b[49m\n\u001b[0;32m    918\u001b[0m \u001b[43m    \u001b[49m\u001b[43mhistory\u001b[49m\u001b[38;5;241;43m=\u001b[39;49m\u001b[43m[\u001b[49m\u001b[43m]\u001b[49m\u001b[43m,\u001b[49m\n\u001b[0;32m    919\u001b[0m \u001b[43m\u001b[49m\u001b[43m)\u001b[49m\n\u001b[0;32m    920\u001b[0m \u001b[38;5;28;01mtry\u001b[39;00m:\n\u001b[0;32m    921\u001b[0m     \u001b[38;5;28;01mif\u001b[39;00m \u001b[38;5;129;01mnot\u001b[39;00m stream:\n",
      "File \u001b[1;32mc:\\Users\\pavelp\\Projects\\mipt\\hackathon\\rag\\explore\\.venv\\lib\\site-packages\\httpx\\_client.py:942\u001b[0m, in \u001b[0;36mClient._send_handling_auth\u001b[1;34m(self, request, auth, follow_redirects, history)\u001b[0m\n\u001b[0;32m    939\u001b[0m request \u001b[38;5;241m=\u001b[39m \u001b[38;5;28mnext\u001b[39m(auth_flow)\n\u001b[0;32m    941\u001b[0m \u001b[38;5;28;01mwhile\u001b[39;00m \u001b[38;5;28;01mTrue\u001b[39;00m:\n\u001b[1;32m--> 942\u001b[0m     response \u001b[38;5;241m=\u001b[39m \u001b[38;5;28;43mself\u001b[39;49m\u001b[38;5;241;43m.\u001b[39;49m\u001b[43m_send_handling_redirects\u001b[49m\u001b[43m(\u001b[49m\n\u001b[0;32m    943\u001b[0m \u001b[43m        \u001b[49m\u001b[43mrequest\u001b[49m\u001b[43m,\u001b[49m\n\u001b[0;32m    944\u001b[0m \u001b[43m        \u001b[49m\u001b[43mfollow_redirects\u001b[49m\u001b[38;5;241;43m=\u001b[39;49m\u001b[43mfollow_redirects\u001b[49m\u001b[43m,\u001b[49m\n\u001b[0;32m    945\u001b[0m \u001b[43m        \u001b[49m\u001b[43mhistory\u001b[49m\u001b[38;5;241;43m=\u001b[39;49m\u001b[43mhistory\u001b[49m\u001b[43m,\u001b[49m\n\u001b[0;32m    946\u001b[0m \u001b[43m    \u001b[49m\u001b[43m)\u001b[49m\n\u001b[0;32m    947\u001b[0m     \u001b[38;5;28;01mtry\u001b[39;00m:\n\u001b[0;32m    948\u001b[0m         \u001b[38;5;28;01mtry\u001b[39;00m:\n",
      "File \u001b[1;32mc:\\Users\\pavelp\\Projects\\mipt\\hackathon\\rag\\explore\\.venv\\lib\\site-packages\\httpx\\_client.py:979\u001b[0m, in \u001b[0;36mClient._send_handling_redirects\u001b[1;34m(self, request, follow_redirects, history)\u001b[0m\n\u001b[0;32m    976\u001b[0m \u001b[38;5;28;01mfor\u001b[39;00m hook \u001b[38;5;129;01min\u001b[39;00m \u001b[38;5;28mself\u001b[39m\u001b[38;5;241m.\u001b[39m_event_hooks[\u001b[38;5;124m\"\u001b[39m\u001b[38;5;124mrequest\u001b[39m\u001b[38;5;124m\"\u001b[39m]:\n\u001b[0;32m    977\u001b[0m     hook(request)\n\u001b[1;32m--> 979\u001b[0m response \u001b[38;5;241m=\u001b[39m \u001b[38;5;28;43mself\u001b[39;49m\u001b[38;5;241;43m.\u001b[39;49m\u001b[43m_send_single_request\u001b[49m\u001b[43m(\u001b[49m\u001b[43mrequest\u001b[49m\u001b[43m)\u001b[49m\n\u001b[0;32m    980\u001b[0m \u001b[38;5;28;01mtry\u001b[39;00m:\n\u001b[0;32m    981\u001b[0m     \u001b[38;5;28;01mfor\u001b[39;00m hook \u001b[38;5;129;01min\u001b[39;00m \u001b[38;5;28mself\u001b[39m\u001b[38;5;241m.\u001b[39m_event_hooks[\u001b[38;5;124m\"\u001b[39m\u001b[38;5;124mresponse\u001b[39m\u001b[38;5;124m\"\u001b[39m]:\n",
      "File \u001b[1;32mc:\\Users\\pavelp\\Projects\\mipt\\hackathon\\rag\\explore\\.venv\\lib\\site-packages\\httpx\\_client.py:1015\u001b[0m, in \u001b[0;36mClient._send_single_request\u001b[1;34m(self, request)\u001b[0m\n\u001b[0;32m   1010\u001b[0m     \u001b[38;5;28;01mraise\u001b[39;00m \u001b[38;5;167;01mRuntimeError\u001b[39;00m(\n\u001b[0;32m   1011\u001b[0m         \u001b[38;5;124m\"\u001b[39m\u001b[38;5;124mAttempted to send an async request with a sync Client instance.\u001b[39m\u001b[38;5;124m\"\u001b[39m\n\u001b[0;32m   1012\u001b[0m     )\n\u001b[0;32m   1014\u001b[0m \u001b[38;5;28;01mwith\u001b[39;00m request_context(request\u001b[38;5;241m=\u001b[39mrequest):\n\u001b[1;32m-> 1015\u001b[0m     response \u001b[38;5;241m=\u001b[39m \u001b[43mtransport\u001b[49m\u001b[38;5;241;43m.\u001b[39;49m\u001b[43mhandle_request\u001b[49m\u001b[43m(\u001b[49m\u001b[43mrequest\u001b[49m\u001b[43m)\u001b[49m\n\u001b[0;32m   1017\u001b[0m \u001b[38;5;28;01massert\u001b[39;00m \u001b[38;5;28misinstance\u001b[39m(response\u001b[38;5;241m.\u001b[39mstream, SyncByteStream)\n\u001b[0;32m   1019\u001b[0m response\u001b[38;5;241m.\u001b[39mrequest \u001b[38;5;241m=\u001b[39m request\n",
      "File \u001b[1;32mc:\\Users\\pavelp\\Projects\\mipt\\hackathon\\rag\\explore\\.venv\\lib\\site-packages\\httpx\\_transports\\default.py:233\u001b[0m, in \u001b[0;36mHTTPTransport.handle_request\u001b[1;34m(self, request)\u001b[0m\n\u001b[0;32m    220\u001b[0m req \u001b[38;5;241m=\u001b[39m httpcore\u001b[38;5;241m.\u001b[39mRequest(\n\u001b[0;32m    221\u001b[0m     method\u001b[38;5;241m=\u001b[39mrequest\u001b[38;5;241m.\u001b[39mmethod,\n\u001b[0;32m    222\u001b[0m     url\u001b[38;5;241m=\u001b[39mhttpcore\u001b[38;5;241m.\u001b[39mURL(\n\u001b[1;32m   (...)\u001b[0m\n\u001b[0;32m    230\u001b[0m     extensions\u001b[38;5;241m=\u001b[39mrequest\u001b[38;5;241m.\u001b[39mextensions,\n\u001b[0;32m    231\u001b[0m )\n\u001b[0;32m    232\u001b[0m \u001b[38;5;28;01mwith\u001b[39;00m map_httpcore_exceptions():\n\u001b[1;32m--> 233\u001b[0m     resp \u001b[38;5;241m=\u001b[39m \u001b[38;5;28;43mself\u001b[39;49m\u001b[38;5;241;43m.\u001b[39;49m\u001b[43m_pool\u001b[49m\u001b[38;5;241;43m.\u001b[39;49m\u001b[43mhandle_request\u001b[49m\u001b[43m(\u001b[49m\u001b[43mreq\u001b[49m\u001b[43m)\u001b[49m\n\u001b[0;32m    235\u001b[0m \u001b[38;5;28;01massert\u001b[39;00m \u001b[38;5;28misinstance\u001b[39m(resp\u001b[38;5;241m.\u001b[39mstream, typing\u001b[38;5;241m.\u001b[39mIterable)\n\u001b[0;32m    237\u001b[0m \u001b[38;5;28;01mreturn\u001b[39;00m Response(\n\u001b[0;32m    238\u001b[0m     status_code\u001b[38;5;241m=\u001b[39mresp\u001b[38;5;241m.\u001b[39mstatus,\n\u001b[0;32m    239\u001b[0m     headers\u001b[38;5;241m=\u001b[39mresp\u001b[38;5;241m.\u001b[39mheaders,\n\u001b[0;32m    240\u001b[0m     stream\u001b[38;5;241m=\u001b[39mResponseStream(resp\u001b[38;5;241m.\u001b[39mstream),\n\u001b[0;32m    241\u001b[0m     extensions\u001b[38;5;241m=\u001b[39mresp\u001b[38;5;241m.\u001b[39mextensions,\n\u001b[0;32m    242\u001b[0m )\n",
      "File \u001b[1;32mc:\\Users\\pavelp\\Projects\\mipt\\hackathon\\rag\\explore\\.venv\\lib\\site-packages\\httpcore\\_sync\\connection_pool.py:216\u001b[0m, in \u001b[0;36mConnectionPool.handle_request\u001b[1;34m(self, request)\u001b[0m\n\u001b[0;32m    213\u001b[0m         closing \u001b[38;5;241m=\u001b[39m \u001b[38;5;28mself\u001b[39m\u001b[38;5;241m.\u001b[39m_assign_requests_to_connections()\n\u001b[0;32m    215\u001b[0m     \u001b[38;5;28mself\u001b[39m\u001b[38;5;241m.\u001b[39m_close_connections(closing)\n\u001b[1;32m--> 216\u001b[0m     \u001b[38;5;28;01mraise\u001b[39;00m exc \u001b[38;5;28;01mfrom\u001b[39;00m \u001b[38;5;28;01mNone\u001b[39;00m\n\u001b[0;32m    218\u001b[0m \u001b[38;5;66;03m# Return the response. Note that in this case we still have to manage\u001b[39;00m\n\u001b[0;32m    219\u001b[0m \u001b[38;5;66;03m# the point at which the response is closed.\u001b[39;00m\n\u001b[0;32m    220\u001b[0m \u001b[38;5;28;01massert\u001b[39;00m \u001b[38;5;28misinstance\u001b[39m(response\u001b[38;5;241m.\u001b[39mstream, Iterable)\n",
      "File \u001b[1;32mc:\\Users\\pavelp\\Projects\\mipt\\hackathon\\rag\\explore\\.venv\\lib\\site-packages\\httpcore\\_sync\\connection_pool.py:196\u001b[0m, in \u001b[0;36mConnectionPool.handle_request\u001b[1;34m(self, request)\u001b[0m\n\u001b[0;32m    192\u001b[0m connection \u001b[38;5;241m=\u001b[39m pool_request\u001b[38;5;241m.\u001b[39mwait_for_connection(timeout\u001b[38;5;241m=\u001b[39mtimeout)\n\u001b[0;32m    194\u001b[0m \u001b[38;5;28;01mtry\u001b[39;00m:\n\u001b[0;32m    195\u001b[0m     \u001b[38;5;66;03m# Send the request on the assigned connection.\u001b[39;00m\n\u001b[1;32m--> 196\u001b[0m     response \u001b[38;5;241m=\u001b[39m \u001b[43mconnection\u001b[49m\u001b[38;5;241;43m.\u001b[39;49m\u001b[43mhandle_request\u001b[49m\u001b[43m(\u001b[49m\n\u001b[0;32m    197\u001b[0m \u001b[43m        \u001b[49m\u001b[43mpool_request\u001b[49m\u001b[38;5;241;43m.\u001b[39;49m\u001b[43mrequest\u001b[49m\n\u001b[0;32m    198\u001b[0m \u001b[43m    \u001b[49m\u001b[43m)\u001b[49m\n\u001b[0;32m    199\u001b[0m \u001b[38;5;28;01mexcept\u001b[39;00m ConnectionNotAvailable:\n\u001b[0;32m    200\u001b[0m     \u001b[38;5;66;03m# In some cases a connection may initially be available to\u001b[39;00m\n\u001b[0;32m    201\u001b[0m     \u001b[38;5;66;03m# handle a request, but then become unavailable.\u001b[39;00m\n\u001b[0;32m    202\u001b[0m     \u001b[38;5;66;03m#\u001b[39;00m\n\u001b[0;32m    203\u001b[0m     \u001b[38;5;66;03m# In this case we clear the connection and try again.\u001b[39;00m\n\u001b[0;32m    204\u001b[0m     pool_request\u001b[38;5;241m.\u001b[39mclear_connection()\n",
      "File \u001b[1;32mc:\\Users\\pavelp\\Projects\\mipt\\hackathon\\rag\\explore\\.venv\\lib\\site-packages\\httpcore\\_sync\\connection.py:101\u001b[0m, in \u001b[0;36mHTTPConnection.handle_request\u001b[1;34m(self, request)\u001b[0m\n\u001b[0;32m     98\u001b[0m     \u001b[38;5;28mself\u001b[39m\u001b[38;5;241m.\u001b[39m_connect_failed \u001b[38;5;241m=\u001b[39m \u001b[38;5;28;01mTrue\u001b[39;00m\n\u001b[0;32m     99\u001b[0m     \u001b[38;5;28;01mraise\u001b[39;00m exc\n\u001b[1;32m--> 101\u001b[0m \u001b[38;5;28;01mreturn\u001b[39;00m \u001b[38;5;28;43mself\u001b[39;49m\u001b[38;5;241;43m.\u001b[39;49m\u001b[43m_connection\u001b[49m\u001b[38;5;241;43m.\u001b[39;49m\u001b[43mhandle_request\u001b[49m\u001b[43m(\u001b[49m\u001b[43mrequest\u001b[49m\u001b[43m)\u001b[49m\n",
      "File \u001b[1;32mc:\\Users\\pavelp\\Projects\\mipt\\hackathon\\rag\\explore\\.venv\\lib\\site-packages\\httpcore\\_sync\\http11.py:143\u001b[0m, in \u001b[0;36mHTTP11Connection.handle_request\u001b[1;34m(self, request)\u001b[0m\n\u001b[0;32m    141\u001b[0m     \u001b[38;5;28;01mwith\u001b[39;00m Trace(\u001b[38;5;124m\"\u001b[39m\u001b[38;5;124mresponse_closed\u001b[39m\u001b[38;5;124m\"\u001b[39m, logger, request) \u001b[38;5;28;01mas\u001b[39;00m trace:\n\u001b[0;32m    142\u001b[0m         \u001b[38;5;28mself\u001b[39m\u001b[38;5;241m.\u001b[39m_response_closed()\n\u001b[1;32m--> 143\u001b[0m \u001b[38;5;28;01mraise\u001b[39;00m exc\n",
      "File \u001b[1;32mc:\\Users\\pavelp\\Projects\\mipt\\hackathon\\rag\\explore\\.venv\\lib\\site-packages\\httpcore\\_sync\\http11.py:113\u001b[0m, in \u001b[0;36mHTTP11Connection.handle_request\u001b[1;34m(self, request)\u001b[0m\n\u001b[0;32m    102\u001b[0m     \u001b[38;5;28;01mpass\u001b[39;00m\n\u001b[0;32m    104\u001b[0m \u001b[38;5;28;01mwith\u001b[39;00m Trace(\n\u001b[0;32m    105\u001b[0m     \u001b[38;5;124m\"\u001b[39m\u001b[38;5;124mreceive_response_headers\u001b[39m\u001b[38;5;124m\"\u001b[39m, logger, request, kwargs\n\u001b[0;32m    106\u001b[0m ) \u001b[38;5;28;01mas\u001b[39;00m trace:\n\u001b[0;32m    107\u001b[0m     (\n\u001b[0;32m    108\u001b[0m         http_version,\n\u001b[0;32m    109\u001b[0m         status,\n\u001b[0;32m    110\u001b[0m         reason_phrase,\n\u001b[0;32m    111\u001b[0m         headers,\n\u001b[0;32m    112\u001b[0m         trailing_data,\n\u001b[1;32m--> 113\u001b[0m     ) \u001b[38;5;241m=\u001b[39m \u001b[38;5;28;43mself\u001b[39;49m\u001b[38;5;241;43m.\u001b[39;49m\u001b[43m_receive_response_headers\u001b[49m\u001b[43m(\u001b[49m\u001b[38;5;241;43m*\u001b[39;49m\u001b[38;5;241;43m*\u001b[39;49m\u001b[43mkwargs\u001b[49m\u001b[43m)\u001b[49m\n\u001b[0;32m    114\u001b[0m     trace\u001b[38;5;241m.\u001b[39mreturn_value \u001b[38;5;241m=\u001b[39m (\n\u001b[0;32m    115\u001b[0m         http_version,\n\u001b[0;32m    116\u001b[0m         status,\n\u001b[0;32m    117\u001b[0m         reason_phrase,\n\u001b[0;32m    118\u001b[0m         headers,\n\u001b[0;32m    119\u001b[0m     )\n\u001b[0;32m    121\u001b[0m network_stream \u001b[38;5;241m=\u001b[39m \u001b[38;5;28mself\u001b[39m\u001b[38;5;241m.\u001b[39m_network_stream\n",
      "File \u001b[1;32mc:\\Users\\pavelp\\Projects\\mipt\\hackathon\\rag\\explore\\.venv\\lib\\site-packages\\httpcore\\_sync\\http11.py:186\u001b[0m, in \u001b[0;36mHTTP11Connection._receive_response_headers\u001b[1;34m(self, request)\u001b[0m\n\u001b[0;32m    183\u001b[0m timeout \u001b[38;5;241m=\u001b[39m timeouts\u001b[38;5;241m.\u001b[39mget(\u001b[38;5;124m\"\u001b[39m\u001b[38;5;124mread\u001b[39m\u001b[38;5;124m\"\u001b[39m, \u001b[38;5;28;01mNone\u001b[39;00m)\n\u001b[0;32m    185\u001b[0m \u001b[38;5;28;01mwhile\u001b[39;00m \u001b[38;5;28;01mTrue\u001b[39;00m:\n\u001b[1;32m--> 186\u001b[0m     event \u001b[38;5;241m=\u001b[39m \u001b[38;5;28;43mself\u001b[39;49m\u001b[38;5;241;43m.\u001b[39;49m\u001b[43m_receive_event\u001b[49m\u001b[43m(\u001b[49m\u001b[43mtimeout\u001b[49m\u001b[38;5;241;43m=\u001b[39;49m\u001b[43mtimeout\u001b[49m\u001b[43m)\u001b[49m\n\u001b[0;32m    187\u001b[0m     \u001b[38;5;28;01mif\u001b[39;00m \u001b[38;5;28misinstance\u001b[39m(event, h11\u001b[38;5;241m.\u001b[39mResponse):\n\u001b[0;32m    188\u001b[0m         \u001b[38;5;28;01mbreak\u001b[39;00m\n",
      "File \u001b[1;32mc:\\Users\\pavelp\\Projects\\mipt\\hackathon\\rag\\explore\\.venv\\lib\\site-packages\\httpcore\\_sync\\http11.py:224\u001b[0m, in \u001b[0;36mHTTP11Connection._receive_event\u001b[1;34m(self, timeout)\u001b[0m\n\u001b[0;32m    221\u001b[0m     event \u001b[38;5;241m=\u001b[39m \u001b[38;5;28mself\u001b[39m\u001b[38;5;241m.\u001b[39m_h11_state\u001b[38;5;241m.\u001b[39mnext_event()\n\u001b[0;32m    223\u001b[0m \u001b[38;5;28;01mif\u001b[39;00m event \u001b[38;5;129;01mis\u001b[39;00m h11\u001b[38;5;241m.\u001b[39mNEED_DATA:\n\u001b[1;32m--> 224\u001b[0m     data \u001b[38;5;241m=\u001b[39m \u001b[38;5;28;43mself\u001b[39;49m\u001b[38;5;241;43m.\u001b[39;49m\u001b[43m_network_stream\u001b[49m\u001b[38;5;241;43m.\u001b[39;49m\u001b[43mread\u001b[49m\u001b[43m(\u001b[49m\n\u001b[0;32m    225\u001b[0m \u001b[43m        \u001b[49m\u001b[38;5;28;43mself\u001b[39;49m\u001b[38;5;241;43m.\u001b[39;49m\u001b[43mREAD_NUM_BYTES\u001b[49m\u001b[43m,\u001b[49m\u001b[43m \u001b[49m\u001b[43mtimeout\u001b[49m\u001b[38;5;241;43m=\u001b[39;49m\u001b[43mtimeout\u001b[49m\n\u001b[0;32m    226\u001b[0m \u001b[43m    \u001b[49m\u001b[43m)\u001b[49m\n\u001b[0;32m    228\u001b[0m     \u001b[38;5;66;03m# If we feed this case through h11 we'll raise an exception like:\u001b[39;00m\n\u001b[0;32m    229\u001b[0m     \u001b[38;5;66;03m#\u001b[39;00m\n\u001b[0;32m    230\u001b[0m     \u001b[38;5;66;03m#     httpcore.RemoteProtocolError: can't handle event type\u001b[39;00m\n\u001b[1;32m   (...)\u001b[0m\n\u001b[0;32m    234\u001b[0m     \u001b[38;5;66;03m# perspective. Instead we handle this case distinctly and treat\u001b[39;00m\n\u001b[0;32m    235\u001b[0m     \u001b[38;5;66;03m# it as a ConnectError.\u001b[39;00m\n\u001b[0;32m    236\u001b[0m     \u001b[38;5;28;01mif\u001b[39;00m data \u001b[38;5;241m==\u001b[39m \u001b[38;5;124mb\u001b[39m\u001b[38;5;124m\"\u001b[39m\u001b[38;5;124m\"\u001b[39m \u001b[38;5;129;01mand\u001b[39;00m \u001b[38;5;28mself\u001b[39m\u001b[38;5;241m.\u001b[39m_h11_state\u001b[38;5;241m.\u001b[39mtheir_state \u001b[38;5;241m==\u001b[39m h11\u001b[38;5;241m.\u001b[39mSEND_RESPONSE:\n",
      "File \u001b[1;32mc:\\Users\\pavelp\\Projects\\mipt\\hackathon\\rag\\explore\\.venv\\lib\\site-packages\\httpcore\\_backends\\sync.py:126\u001b[0m, in \u001b[0;36mSyncStream.read\u001b[1;34m(self, max_bytes, timeout)\u001b[0m\n\u001b[0;32m    124\u001b[0m \u001b[38;5;28;01mwith\u001b[39;00m map_exceptions(exc_map):\n\u001b[0;32m    125\u001b[0m     \u001b[38;5;28mself\u001b[39m\u001b[38;5;241m.\u001b[39m_sock\u001b[38;5;241m.\u001b[39msettimeout(timeout)\n\u001b[1;32m--> 126\u001b[0m     \u001b[38;5;28;01mreturn\u001b[39;00m \u001b[38;5;28;43mself\u001b[39;49m\u001b[38;5;241;43m.\u001b[39;49m\u001b[43m_sock\u001b[49m\u001b[38;5;241;43m.\u001b[39;49m\u001b[43mrecv\u001b[49m\u001b[43m(\u001b[49m\u001b[43mmax_bytes\u001b[49m\u001b[43m)\u001b[49m\n",
      "File \u001b[1;32m~\\.conda\\envs\\gpn\\lib\\ssl.py:1259\u001b[0m, in \u001b[0;36mSSLSocket.recv\u001b[1;34m(self, buflen, flags)\u001b[0m\n\u001b[0;32m   1255\u001b[0m     \u001b[38;5;28;01mif\u001b[39;00m flags \u001b[38;5;241m!=\u001b[39m \u001b[38;5;241m0\u001b[39m:\n\u001b[0;32m   1256\u001b[0m         \u001b[38;5;28;01mraise\u001b[39;00m \u001b[38;5;167;01mValueError\u001b[39;00m(\n\u001b[0;32m   1257\u001b[0m             \u001b[38;5;124m\"\u001b[39m\u001b[38;5;124mnon-zero flags not allowed in calls to recv() on \u001b[39m\u001b[38;5;132;01m%s\u001b[39;00m\u001b[38;5;124m\"\u001b[39m \u001b[38;5;241m%\u001b[39m\n\u001b[0;32m   1258\u001b[0m             \u001b[38;5;28mself\u001b[39m\u001b[38;5;241m.\u001b[39m\u001b[38;5;18m__class__\u001b[39m)\n\u001b[1;32m-> 1259\u001b[0m     \u001b[38;5;28;01mreturn\u001b[39;00m \u001b[38;5;28;43mself\u001b[39;49m\u001b[38;5;241;43m.\u001b[39;49m\u001b[43mread\u001b[49m\u001b[43m(\u001b[49m\u001b[43mbuflen\u001b[49m\u001b[43m)\u001b[49m\n\u001b[0;32m   1260\u001b[0m \u001b[38;5;28;01melse\u001b[39;00m:\n\u001b[0;32m   1261\u001b[0m     \u001b[38;5;28;01mreturn\u001b[39;00m \u001b[38;5;28msuper\u001b[39m()\u001b[38;5;241m.\u001b[39mrecv(buflen, flags)\n",
      "File \u001b[1;32m~\\.conda\\envs\\gpn\\lib\\ssl.py:1134\u001b[0m, in \u001b[0;36mSSLSocket.read\u001b[1;34m(self, len, buffer)\u001b[0m\n\u001b[0;32m   1132\u001b[0m         \u001b[38;5;28;01mreturn\u001b[39;00m \u001b[38;5;28mself\u001b[39m\u001b[38;5;241m.\u001b[39m_sslobj\u001b[38;5;241m.\u001b[39mread(\u001b[38;5;28mlen\u001b[39m, buffer)\n\u001b[0;32m   1133\u001b[0m     \u001b[38;5;28;01melse\u001b[39;00m:\n\u001b[1;32m-> 1134\u001b[0m         \u001b[38;5;28;01mreturn\u001b[39;00m \u001b[38;5;28;43mself\u001b[39;49m\u001b[38;5;241;43m.\u001b[39;49m\u001b[43m_sslobj\u001b[49m\u001b[38;5;241;43m.\u001b[39;49m\u001b[43mread\u001b[49m\u001b[43m(\u001b[49m\u001b[38;5;28;43mlen\u001b[39;49m\u001b[43m)\u001b[49m\n\u001b[0;32m   1135\u001b[0m \u001b[38;5;28;01mexcept\u001b[39;00m SSLError \u001b[38;5;28;01mas\u001b[39;00m x:\n\u001b[0;32m   1136\u001b[0m     \u001b[38;5;28;01mif\u001b[39;00m x\u001b[38;5;241m.\u001b[39margs[\u001b[38;5;241m0\u001b[39m] \u001b[38;5;241m==\u001b[39m SSL_ERROR_EOF \u001b[38;5;129;01mand\u001b[39;00m \u001b[38;5;28mself\u001b[39m\u001b[38;5;241m.\u001b[39msuppress_ragged_eofs:\n",
      "\u001b[1;31mKeyboardInterrupt\u001b[0m: "
     ]
    }
   ],
   "source": [
    "letter = 3\n",
    "\n",
    "inquiry = str(reference['letter'][letter-1].replace('\\n', ' '))\n",
    "# inquiry = str(reference['letter'][0].replace('\\n', ' '))\n",
    "\n",
    "question_one = extract_question_one(inquiry)\n",
    "question_two = extract_question_two(inquiry)\n",
    "question_three = extract_question_three(inquiry)\n",
    "\n",
    "response = chain.invoke({\"question\": extract_question_one(inquiry)}, return_only_outputs = False)\n",
    "\n",
    "print(f\"Qestion 1:\\n{question_one}\\n\")\n",
    "print(f\"Qestion 2:\\n{question_two}\\n\")\n",
    "print(f\"Qestion 3:\\n{question_three}\\n\")\n",
    "# response['answer']\n",
    "\n"
   ]
  },
  {
   "cell_type": "code",
   "execution_count": 55,
   "metadata": {},
   "outputs": [
    {
     "data": {
      "text/plain": [
       "{'question': '1. Может ли быть заключен договор с участником, который подал заявку на конкурентный отбор, полностью соответствующую техническому заданию и не отклоненную службой безопасности?\\n2. Какие возможные шаги и процедуры следует предпринять в данной ситуации?',\n",
       " 'answer': '1. Да, договор может быть заключен с участником, который подал заявку на конкурентный отбор, полностью соответствующую техническому заданию и не отклоненную службой безопасности. \\n\\n2. В данной ситуации, если по истечении срока подачи заявок на участие в конкурентном отборе подана только одна заявка, то такая заявка на участие в конкурентном отборе вскрывается, проводится ее анализ, рассмотрение, оценка и сопоставление в порядке, установленном документацией о конкурентном отборе. Если определенный по результатам конкурентного отбора поставщик (подрядчик, исполнитель) уклонился от заключения договора, или не предоставил обеспечение исполнения договора, то Заказчик незамедлительно уведомляет Организатора о таких фактах. Организатор должен истребовать предоставленное таким участником закупки обеспечение заявки на участие в конкурентном отборе, если такое обеспечение было предусмотрено документацией о конкурентном отборе. Комиссия вправе пересмотреть итоги (результаты) конкурентного отбора и определить другого поставщика (подрядчика, исполнителя), или Организатор объявляет новую закупку.',\n",
       " 'sources': '',\n",
       " 'source_documents': [Document(page_content='14.7.3. В случае установления факта подачи одним участником закупки двух и более заявок на участие в конкурентном отборе при условии, что поданные ранее заявки на участие в конкурентном отборе таким участником не отозваны, все заявки на участие в конкурентном отборе такого участника закупки, поданные в отношении данного конкурентного отбора, не принимаются к рассмотрению.\\n14.7.4. В случае признания конкурентного отбора несостоявшимся Заказчик (Организатор) вправе провести повторный конкурентный отбор, закупку иным способом либо Заказчик вправе заключить договор с единственным поставщиком (подрядчиком исполнителем) в соответствии с пунктом 17.1.8.\\n14.7.5. В случае если по истечении срока подачи заявок на участие в конкурентном отборе подана только одна заявка, то такая заявка на участие в конкурентном отборе вскрывается (к ней открывается доступ), проводится ее анализ рассмотрение, оценка и сопоставление в порядке, установленном документацией о конкурентном отборе.', metadata={'source': 'ПоЗ'}),\n",
       "  Document(page_content='14.11.13. Если объявленные в ходе проведения процедуры повышения стартовой цены условия о цене договора, не превышающие начальную (максимальную) цену предмета закупки (лота), не приняты ни одним участником, конкурентный отбор с повышением стартовой цены признается несостоявшимся.\\n14.12. Заключение и исполнение договора по результатам конкурентного отбора\\n14.12.1. Договор по результатам конкурентного отбора заключается победителем-поставщиком (подрядчиком, исполнителем), определенным в итоговом протоколе, на условиях, указанных в документации о конкурентном отборе и в заявке поданной участником конкурентного отбора, с которым заключается договор.\\n14.12.2. Цена договора, заключаемого по итогам конкурентного отбора, не може превышать начальную (максимальную) цену договора (цену лота), установленную Организатором (Заказчиком) при проведении конкурентного отбора, цену договора указанную в заявке участника, с которым заключается договор, и может быть снижена по соглашению сторон.', metadata={'source': 'ПоЗ'}),\n",
       "  Document(page_content='13.2.2. В случае если победитель запроса котировок или участник запрос котировок, который сделал предпоследнее предложение о цене договора, в срок предусмотренный извещением о запросе котировок, не представил Заказчику подписанный договор, победитель запроса котировок или участник запроса котировок который сделал предпоследнее предложение о цене договора, признается уклонившимс от заключения договора.\\n13.2.3. В случае если победитель запроса котировок признан уклонившимся о заключения договора, Заказчик вправе заключить договор с участником запрос котировок, который сделал предпоследнее предложение о цене договора.\\n13.2.4. Обеспечение заявок на участие в запросе котировок не возвращается в случае уклонения участника запроса котировок, с которым заключается договор, от заключения договора, в том числе в случае непредставления обеспечения исполнения договора, если было установлено требование обеспечения исполнения договора.', metadata={'source': 'ПоЗ'}),\n",
       "  Document(page_content='13.2.5. В случае уклонения участника запроса котировок, который сделал предпоследнее предложение о цене договора, от заключения договора Заказчик Организатор вправе принять решение о признании запроса котировок несостоявшимся.\\n14. КОНКУРЕНТНЫЙ ОТБОР\\n14.1. Общие положения\\n14.1.1. Конкурентный отбор проводится по правилам, предусмотренным разделом 7, а также разделом 8 в случае, если конкурентный отбор проводится в электронной форме, с учётом особенностей, установленных настоящим разделом.\\n14.1.2. Конкурентный отбор проводится в электронной форме, если такая возможность технически доступна Организатору и иное (бумажная форма) не определено решением Центрального органа управления закупками.\\n14.1.3. Конкурентный отбор может проводиться в несколько этапов предусмотренных пунктами 10.3.1.1, 10.3.1.2, 12.5, 14.11 в соответствии с документацией о конкурентном отборе.', metadata={'source': 'ПоЗ'}),\n",
       "  Document(page_content='14.12.6. В случае если определенный по результатам конкурентного отбор поставщик (подрядчик, исполнитель) уклонился от заключения договора, или не предоставил обеспечение исполнения договора, если в документации о конкурентном отборе было установлено такое требование, Заказчик незамедлительно уведомляет Организатора о таких фактах. Организатор должен истребовать предоставленное таким участником закупки обеспечение заявки на участие в конкурентном отборе, если такое обеспечение было предусмотрено документацией о конкурентном отборе. Комисси вправе пересмотреть итоги (результаты) конкурентного отбора и определить другого поставщика (подрядчика, исполнителя), или Организатор объявляет новую закупку.\\n14.12.7. Если договор по результатам конкурентного отбора в соответствии настоящим Положением в установленном в документации о конкурентной закупке порядке и сроки не заключен, Комиссия вправе отменить решение о результатах конкурентного отбора.', metadata={'source': 'ПоЗ'}),\n",
       "  Document(page_content='14.12.3. Определенный по результатам конкурентного отбора поставщик (подрядчик, исполнитель) в течение срока, установленного документацией о конкурентном отборе и/или в уведомлении о результатах конкурентного отбора, должен представить Заказчику подписанный им текст договора на условиях, содержащихся в документации о конкурентном отборе и поданной им заявке на участие в конкурентном отборе.\\n14.12.4. В случае если участник закупки, определенный по результатам конкурентного отбора поставщиком (подрядчиком, исполнителем), не предоставил Заказчику в установленный срок подписанный со своей стороны проект договора подготовленный в соответствии с пунктом 14.12.1, либо обеспечение исполнения договора, если такое требование было установлено документацией о конкурентном отборе, такой участник считается уклонившимся от заключения договора.', metadata={'source': 'ПоЗ'}),\n",
       "  Document(page_content='13.2.3. В случае если победитель запроса котировок признан уклонившимся о заключения договора, Заказчик вправе заключить договор с участником запрос котировок, который сделал предпоследнее предложение о цене договора.', metadata={'source': 'ПоЗ', 'bullet': '13.2.3.'}),\n",
       "  Document(page_content='13.1.12. Если при проведении запроса котировок только одна заявка участника конкурентной закупки не была отклонена, то такая заявка оценивается и сопоставляется в порядке, установленном извещением о проведении запроса котировок.\\n13.1.13. Заявке на участие в запросе котировок в электронной форме содержащей наименьшее ценовое предложение, присваивается первый номер.\\n13.1.14. В случае подачи только заявки на участие в запросе котировок Комиссия вправе признать запрос котировок несостоявшимся.\\n13.2. Заключение и исполнение договора по итогам запроса котировок\\n13.2.1. Договор заключается на условиях, указанных в извещении о проведении запроса котировок, по цене, предложенной победителем запроса котировок, либо в случа заключения договора с участником запроса котировок, который сделал предпоследне предложение о цене договора, по цене, предложенной таким участником.', metadata={'source': 'ПоЗ'}),\n",
       "  Document(page_content='10.5.1. Договор по результатам конкурса заключается с победителем конкурса, в случае отказа победителя конкурса, или в случае если победитель уклонился о заключения договора либо не представил обеспечение исполнения договора, если в конкурсной документации было установлено такое требование, Заказчик вправ заключить договор с другим участником конкурса, заявка которого содержит лучшие по отношению к другим участникам конкурса условия исполнения договора.\\n10.5.2. Договор по результатам конкурса заключается на условиях, указанных в конкурсной документации и в заявке на участие в конкурсе, поданной участником конкурса, с которым заключается договор. При заключении договора по итогам конкурс цена такого договора не может превышать установленную Заказчиком (Организатором начальную (максимальную) цену договора (цену лота), цену договора, указанную в конкурсной заявке участника, с которым заключается договор, и может быть снижена по соглашению сторон.\\n11. АУКЦИОН\\n11.1. Общие положения', metadata={'source': 'ПоЗ'}),\n",
       "  Document(page_content='14.12.6. В случае если определенный по результатам конкурентного отбор поставщик (подрядчик, исполнитель) уклонился от заключения договора, или не предоставил обеспечение исполнения договора, если в документации о конкурентном отборе было установлено такое требование, Заказчик незамедлительно уведомляет Организатора о таких фактах. Организатор должен истребовать предоставленное таким участником закупки обеспечение заявки на участие в конкурентном отборе, если такое обеспечение было предусмотрено документацией о конкурентном отборе. Комисси вправе пересмотреть итоги (результаты) конкурентного отбора и определить другого поставщика (подрядчика, исполнителя), или Организатор объявляет новую закупку.', metadata={'source': 'ПоЗ', 'bullet': '14.12.6.'})]}"
      ]
     },
     "execution_count": 55,
     "metadata": {},
     "output_type": "execute_result"
    }
   ],
   "source": [
    "response"
   ]
  },
  {
   "cell_type": "code",
   "execution_count": 60,
   "metadata": {},
   "outputs": [
    {
     "data": {
      "text/plain": [
       "list"
      ]
     },
     "execution_count": 60,
     "metadata": {},
     "output_type": "execute_result"
    }
   ],
   "source": [
    "type(response['source_documents'])"
   ]
  },
  {
   "cell_type": "code",
   "execution_count": 38,
   "metadata": {},
   "outputs": [
    {
     "name": "stdout",
     "output_type": "stream",
     "text": [
      "Уважаемые коллеги,  У меня вопрос, связанный с ситуацией, когда только один участник подал заявку на конкурентный отбор, полностью соответствующий техническому заданию и не отклоненный службой безопасности. Может ли быть заключен договор с данным участником?  Прошу вас поделиться вашим мнением относительно возможных шагов и процедур в данной ситуации.  Благодарю за внимание к данному запросу и жду ваших рекомендаций по данному вопросу.  С уважением,  [Ваше Имя] [Ваша Должность] [Ваша Компания]\n"
     ]
    }
   ],
   "source": [
    "print(inquiry)"
   ]
  },
  {
   "cell_type": "code",
   "execution_count": 266,
   "metadata": {},
   "outputs": [
    {
     "data": {
      "text/plain": [
       "'1. Да, договор может быть заключен с участником, который подал заявку на конкурентный отбор, полностью соответствующую техническому заданию и не отклоненную службой безопасности.\\n\\n2. Возможные шаги и процедуры в данной ситуации включают:\\n   - Проверку соответствия заявки участника требованиям технического задания и документации о конкурентном отборе.\\n   - Анализ и оценку заявки участника на соответствие критериям отбора.\\n   - Принятие решения о заключении договора с участником, если его заявка соответствует требованиям и критериям отбора.\\n   - Подписание договора между участником и заказчиком на условиях, указанных в документации о конкурентном отборе и в заявке участника.\\n   - Обеспечение исполнения договора, если это было установлено требованием документации о конкурентном отборе.\\n\\nОднако, необходимо учитывать, что в случае уклонения участника от заключения договора или непредставления обеспечения исполнения договора, заказчик может принять решение о признании запроса котировок несостоявшимся и объявить новую закупку.'"
      ]
     },
     "execution_count": 266,
     "metadata": {},
     "output_type": "execute_result"
    }
   ],
   "source": [
    "answer = response['answer']\n",
    "answer"
   ]
  },
  {
   "cell_type": "code",
   "execution_count": 39,
   "metadata": {},
   "outputs": [
    {
     "data": {
      "text/plain": [
       "['14.7.3. В случае установления факта подачи одним участником закупки двух и более заявок на участие в конкурентном отборе при условии, что поданные ранее заявки на участие в конкурентном отборе таким участником не отозваны, все заявки на участие в конкурентном отборе такого участника закупки, поданные в отношении данного конкурентного отбора, не принимаются к рассмотрению.\\n14.7.4. В случае признания конкурентного отбора несостоявшимся Заказчик (Организатор) вправе провести повторный конкурентный отбор, закупку иным способом либо Заказчик вправе заключить договор с единственным поставщиком (подрядчиком исполнителем) в соответствии с пунктом 17.1.8.\\n14.7.5. В случае если по истечении срока подачи заявок на участие в конкурентном отборе подана только одна заявка, то такая заявка на участие в конкурентном отборе вскрывается (к ней открывается доступ), проводится ее анализ рассмотрение, оценка и сопоставление в порядке, установленном документацией о конкурентном отборе.',\n",
       " '14.11.13. Если объявленные в ходе проведения процедуры повышения стартовой цены условия о цене договора, не превышающие начальную (максимальную) цену предмета закупки (лота), не приняты ни одним участником, конкурентный отбор с повышением стартовой цены признается несостоявшимся.\\n14.12. Заключение и исполнение договора по результатам конкурентного отбора\\n14.12.1. Договор по результатам конкурентного отбора заключается победителем-поставщиком (подрядчиком, исполнителем), определенным в итоговом протоколе, на условиях, указанных в документации о конкурентном отборе и в заявке поданной участником конкурентного отбора, с которым заключается договор.\\n14.12.2. Цена договора, заключаемого по итогам конкурентного отбора, не може превышать начальную (максимальную) цену договора (цену лота), установленную Организатором (Заказчиком) при проведении конкурентного отбора, цену договора указанную в заявке участника, с которым заключается договор, и может быть снижена по соглашению сторон.',\n",
       " '13.2.2. В случае если победитель запроса котировок или участник запрос котировок, который сделал предпоследнее предложение о цене договора, в срок предусмотренный извещением о запросе котировок, не представил Заказчику подписанный договор, победитель запроса котировок или участник запроса котировок который сделал предпоследнее предложение о цене договора, признается уклонившимс от заключения договора.\\n13.2.3. В случае если победитель запроса котировок признан уклонившимся о заключения договора, Заказчик вправе заключить договор с участником запрос котировок, который сделал предпоследнее предложение о цене договора.\\n13.2.4. Обеспечение заявок на участие в запросе котировок не возвращается в случае уклонения участника запроса котировок, с которым заключается договор, от заключения договора, в том числе в случае непредставления обеспечения исполнения договора, если было установлено требование обеспечения исполнения договора.',\n",
       " '13.2.5. В случае уклонения участника запроса котировок, который сделал предпоследнее предложение о цене договора, от заключения договора Заказчик Организатор вправе принять решение о признании запроса котировок несостоявшимся.\\n14. КОНКУРЕНТНЫЙ ОТБОР\\n14.1. Общие положения\\n14.1.1. Конкурентный отбор проводится по правилам, предусмотренным разделом 7, а также разделом 8 в случае, если конкурентный отбор проводится в электронной форме, с учётом особенностей, установленных настоящим разделом.\\n14.1.2. Конкурентный отбор проводится в электронной форме, если такая возможность технически доступна Организатору и иное (бумажная форма) не определено решением Центрального органа управления закупками.\\n14.1.3. Конкурентный отбор может проводиться в несколько этапов предусмотренных пунктами 10.3.1.1, 10.3.1.2, 12.5, 14.11 в соответствии с документацией о конкурентном отборе.',\n",
       " '14.12.6. В случае если определенный по результатам конкурентного отбор поставщик (подрядчик, исполнитель) уклонился от заключения договора, или не предоставил обеспечение исполнения договора, если в документации о конкурентном отборе было установлено такое требование, Заказчик незамедлительно уведомляет Организатора о таких фактах. Организатор должен истребовать предоставленное таким участником закупки обеспечение заявки на участие в конкурентном отборе, если такое обеспечение было предусмотрено документацией о конкурентном отборе. Комисси вправе пересмотреть итоги (результаты) конкурентного отбора и определить другого поставщика (подрядчика, исполнителя), или Организатор объявляет новую закупку.\\n14.12.7. Если договор по результатам конкурентного отбора в соответствии настоящим Положением в установленном в документации о конкурентной закупке порядке и сроки не заключен, Комиссия вправе отменить решение о результатах конкурентного отбора.',\n",
       " '14.12.3. Определенный по результатам конкурентного отбора поставщик (подрядчик, исполнитель) в течение срока, установленного документацией о конкурентном отборе и/или в уведомлении о результатах конкурентного отбора, должен представить Заказчику подписанный им текст договора на условиях, содержащихся в документации о конкурентном отборе и поданной им заявке на участие в конкурентном отборе.\\n14.12.4. В случае если участник закупки, определенный по результатам конкурентного отбора поставщиком (подрядчиком, исполнителем), не предоставил Заказчику в установленный срок подписанный со своей стороны проект договора подготовленный в соответствии с пунктом 14.12.1, либо обеспечение исполнения договора, если такое требование было установлено документацией о конкурентном отборе, такой участник считается уклонившимся от заключения договора.',\n",
       " '13.2.3. В случае если победитель запроса котировок признан уклонившимся о заключения договора, Заказчик вправе заключить договор с участником запрос котировок, который сделал предпоследнее предложение о цене договора.',\n",
       " '13.1.12. Если при проведении запроса котировок только одна заявка участника конкурентной закупки не была отклонена, то такая заявка оценивается и сопоставляется в порядке, установленном извещением о проведении запроса котировок.\\n13.1.13. Заявке на участие в запросе котировок в электронной форме содержащей наименьшее ценовое предложение, присваивается первый номер.\\n13.1.14. В случае подачи только заявки на участие в запросе котировок Комиссия вправе признать запрос котировок несостоявшимся.\\n13.2. Заключение и исполнение договора по итогам запроса котировок\\n13.2.1. Договор заключается на условиях, указанных в извещении о проведении запроса котировок, по цене, предложенной победителем запроса котировок, либо в случа заключения договора с участником запроса котировок, который сделал предпоследне предложение о цене договора, по цене, предложенной таким участником.',\n",
       " '10.5.1. Договор по результатам конкурса заключается с победителем конкурса, в случае отказа победителя конкурса, или в случае если победитель уклонился о заключения договора либо не представил обеспечение исполнения договора, если в конкурсной документации было установлено такое требование, Заказчик вправ заключить договор с другим участником конкурса, заявка которого содержит лучшие по отношению к другим участникам конкурса условия исполнения договора.\\n10.5.2. Договор по результатам конкурса заключается на условиях, указанных в конкурсной документации и в заявке на участие в конкурсе, поданной участником конкурса, с которым заключается договор. При заключении договора по итогам конкурс цена такого договора не может превышать установленную Заказчиком (Организатором начальную (максимальную) цену договора (цену лота), цену договора, указанную в конкурсной заявке участника, с которым заключается договор, и может быть снижена по соглашению сторон.\\n11. АУКЦИОН\\n11.1. Общие положения',\n",
       " '14.12.6. В случае если определенный по результатам конкурентного отбор поставщик (подрядчик, исполнитель) уклонился от заключения договора, или не предоставил обеспечение исполнения договора, если в документации о конкурентном отборе было установлено такое требование, Заказчик незамедлительно уведомляет Организатора о таких фактах. Организатор должен истребовать предоставленное таким участником закупки обеспечение заявки на участие в конкурентном отборе, если такое обеспечение было предусмотрено документацией о конкурентном отборе. Комисси вправе пересмотреть итоги (результаты) конкурентного отбора и определить другого поставщика (подрядчика, исполнителя), или Организатор объявляет новую закупку.']"
      ]
     },
     "execution_count": 39,
     "metadata": {},
     "output_type": "execute_result"
    }
   ],
   "source": [
    "source_documents = [doc.page_content for doc in response['source_documents']]\n",
    "source_documents"
   ]
  },
  {
   "cell_type": "code",
   "execution_count": 52,
   "metadata": {},
   "outputs": [
    {
     "name": "stdout",
     "output_type": "stream",
     "text": [
      "['ПоЗ', 'ПоЗ', 'ПоЗ', 'ПоЗ', 'ПоЗ', 'ПоЗ', '13.2.3.', 'ПоЗ', 'ПоЗ', '14.12.6.']\n"
     ]
    }
   ],
   "source": [
    "def get_bullets_or_source(response):\n",
    "    bullets = []\n",
    "    for doc in response['source_documents']:\n",
    "        bullet = doc.metadata.get('bullet')\n",
    "        if bullet is None:\n",
    "            bullet = doc.metadata.get('source')\n",
    "        bullets.append(bullet)\n",
    "    return bullets\n",
    "\n",
    "meta = get_bullets_or_source(response)\n",
    "print(meta)"
   ]
  },
  {
   "cell_type": "code",
   "execution_count": 40,
   "metadata": {},
   "outputs": [
    {
     "data": {
      "text/plain": [
       "'Отсутствуют'"
      ]
     },
     "execution_count": 40,
     "metadata": {},
     "output_type": "execute_result"
    }
   ],
   "source": [
    "mentioned_bullets = find_relevant_bullets(inquiry)\n",
    "mentioned_bullets"
   ]
  },
  {
   "cell_type": "markdown",
   "metadata": {},
   "source": [
    "## Test"
   ]
  },
  {
   "cell_type": "markdown",
   "metadata": {},
   "source": [
    "#### Telegram"
   ]
  },
  {
   "cell_type": "code",
   "execution_count": null,
   "metadata": {},
   "outputs": [],
   "source": [
    "user_conversations = {}\n",
    "bot = telebot.TeleBot(BOT_TOKEN)"
   ]
  },
  {
   "cell_type": "code",
   "execution_count": null,
   "metadata": {},
   "outputs": [],
   "source": [
    "@bot.message_handler(content_types=['audio', 'video', 'document', 'photo', 'sticker', 'voice', 'location', 'contact'])\n",
    "def not_text(message):\n",
    "    user_id = message.chat.id\n",
    "    bot.send_message(user_id, 'Я работаю только с текстовыми сообщениями!')\n",
    "\n",
    "@bot.message_handler(content_types=['text'])\n",
    "\n",
    "def handle_text_message(message):\n",
    "    user_id = message.chat.id\n",
    "    extracted_question = extract_question_one(message.text)\n",
    "\n",
    "    response = chain.invoke({\"question\": extracted_question}, return_only_outputs = False)\n",
    "\n",
    "    bot.send_message(user_id, str(response['answer']))\n",
    "    sleep(2)"
   ]
  },
  {
   "cell_type": "code",
   "execution_count": null,
   "metadata": {},
   "outputs": [],
   "source": [
    "bot.polling(none_stop=True)"
   ]
  },
  {
   "cell_type": "markdown",
   "metadata": {},
   "source": [
    "#### Responses"
   ]
  },
  {
   "cell_type": "code",
   "execution_count": 260,
   "metadata": {},
   "outputs": [],
   "source": [
    "responses = pd.DataFrame(columns = ['letter', 'extracted questions', 'answer', 'rag answer', 'sources', 'mentioned bullets'])\n",
    "\n",
    "for letter in range(1, 21):\n",
    "\n",
    "    inquiry = str(reference['letter'][letter-1].replace('\\n', ' ')) # letters from excel\n",
    "    refer = str(reference['answer '][letter-1]).replace('\\n', ' ') # reference answer from excel\n",
    "\n",
    "    question = extract_question_three(inquiry)\n",
    "    response = chain.invoke({\"question\": question}, return_only_outputs = False)\n",
    "    rag_answer = response['answer']\n",
    "    sources = get_bullets_or_source(response)\n",
    "    mentioned_bullets= str(find_relevant_bullets(inquiry)).replace('/', ' ')\n",
    "\n",
    "    responses = pd.concat([responses, pd.DataFrame({'letter': [inquiry], \n",
    "                                                    'extracted questions': [question], \n",
    "                                                    'answer': [refer], \n",
    "                                                    'rag answer': [rag_answer], \n",
    "                                                    'sources': [sources],\n",
    "                                                    'mentioned bullets': [mentioned_bullets]})\n",
    "                                                    ], ignore_index = True)"
   ]
  },
  {
   "cell_type": "code",
   "execution_count": 261,
   "metadata": {},
   "outputs": [
    {
     "data": {
      "text/html": [
       "<div>\n",
       "<style scoped>\n",
       "    .dataframe tbody tr th:only-of-type {\n",
       "        vertical-align: middle;\n",
       "    }\n",
       "\n",
       "    .dataframe tbody tr th {\n",
       "        vertical-align: top;\n",
       "    }\n",
       "\n",
       "    .dataframe thead th {\n",
       "        text-align: right;\n",
       "    }\n",
       "</style>\n",
       "<table border=\"1\" class=\"dataframe\">\n",
       "  <thead>\n",
       "    <tr style=\"text-align: right;\">\n",
       "      <th></th>\n",
       "      <th>letter</th>\n",
       "      <th>extracted questions</th>\n",
       "      <th>answer</th>\n",
       "      <th>rag answer</th>\n",
       "      <th>sources</th>\n",
       "      <th>mentioned bullets</th>\n",
       "    </tr>\n",
       "  </thead>\n",
       "  <tbody>\n",
       "    <tr>\n",
       "      <th>0</th>\n",
       "      <td>Уважаемые коллеги,  Добрый день! У меня возник...</td>\n",
       "      <td>1. Какие методы допустимы при расчете начально...</td>\n",
       "      <td>Согласно пункту 5.11 ПоЗ, при закупках товаров...</td>\n",
       "      <td>Для расчета начальной максимальной цены (НМЦ) ...</td>\n",
       "      <td>[ПоЗ, ПоЗ, 4.5.13., 5.11., ПоЗ, ПоЗ, 4.5.10., ...</td>\n",
       "      <td>Отсутствуют</td>\n",
       "    </tr>\n",
       "    <tr>\n",
       "      <th>1</th>\n",
       "      <td>Уважаемые коллеги,  Обращаюсь с вопросом: При ...</td>\n",
       "      <td>1. Кто должен согласовать диапазон цен при аре...</td>\n",
       "      <td>Согласно СК-03.03.02.01 Проведение закупки у е...</td>\n",
       "      <td>Для согласования диапазона цен при аренде АЗС ...</td>\n",
       "      <td>[3.2., Закупка у ЕдП Приложение 2, Закупка у Е...</td>\n",
       "      <td>Отсутствуют</td>\n",
       "    </tr>\n",
       "    <tr>\n",
       "      <th>2</th>\n",
       "      <td>Уважаемые коллеги,  У меня вопрос, связанный с...</td>\n",
       "      <td>1. Может ли быть заключен договор с участником...</td>\n",
       "      <td>пункт 17.1.8. в случае, когда на участие в кон...</td>\n",
       "      <td>1. Участник, который подал заявку на конкурент...</td>\n",
       "      <td>[ПоЗ, ПоЗ, ПоЗ, ПоЗ, ПоЗ, ПоЗ, ПоЗ, ПоЗ, ПоЗ, ...</td>\n",
       "      <td>Отсутствуют</td>\n",
       "    </tr>\n",
       "    <tr>\n",
       "      <th>3</th>\n",
       "      <td>Уважаемые участники,  Обращаюсь с вопросом, ка...</td>\n",
       "      <td>1. Какие требования и правила применяются к ко...</td>\n",
       "      <td>Согласно пункту 1.2.43 ПоЗ, участником закупки...</td>\n",
       "      <td>Для коллективных участников, включая физически...</td>\n",
       "      <td>[ПоЗ, ПоЗ, ПоЗ, ПоЗ, ПоЗ, ПоЗ, ПоЗ, ПоЗ, ПоЗ, ...</td>\n",
       "      <td>Отсутствуют</td>\n",
       "    </tr>\n",
       "    <tr>\n",
       "      <th>4</th>\n",
       "      <td>Добрый день! Подскажите, пожалуйста, по дате з...</td>\n",
       "      <td>1. Какая дата заключения договора ВЗЛ является...</td>\n",
       "      <td>Датой подведения итогов закупки для способа за...</td>\n",
       "      <td>Для ответа на вопросы, связанные с датами закл...</td>\n",
       "      <td>[Формирование ГПЗ, 5.6.2., Формирование ГПЗ, Ф...</td>\n",
       "      <td>Отсутствуют</td>\n",
       "    </tr>\n",
       "  </tbody>\n",
       "</table>\n",
       "</div>"
      ],
      "text/plain": [
       "                                              letter  \\\n",
       "0  Уважаемые коллеги,  Добрый день! У меня возник...   \n",
       "1  Уважаемые коллеги,  Обращаюсь с вопросом: При ...   \n",
       "2  Уважаемые коллеги,  У меня вопрос, связанный с...   \n",
       "3  Уважаемые участники,  Обращаюсь с вопросом, ка...   \n",
       "4  Добрый день! Подскажите, пожалуйста, по дате з...   \n",
       "\n",
       "                                 extracted questions  \\\n",
       "0  1. Какие методы допустимы при расчете начально...   \n",
       "1  1. Кто должен согласовать диапазон цен при аре...   \n",
       "2  1. Может ли быть заключен договор с участником...   \n",
       "3  1. Какие требования и правила применяются к ко...   \n",
       "4  1. Какая дата заключения договора ВЗЛ является...   \n",
       "\n",
       "                                              answer  \\\n",
       "0  Согласно пункту 5.11 ПоЗ, при закупках товаров...   \n",
       "1  Согласно СК-03.03.02.01 Проведение закупки у е...   \n",
       "2  пункт 17.1.8. в случае, когда на участие в кон...   \n",
       "3  Согласно пункту 1.2.43 ПоЗ, участником закупки...   \n",
       "4  Датой подведения итогов закупки для способа за...   \n",
       "\n",
       "                                          rag answer  \\\n",
       "0  Для расчета начальной максимальной цены (НМЦ) ...   \n",
       "1  Для согласования диапазона цен при аренде АЗС ...   \n",
       "2  1. Участник, который подал заявку на конкурент...   \n",
       "3  Для коллективных участников, включая физически...   \n",
       "4  Для ответа на вопросы, связанные с датами закл...   \n",
       "\n",
       "                                             sources mentioned bullets  \n",
       "0  [ПоЗ, ПоЗ, 4.5.13., 5.11., ПоЗ, ПоЗ, 4.5.10., ...       Отсутствуют  \n",
       "1  [3.2., Закупка у ЕдП Приложение 2, Закупка у Е...       Отсутствуют  \n",
       "2  [ПоЗ, ПоЗ, ПоЗ, ПоЗ, ПоЗ, ПоЗ, ПоЗ, ПоЗ, ПоЗ, ...       Отсутствуют  \n",
       "3  [ПоЗ, ПоЗ, ПоЗ, ПоЗ, ПоЗ, ПоЗ, ПоЗ, ПоЗ, ПоЗ, ...       Отсутствуют  \n",
       "4  [Формирование ГПЗ, 5.6.2., Формирование ГПЗ, Ф...       Отсутствуют  "
      ]
     },
     "execution_count": 261,
     "metadata": {},
     "output_type": "execute_result"
    }
   ],
   "source": [
    "responses.head()"
   ]
  },
  {
   "cell_type": "code",
   "execution_count": 262,
   "metadata": {},
   "outputs": [],
   "source": [
    "responses.to_excel('rag_test_three.xlsx', index=False)"
   ]
  },
  {
   "cell_type": "markdown",
   "metadata": {},
   "source": [
    "## Compute Score"
   ]
  },
  {
   "cell_type": "code",
   "execution_count": null,
   "metadata": {},
   "outputs": [],
   "source": [
    "from FlagEmbedding import BGEM3FlagModel\n",
    "\n",
    "cross_model = BGEM3FlagModel('BAAI/bge-m3', use_fp16=False)\n",
    "\n",
    "test = pd.read_excel('explore/rag_test_three.xlsx') # read xlsx test file\n",
    "\n",
    "def cross_score(model_answer, ans):\n",
    "    score = cross_model.compute_score([ans, model_answer], max_passage_length=128, weights_for_different_modes=[1.0, 1.0, 1.0])['colbert']\n",
    "    return score\n",
    "\n",
    "results = pd.DataFrame(columns=['model_answer', 'reference_answer', 'score'])\n",
    "\n",
    "for letter in range(1, 21):\n",
    "    model_answer = str(test['rag answer'][letter-1].replace('\\n', ' ')) # letters from xlsx\n",
    "    ans = str(test['answer'][letter-1]).replace('\\n', ' ') # reference answer from xlsx\n",
    "\n",
    "    score = cross_score(model_answer, ans)\n",
    "\n",
    "\n",
    "    current_result = pd.DataFrame({\n",
    "        'model_answer': [model_answer],\n",
    "        'reference_answer': [ans],\n",
    "        'score': [score]\n",
    "    })\n",
    "\n",
    "    results = pd.concat([results, current_result], ignore_index=True)\n",
    "\n",
    "results.to_excel('comparison_results.xlsx', index=False)"
   ]
  },
  {
   "cell_type": "code",
   "execution_count": null,
   "metadata": {},
   "outputs": [],
   "source": [
    "test = pd.read_excel('comparison_results.xlsx')"
   ]
  },
  {
   "cell_type": "code",
   "execution_count": null,
   "metadata": {},
   "outputs": [],
   "source": [
    "test['score'][:18]"
   ]
  },
  {
   "cell_type": "code",
   "execution_count": null,
   "metadata": {},
   "outputs": [],
   "source": [
    "test['score'][:18].mean()"
   ]
  },
  {
   "cell_type": "markdown",
   "metadata": {},
   "source": [
    "#### Basic Queries"
   ]
  },
  {
   "cell_type": "markdown",
   "metadata": {},
   "source": [
    "[Cypher](https://neo4j.com/docs/cypher-cheat-sheet/5/auradb-enterprise)"
   ]
  },
  {
   "cell_type": "code",
   "execution_count": 41,
   "metadata": {},
   "outputs": [
    {
     "name": "stdout",
     "output_type": "stream",
     "text": [
      "Node properties are the following:\n",
      "Chunk {embedding: LIST, id: STRING, text: STRING, source: STRING, bullet: STRING},Document {embedding: LIST, id: STRING, text: STRING, source: STRING, bullet: STRING},Test {embedding: LIST, id: STRING, text: STRING, source: STRING, bullet: STRING},Bullet {embedding: LIST, id: STRING, text: STRING, source: STRING, bullet: STRING}\n",
      "Relationship properties are the following:\n",
      "\n",
      "The relationships are the following:\n",
      "\n"
     ]
    }
   ],
   "source": [
    "print(graph.schema)"
   ]
  },
  {
   "cell_type": "code",
   "execution_count": 42,
   "metadata": {},
   "outputs": [
    {
     "name": "stderr",
     "output_type": "stream",
     "text": [
      "Failed to write data to connection ResolvedIPv4Address(('34.126.171.25', 7687)) (ResolvedIPv4Address(('34.126.171.25', 7687)))\n",
      "Failed to write data to connection IPv4Address(('7c47bfc7.databases.neo4j.io', 7687)) (ResolvedIPv4Address(('34.126.171.25', 7687)))\n"
     ]
    },
    {
     "data": {
      "text/plain": [
       "[{'id': 2,\n",
       "  'name': 'Document',\n",
       "  'state': 'ONLINE',\n",
       "  'populationPercent': 100.0,\n",
       "  'type': 'VECTOR',\n",
       "  'entityType': 'NODE',\n",
       "  'labelsOrTypes': ['Document'],\n",
       "  'properties': ['embedding'],\n",
       "  'indexProvider': 'vector-2.0',\n",
       "  'owningConstraint': None,\n",
       "  'lastRead': neo4j.time.DateTime(2024, 4, 22, 9, 24, 24, 98000000, tzinfo=<UTC>),\n",
       "  'readCount': 1075},\n",
       " {'id': 16,\n",
       "  'name': 'bullet',\n",
       "  'state': 'ONLINE',\n",
       "  'populationPercent': 100.0,\n",
       "  'type': 'VECTOR',\n",
       "  'entityType': 'NODE',\n",
       "  'labelsOrTypes': ['Bullet'],\n",
       "  'properties': ['embedding'],\n",
       "  'indexProvider': 'vector-2.0',\n",
       "  'owningConstraint': None,\n",
       "  'lastRead': neo4j.time.DateTime(2024, 4, 23, 19, 47, 17, 663000000, tzinfo=<UTC>),\n",
       "  'readCount': 146},\n",
       " {'id': 13,\n",
       "  'name': 'testis',\n",
       "  'state': 'ONLINE',\n",
       "  'populationPercent': 100.0,\n",
       "  'type': 'VECTOR',\n",
       "  'entityType': 'NODE',\n",
       "  'labelsOrTypes': ['Test'],\n",
       "  'properties': ['embedding'],\n",
       "  'indexProvider': 'vector-2.0',\n",
       "  'owningConstraint': None,\n",
       "  'lastRead': None,\n",
       "  'readCount': 0},\n",
       " {'id': 8,\n",
       "  'name': 'vector',\n",
       "  'state': 'ONLINE',\n",
       "  'populationPercent': 100.0,\n",
       "  'type': 'VECTOR',\n",
       "  'entityType': 'NODE',\n",
       "  'labelsOrTypes': ['Chunk'],\n",
       "  'properties': ['embedding'],\n",
       "  'indexProvider': 'vector-2.0',\n",
       "  'owningConstraint': None,\n",
       "  'lastRead': neo4j.time.DateTime(2024, 4, 21, 8, 34, 50, 316000000, tzinfo=<UTC>),\n",
       "  'readCount': 141}]"
      ]
     },
     "execution_count": 42,
     "metadata": {},
     "output_type": "execute_result"
    }
   ],
   "source": [
    "cypher = \"\"\"\n",
    "         SHOW VECTOR INDEXES\n",
    "         \"\"\"\n",
    "graph.query(cypher)"
   ]
  },
  {
   "cell_type": "code",
   "execution_count": 43,
   "metadata": {},
   "outputs": [
    {
     "data": {
      "text/plain": [
       "[{'count(n)': 3982}]"
      ]
     },
     "execution_count": 43,
     "metadata": {},
     "output_type": "execute_result"
    }
   ],
   "source": [
    "cypher = \"\"\"\n",
    "         MATCH (n)\n",
    "         RETURN count(n)\n",
    "         \"\"\"\n",
    "graph.query(cypher)"
   ]
  },
  {
   "cell_type": "code",
   "execution_count": 44,
   "metadata": {},
   "outputs": [
    {
     "data": {
      "text/plain": [
       "[{'text': '2.1. Планирование закупок ПАО «Компания 1» и Обществ Компания 1 осуществляется путем составления годового плана закупок ПАО «Компания 1» и Обществ Компания 1 на календарный год (далее также – Годовой план закупок), а также планов закупок Заказчиков. Годовой план закупок является основанием для осуществления закупок. Перечень конкурентных и неконкурентных закупок определенного Заказчика, включенных в Годовой план закупок, включается Заказчиком в состав плана закупок Заказчика.'},\n",
       " {'text': '2.1. В настоящем стандарте содержатся ссылки на следующие нормативные и организационно-распорядительные документы Группы компаний ГПН: КТ-004 «Термины и сокращения» ; ПК-00 «Управление системой стандартизации»; М-13.07.11-01 «Методика определения лимита авансового платежа контрагентам при закупке товаров, работ, услуг»; Положение о закупках товаров, работ, услуг ПАО\\xa0«Компания 1», утвержденное решением Совета директоров ПАО\\xa0«Компания 1» 29\\xa0марта 2019 года, протокол №\\xa0ПТ-0102/14; Приказ Компании 45-П от 11.05.2022 г. «Об особенностях применения Положения о закупках товаров, работ, услуг и нормативно-методических документов в области закупочной деятельности»; Приказ Компании 54-П от 26.05.2022 г. «О закупках импортных товаров, работ, услуг»; Приказ Компании 80-П от 13.10.2023 г. «О порядке оплаты товаров, работ, услуг на условиях авансирования»; Положение Компании О Комиссии по контролю за закупками импортных товаров, работ, услуг от 16.09.2022, протокол № ПТ-НК-10/00714/01; СК-03.02.01'},\n",
       " {'text': '«Формирование Годового плана закупок»; СК-08.02.01 «Документы группы компаний ГПН. Порядок подготовки, согласования, подписания и регистрации договорных документов в системе электронного документооборота»; Ш-03.03.02.01-01 Решение о закупке у ЕдП (НМЦ менее 10 млн руб. без НДС); Ш-03.03.02.01-02 Решение о закупке у ЕдП (НМЦ 10 млн руб. без НДС и более); Ш-03.03.02.01-03 Заключение по итогам анализа рынка; Ш-03.03.02.01-04 Комплект документов для закупок услуг по авторскому контролю за разработкой проектной документации; Ш-03.03.02.01-05 Запрос технико-коммерческих предложений для анализа рынка; Ш-03.03.02.01-06 Бюллетень для голосования члена Сметной комиссии; Ш-03.03.02.01-07 Письмо в адрес Утверждающего лица; Ш-03.03.02.01-08 Уведомление Инициатору по результатам закупки у ЕдП; Ш-03.03.02.01-09 Информация о планируемой закупке по системам безопасности; Ш-03.03.02.01-10 Комплект документов для закупок по системам безопасности'},\n",
       " {'text': '3. Термины и сокращения '},\n",
       " {'text': '2.1. Сформированная потребность по закупкам, связанным с системами безопасности, подлежит обязательному согласованию с Дирекцией корпоративной защиты ПАО «Компания 1» (оформляется в соответствии с Ш-03.03.02.01-09).'}]"
      ]
     },
     "execution_count": 44,
     "metadata": {},
     "output_type": "execute_result"
    }
   ],
   "source": [
    "cypher = \"\"\"\n",
    "         MATCH (n:Bullet {bullet: \"2.1.\"})\n",
    "         RETURN n.text AS text\n",
    "         \"\"\"\n",
    "graph.query(cypher)"
   ]
  },
  {
   "cell_type": "code",
   "execution_count": 219,
   "metadata": {},
   "outputs": [],
   "source": [
    "def query_bullet(number):\n",
    "    if isinstance(number, str) and number.replace('.', '').isdigit():\n",
    "        number = number.rstrip('.').strip() + '.'\n",
    "    else:\n",
    "        return \"Invalid input. Please enter a bullet number in the format 'number.'\"\n",
    "    \n",
    "    cypher = f\"\"\"\n",
    "                MATCH (n:Bullet)\n",
    "                WHERE n.bullet = '{number}' AND n.bullet IS NOT NULL\n",
    "                RETURN n.text\n",
    "                \"\"\"\n",
    "    try:\n",
    "        result = graph.query(cypher)\n",
    "        if result:\n",
    "            return result\n",
    "        else:\n",
    "            return \"No data found for the specified bullet number.\"\n",
    "    except Exception as e:\n",
    "        return f\"An error occurred: {str(e)}\""
   ]
  },
  {
   "cell_type": "code",
   "execution_count": 232,
   "metadata": {},
   "outputs": [
    {
     "data": {
      "text/plain": [
       "[{'n.text': '1.2. Термины и определения'},\n",
       " {'n.text': '1.2. При распространении НМД через механизм тиражирование:'},\n",
       " {'n.text': '1.2. При проведении закупок для оказания услуг по авторскому контролю за разработкой проектной документации при НМЦ договора 10 млн руб. без НДС и более Инициатор также оформляет комплект документов в соответствии с шаблоном (Ш-03.03.02.01-04).'}]"
      ]
     },
     "execution_count": 232,
     "metadata": {},
     "output_type": "execute_result"
    }
   ],
   "source": [
    "bullet_number = '1.2.'\n",
    "query_bullet(bullet_number)"
   ]
  }
 ],
 "metadata": {
  "kernelspec": {
   "display_name": "base",
   "language": "python",
   "name": "python3"
  },
  "language_info": {
   "codemirror_mode": {
    "name": "ipython",
    "version": 3
   },
   "file_extension": ".py",
   "mimetype": "text/x-python",
   "name": "python",
   "nbconvert_exporter": "python",
   "pygments_lexer": "ipython3",
   "version": "3.8.19"
  },
  "orig_nbformat": 4
 },
 "nbformat": 4,
 "nbformat_minor": 2
}
