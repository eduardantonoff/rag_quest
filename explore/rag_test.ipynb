{
 "cells": [
  {
   "cell_type": "markdown",
   "metadata": {},
   "source": [
    "####  Choose best RAG"
   ]
  },
  {
   "cell_type": "code",
   "execution_count": 4,
   "metadata": {},
   "outputs": [],
   "source": [
    "import os\n",
    "import pandas as pd"
   ]
  },
  {
   "cell_type": "code",
   "execution_count": 5,
   "metadata": {},
   "outputs": [
    {
     "name": "stderr",
     "output_type": "stream",
     "text": [
      "Fetching 30 files: 100%|██████████| 30/30 [00:00<00:00, 56654.26it/s]\n"
     ]
    }
   ],
   "source": [
    "from FlagEmbedding import BGEM3FlagModel\n",
    "\n",
    "cross_model = BGEM3FlagModel('BAAI/bge-m3', use_fp16=False)\n",
    "\n",
    "test = pd.read_excel('../explore/rag_test_three.xlsx') # read xlsx test file\n",
    "\n",
    "def cross_score(model_answer, ans):\n",
    "    score = cross_model.compute_score([ans, model_answer], max_passage_length=128, weights_for_different_modes=[1.0, 1.0, 1.0])['colbert']\n",
    "    return score\n"
   ]
  },
  {
   "cell_type": "code",
   "execution_count": 23,
   "metadata": {},
   "outputs": [
    {
     "data": {
      "text/html": [
       "<div>\n",
       "<style scoped>\n",
       "    .dataframe tbody tr th:only-of-type {\n",
       "        vertical-align: middle;\n",
       "    }\n",
       "\n",
       "    .dataframe tbody tr th {\n",
       "        vertical-align: top;\n",
       "    }\n",
       "\n",
       "    .dataframe thead th {\n",
       "        text-align: right;\n",
       "    }\n",
       "</style>\n",
       "<table border=\"1\" class=\"dataframe\">\n",
       "  <thead>\n",
       "    <tr style=\"text-align: right;\">\n",
       "      <th></th>\n",
       "      <th>Embedding</th>\n",
       "      <th>Vector store</th>\n",
       "      <th>Text Splitting</th>\n",
       "      <th>Prompt</th>\n",
       "    </tr>\n",
       "  </thead>\n",
       "  <tbody>\n",
       "    <tr>\n",
       "      <th>rag_test_one</th>\n",
       "      <td>GigaChat</td>\n",
       "      <td>Neo4j (hybrid search)</td>\n",
       "      <td>Custom Text Splitter</td>\n",
       "      <td>Prompts Var. 1</td>\n",
       "    </tr>\n",
       "    <tr>\n",
       "      <th>rag_test_two</th>\n",
       "      <td>GigaChat</td>\n",
       "      <td>Neo4j</td>\n",
       "      <td>Custom Text Splitter</td>\n",
       "      <td>Prompts Var. 2</td>\n",
       "    </tr>\n",
       "    <tr>\n",
       "      <th>rag_test_three</th>\n",
       "      <td>GigaChat</td>\n",
       "      <td>chroma</td>\n",
       "      <td>LangChain Recursive Text Splitter</td>\n",
       "      <td>Prompts Var. 3</td>\n",
       "    </tr>\n",
       "    <tr>\n",
       "      <th>rag_test_vector</th>\n",
       "      <td>GigaChat</td>\n",
       "      <td>chroma</td>\n",
       "      <td>LangChain Recursive Text Splitter</td>\n",
       "      <td>Prompts Var. 4</td>\n",
       "    </tr>\n",
       "  </tbody>\n",
       "</table>\n",
       "</div>"
      ],
      "text/plain": [
       "                Embedding           Vector store  \\\n",
       "rag_test_one     GigaChat  Neo4j (hybrid search)   \n",
       "rag_test_two     GigaChat                  Neo4j   \n",
       "rag_test_three   GigaChat                 chroma   \n",
       "rag_test_vector  GigaChat                 chroma   \n",
       "\n",
       "                                    Text Splitting          Prompt  \n",
       "rag_test_one                  Custom Text Splitter  Prompts Var. 1  \n",
       "rag_test_two                  Custom Text Splitter  Prompts Var. 2  \n",
       "rag_test_three   LangChain Recursive Text Splitter  Prompts Var. 3  \n",
       "rag_test_vector  LangChain Recursive Text Splitter  Prompts Var. 4  "
      ]
     },
     "execution_count": 23,
     "metadata": {},
     "output_type": "execute_result"
    }
   ],
   "source": [
    "# dicts = [\n",
    "#     ('Embedding', ['GigaChat', 'GigaChat', 'GigaChat''GigaChat']), \n",
    "#     ('Vector store', ['Neo4j (hybrid search)', 'Neo4j', 'chroma', 'chroma']),\n",
    "#     ('Text Splitting', ['Custom Text Splitter', 'Custom Text Splitter', 'LangChain Recursive Text Splitter', 'LangChain Recursive Text Splitter']),\n",
    "#     ('Prompt', ['Prompts Var. 1', 'Prompts Var. 2', 'Prompts Var. 3', 'Prompts Var. 4'])\n",
    "#     ]\n",
    "import numpy as np\n",
    "# dicts = [\n",
    "#     ('GigaChat', 'GigaChat', 'GigaChat', 'GigaChat'), \n",
    "#     ('Neo4j (hybrid search)', 'Neo4j', 'chroma', 'chroma'),\n",
    "#     ('Custom Text Splitter', 'Custom Text Splitter', 'LangChain Recursive Text Splitter', 'LangChain Recursive Text Splitter'),\n",
    "#     ('Prompts Var. 1', 'Prompts Var. 2', 'Prompts Var. 3', 'Prompts Var. 4')\n",
    "#     ]\n",
    "records = [\n",
    "    ('GigaChat', 'Neo4j (hybrid search)', 'Custom Text Splitter', 'Prompts Var. 1'), \n",
    "    ('GigaChat', 'Neo4j', 'Custom Text Splitter', 'Prompts Var. 2'),\n",
    "    ('GigaChat', 'chroma', 'LangChain Recursive Text Splitter', 'Prompts Var. 3'),\n",
    "    ('GigaChat', 'chroma', 'LangChain Recursive Text Splitter', 'Prompts Var. 4')\n",
    "    ]\n",
    "# print(np.ndarray(dicts))\n",
    "columns = ['Embedding', 'Vector store', 'Text Splitting', 'Prompt']\n",
    "index = ['rag_test_one', 'rag_test_two', 'rag_test_three', 'rag_test_vector']\n",
    "rag_test_model_info = pd.DataFrame.from_records(records, columns=columns, index=index)\n",
    "rag_test_model_info"
   ]
  },
  {
   "cell_type": "code",
   "execution_count": 17,
   "metadata": {},
   "outputs": [
    {
     "data": {
      "text/html": [
       "<div>\n",
       "<style scoped>\n",
       "    .dataframe tbody tr th:only-of-type {\n",
       "        vertical-align: middle;\n",
       "    }\n",
       "\n",
       "    .dataframe tbody tr th {\n",
       "        vertical-align: top;\n",
       "    }\n",
       "\n",
       "    .dataframe thead th {\n",
       "        text-align: right;\n",
       "    }\n",
       "</style>\n",
       "<table border=\"1\" class=\"dataframe\">\n",
       "  <thead>\n",
       "    <tr style=\"text-align: right;\">\n",
       "      <th></th>\n",
       "      <th>answer</th>\n",
       "      <th>rag answer</th>\n",
       "    </tr>\n",
       "  </thead>\n",
       "  <tbody>\n",
       "    <tr>\n",
       "      <th>0</th>\n",
       "      <td>Согласно пункту 5.11 ПоЗ, при закупках товаров...</td>\n",
       "      <td>1. Допустимо ли при расчете НМЦ указывать орие...</td>\n",
       "    </tr>\n",
       "    <tr>\n",
       "      <th>1</th>\n",
       "      <td>Согласно СК-03.03.02.01 Проведение закупки у е...</td>\n",
       "      <td>Диапазон цен при осуществлении закупки у единс...</td>\n",
       "    </tr>\n",
       "    <tr>\n",
       "      <th>2</th>\n",
       "      <td>пункт 17.1.8. в случае, когда на участие в кон...</td>\n",
       "      <td>1. Да, договор может быть заключен с участнико...</td>\n",
       "    </tr>\n",
       "    <tr>\n",
       "      <th>3</th>\n",
       "      <td>Согласно пункту 1.2.43 ПоЗ, участником закупки...</td>\n",
       "      <td>1. Коллективные участники, представленные физи...</td>\n",
       "    </tr>\n",
       "    <tr>\n",
       "      <th>4</th>\n",
       "      <td>Датой подведения итогов закупки для способа за...</td>\n",
       "      <td>1. В документах не указана конкретная дата зак...</td>\n",
       "    </tr>\n",
       "  </tbody>\n",
       "</table>\n",
       "</div>"
      ],
      "text/plain": [
       "                                              answer  \\\n",
       "0  Согласно пункту 5.11 ПоЗ, при закупках товаров...   \n",
       "1  Согласно СК-03.03.02.01 Проведение закупки у е...   \n",
       "2  пункт 17.1.8. в случае, когда на участие в кон...   \n",
       "3  Согласно пункту 1.2.43 ПоЗ, участником закупки...   \n",
       "4  Датой подведения итогов закупки для способа за...   \n",
       "\n",
       "                                          rag answer  \n",
       "0  1. Допустимо ли при расчете НМЦ указывать орие...  \n",
       "1  Диапазон цен при осуществлении закупки у единс...  \n",
       "2  1. Да, договор может быть заключен с участнико...  \n",
       "3  1. Коллективные участники, представленные физи...  \n",
       "4  1. В документах не указана конкретная дата зак...  "
      ]
     },
     "execution_count": 17,
     "metadata": {},
     "output_type": "execute_result"
    }
   ],
   "source": [
    "explore = '../explore/'\n",
    "answer_columns = ['answer', 'rag answer']\n",
    "\n",
    "\n",
    "\n",
    "rag_test_filenames = ['rag_test_one', 'rag_test_two', 'rag_test_three', 'rag_test_vector']\n",
    "rag_test_extension = '.xlsx'\n",
    "rag_test_paths = map(lambda x: os.path.join(explore, x + rag_test_extension), rag_test_filenames)\n",
    "rag_test_dfs = list(\n",
    "    map(\n",
    "        lambda x: (pd.read_excel(x, usecols=answer_columns)).dropna(),\n",
    "        rag_test_paths\n",
    "        )\n",
    "    )\n",
    "\n",
    "rag_test_dfs[0].head()"
   ]
  },
  {
   "cell_type": "code",
   "execution_count": 18,
   "metadata": {},
   "outputs": [],
   "source": [
    "def count_row_score(row):\n",
    "    return cross_score(ans = row[answer_columns[0]], model_answer = row[answer_columns[1]])\n",
    "\n",
    "rag_test_scores = pd.DataFrame()\n",
    "for rag_test_index, filename in enumerate(rag_test_filenames):\n",
    "    rag_test_scores[filename] = (rag_test_dfs[rag_test_index].apply(count_row_score, axis=1))\n"
   ]
  },
  {
   "cell_type": "code",
   "execution_count": 32,
   "metadata": {},
   "outputs": [],
   "source": [
    "rag_test_scores_df = rag_test_scores.mean(axis=0).to_frame('cross_score')\n",
    "rag_test_df = rag_test_model_info.join(rag_test_scores_df)\n",
    "rag_test_df = rag_test_df.reset_index()"
   ]
  },
  {
   "cell_type": "code",
   "execution_count": 22,
   "metadata": {},
   "outputs": [
    {
     "data": {
      "text/plain": [
       "'/api/docs/query/1'"
      ]
     },
     "execution_count": 22,
     "metadata": {},
     "output_type": "execute_result"
    }
   ],
   "source": [
    "# !pip3 install plotly\n",
    "# !pip3 install kaleido"
   ]
  },
  {
   "cell_type": "markdown",
   "metadata": {},
   "source": [
    "#### Create beautiful image table"
   ]
  },
  {
   "cell_type": "code",
   "execution_count": 45,
   "metadata": {},
   "outputs": [],
   "source": [
    "import plotly.figure_factory as ff\n",
    "import pandas as pd\n",
    "\n",
    "fig = ff.create_table(rag_test_df, index = False)\n",
    "fig.update_layout(\n",
    "    autosize=False,\n",
    "    width=1400,\n",
    "    height=200,\n",
    ")\n",
    "\n",
    "fig.write_image(\"/home/viktor/Downloads/table_plotly.png\", scale=2)"
   ]
  }
 ],
 "metadata": {
  "kernelspec": {
   "display_name": ".venv",
   "language": "python",
   "name": "python3"
  },
  "language_info": {
   "codemirror_mode": {
    "name": "ipython",
    "version": 3
   },
   "file_extension": ".py",
   "mimetype": "text/x-python",
   "name": "python",
   "nbconvert_exporter": "python",
   "pygments_lexer": "ipython3",
   "version": "3.11.8"
  }
 },
 "nbformat": 4,
 "nbformat_minor": 2
}
